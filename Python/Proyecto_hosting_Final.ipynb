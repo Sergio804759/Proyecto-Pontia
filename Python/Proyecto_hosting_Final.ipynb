{
  "cells": [
    {
      "cell_type": "markdown",
      "metadata": {
        "id": "sPHqDzr9q1Vt"
      },
      "source": [
        "# Importar librerías"
      ]
    },
    {
      "cell_type": "code",
      "execution_count": null,
      "metadata": {
        "id": "gpmGC7ococSt"
      },
      "outputs": [],
      "source": [
        "import pandas as pd\n",
        "import io\n",
        "import numpy as np\n",
        "import matplotlib.pyplot as plt\n",
        "import seaborn as sns"
      ]
    },
    {
      "cell_type": "markdown",
      "metadata": {
        "id": "2LObYDYtq7rp"
      },
      "source": [
        "# Cargar los datos"
      ]
    },
    {
      "cell_type": "markdown",
      "metadata": {
        "id": "f4fr0nYArITH"
      },
      "source": [
        "## Cargaremos los dos csv de alojamientos turísticos"
      ]
    },
    {
      "cell_type": "code",
      "execution_count": null,
      "metadata": {
        "id": "MNVtmZAtowck"
      },
      "outputs": [],
      "source": [
        "from google.colab import files\n",
        "uploaded = files.upload()"
      ]
    },
    {
      "cell_type": "markdown",
      "metadata": {
        "id": "g265QINxd-ju"
      },
      "source": [
        "Ahora mismo vamos a leer el csv de Airbnb y más adelante el otro csv"
      ]
    },
    {
      "cell_type": "code",
      "execution_count": null,
      "metadata": {
        "colab": {
          "base_uri": "https://localhost:8080/",
          "height": 196
        },
        "id": "mwlEhAnpViK7",
        "outputId": "0715d068-fdcf-455e-c047-24fc9a63e9a9"
      },
      "outputs": [
        {
          "data": {
            "text/html": [
              "<div>\n",
              "<style scoped>\n",
              "    .dataframe tbody tr th:only-of-type {\n",
              "        vertical-align: middle;\n",
              "    }\n",
              "\n",
              "    .dataframe tbody tr th {\n",
              "        vertical-align: top;\n",
              "    }\n",
              "\n",
              "    .dataframe thead th {\n",
              "        text-align: right;\n",
              "    }\n",
              "</style>\n",
              "<table border=\"1\" class=\"dataframe\">\n",
              "  <thead>\n",
              "    <tr style=\"text-align: right;\">\n",
              "      <th></th>\n",
              "      <th>url</th>\n",
              "      <th>name</th>\n",
              "      <th>header</th>\n",
              "      <th>rating_n_reviews</th>\n",
              "      <th>price</th>\n",
              "      <th>superhost</th>\n",
              "      <th>ciudad</th>\n",
              "    </tr>\n",
              "  </thead>\n",
              "  <tbody>\n",
              "    <tr>\n",
              "      <th>0</th>\n",
              "      <td>/rooms/47505891?adults=1&amp;children=0&amp;enable_m3_...</td>\n",
              "      <td>Loft en València</td>\n",
              "      <td>Loft salvaje y acogedor con un estilo Boho jun...</td>\n",
              "      <td>4,98 (249)</td>\n",
              "      <td>101 € por noche, inicialmente 122 €</td>\n",
              "      <td>Anfitrión particular</td>\n",
              "      <td>Valencia</td>\n",
              "    </tr>\n",
              "    <tr>\n",
              "      <th>1</th>\n",
              "      <td>/rooms/997063990758123324?adults=1&amp;children=0&amp;...</td>\n",
              "      <td>Apartamento en València</td>\n",
              "      <td>Loft exclusivo y encantador de 2 DORMITORIOS</td>\n",
              "      <td>5,0 (19)</td>\n",
              "      <td>143 € por noche, inicialmente 158 €</td>\n",
              "      <td>Anfitrión particular</td>\n",
              "      <td>Valencia</td>\n",
              "    </tr>\n",
              "    <tr>\n",
              "      <th>2</th>\n",
              "      <td>/rooms/989715583684599248?adults=1&amp;children=0&amp;...</td>\n",
              "      <td>Apartamento en València</td>\n",
              "      <td>Apartamento con piscina y terraza</td>\n",
              "      <td>4,79 (19)</td>\n",
              "      <td>108 € por noche, inicialmente 143 €</td>\n",
              "      <td>Anfitrión profesional</td>\n",
              "      <td>Valencia</td>\n",
              "    </tr>\n",
              "  </tbody>\n",
              "</table>\n",
              "</div>"
            ],
            "text/plain": [
              "                                                 url                     name  \\\n",
              "0  /rooms/47505891?adults=1&children=0&enable_m3_...         Loft en València   \n",
              "1  /rooms/997063990758123324?adults=1&children=0&...  Apartamento en València   \n",
              "2  /rooms/989715583684599248?adults=1&children=0&...  Apartamento en València   \n",
              "\n",
              "                                              header rating_n_reviews  \\\n",
              "0  Loft salvaje y acogedor con un estilo Boho jun...       4,98 (249)   \n",
              "1       Loft exclusivo y encantador de 2 DORMITORIOS         5,0 (19)   \n",
              "2                  Apartamento con piscina y terraza        4,79 (19)   \n",
              "\n",
              "                                 price              superhost    ciudad  \n",
              "0  101 € por noche, inicialmente 122 €   Anfitrión particular  Valencia  \n",
              "1  143 € por noche, inicialmente 158 €   Anfitrión particular  Valencia  \n",
              "2  108 € por noche, inicialmente 143 €  Anfitrión profesional  Valencia  "
            ]
          },
          "execution_count": 2,
          "metadata": {},
          "output_type": "execute_result"
        }
      ],
      "source": [
        "df = pd.read_csv(\"DF_Proy_Jupiter.csv\")\n",
        "df.head(3)\n",
        "#df = pd.read_csv(\"DF_Proy_Jupiter.csv\", error_bad_lines=False)"
      ]
    },
    {
      "cell_type": "markdown",
      "metadata": {
        "id": "at8cghieOMsA"
      },
      "source": [
        "# Limpieza y transformación del df de Airbnb"
      ]
    },
    {
      "cell_type": "code",
      "execution_count": null,
      "metadata": {
        "id": "elRAWWxCe7Hc"
      },
      "outputs": [],
      "source": [
        "# Separamos el número del resto del texto para poder utilizarlo en el análisis\n",
        "df_limpio = df['price'].str.split(' ', expand=True)[0]"
      ]
    },
    {
      "cell_type": "code",
      "execution_count": null,
      "metadata": {
        "id": "ER9jM_uhe7KJ"
      },
      "outputs": [],
      "source": [
        "df[\"precio_por_noche\"] = df_limpio"
      ]
    },
    {
      "cell_type": "code",
      "execution_count": null,
      "metadata": {
        "id": "c1UrLcYTe7Ma"
      },
      "outputs": [],
      "source": [
        "# Vamos a limpiar la columna de precio quitandole el simbolo de € y cambiando el tipo a float.\n",
        "df['precio_por_noche']= df['precio_por_noche'].str.split('€', expand=True)[0]"
      ]
    },
    {
      "cell_type": "code",
      "execution_count": null,
      "metadata": {
        "id": "xeRkIMOTfHg1"
      },
      "outputs": [],
      "source": [
        "# Eliminamos los registros donde no hay precio.\n",
        "df=df[df['precio_por_noche']!=',']"
      ]
    },
    {
      "cell_type": "code",
      "execution_count": null,
      "metadata": {
        "id": "o_5xZpyQfHjk"
      },
      "outputs": [],
      "source": [
        "# Cambiamos el tipo de datos de la columna precio a float para poder manipularlo y lo transformamos de nuevo a numero entero\n",
        "df['precio_por_noche'] = df['precio_por_noche'].astype(float,copy=True)"
      ]
    },
    {
      "cell_type": "code",
      "execution_count": null,
      "metadata": {
        "id": "2hLoc4Ct_mHg"
      },
      "outputs": [],
      "source": [
        "df[\"precio_por_noche\"] = df[\"precio_por_noche\"].astype(int)"
      ]
    },
    {
      "cell_type": "markdown",
      "metadata": {
        "id": "UYt0xKhNroDP"
      },
      "source": [
        "Vamos a mirar valores outliers ya que pueden ser que esten abiertos a negociacion y eso no nos interesa."
      ]
    },
    {
      "cell_type": "code",
      "execution_count": null,
      "metadata": {
        "colab": {
          "base_uri": "https://localhost:8080/",
          "height": 147
        },
        "id": "Otx-php7SIHj",
        "outputId": "dc1fcf59-6698-476b-d301-5614255a874c"
      },
      "outputs": [
        {
          "data": {
            "text/html": [
              "<div>\n",
              "<style scoped>\n",
              "    .dataframe tbody tr th:only-of-type {\n",
              "        vertical-align: middle;\n",
              "    }\n",
              "\n",
              "    .dataframe tbody tr th {\n",
              "        vertical-align: top;\n",
              "    }\n",
              "\n",
              "    .dataframe thead th {\n",
              "        text-align: right;\n",
              "    }\n",
              "</style>\n",
              "<table border=\"1\" class=\"dataframe\">\n",
              "  <thead>\n",
              "    <tr style=\"text-align: right;\">\n",
              "      <th></th>\n",
              "      <th>url</th>\n",
              "      <th>name</th>\n",
              "      <th>header</th>\n",
              "      <th>rating_n_reviews</th>\n",
              "      <th>price</th>\n",
              "      <th>superhost</th>\n",
              "      <th>ciudad</th>\n",
              "      <th>precio_por_noche</th>\n",
              "    </tr>\n",
              "  </thead>\n",
              "  <tbody>\n",
              "    <tr>\n",
              "      <th>656</th>\n",
              "      <td>/rooms/16607759?adults=1&amp;children=0&amp;enable_m3_...</td>\n",
              "      <td>Apartamento en L'Hospitalet de Llobregat</td>\n",
              "      <td>Llave sagrada</td>\n",
              "      <td>4,18 (261)</td>\n",
              "      <td>1.448 € por noche</td>\n",
              "      <td>Anfitrión profesional</td>\n",
              "      <td>Barcelona</td>\n",
              "      <td>1</td>\n",
              "    </tr>\n",
              "    <tr>\n",
              "      <th>675</th>\n",
              "      <td>/rooms/16607759?adults=1&amp;children=0&amp;enable_m3_...</td>\n",
              "      <td>Apartamento en L'Hospitalet de Llobregat</td>\n",
              "      <td>Llave sagrada</td>\n",
              "      <td>4,18 (261)</td>\n",
              "      <td>1.448 € por noche</td>\n",
              "      <td>Anfitrión profesional</td>\n",
              "      <td>Barcelona</td>\n",
              "      <td>1</td>\n",
              "    </tr>\n",
              "  </tbody>\n",
              "</table>\n",
              "</div>"
            ],
            "text/plain": [
              "                                                   url  \\\n",
              "656  /rooms/16607759?adults=1&children=0&enable_m3_...   \n",
              "675  /rooms/16607759?adults=1&children=0&enable_m3_...   \n",
              "\n",
              "                                         name         header rating_n_reviews  \\\n",
              "656  Apartamento en L'Hospitalet de Llobregat  Llave sagrada       4,18 (261)   \n",
              "675  Apartamento en L'Hospitalet de Llobregat  Llave sagrada       4,18 (261)   \n",
              "\n",
              "                 price              superhost     ciudad  precio_por_noche  \n",
              "656  1.448 € por noche  Anfitrión profesional  Barcelona                 1  \n",
              "675  1.448 € por noche  Anfitrión profesional  Barcelona                 1  "
            ]
          },
          "execution_count": 9,
          "metadata": {},
          "output_type": "execute_result"
        }
      ],
      "source": [
        "df[df[\"precio_por_noche\"] < 31]"
      ]
    },
    {
      "cell_type": "code",
      "execution_count": null,
      "metadata": {
        "id": "Frue3xMDB44V"
      },
      "outputs": [],
      "source": [
        "df=df[df[\"precio_por_noche\"] != 1]"
      ]
    },
    {
      "cell_type": "code",
      "execution_count": null,
      "metadata": {
        "colab": {
          "base_uri": "https://localhost:8080/"
        },
        "id": "-shSn8kVfHmg",
        "outputId": "25266247-86f0-4e45-bb43-2d8d0ef9cdc4"
      },
      "outputs": [
        {
          "name": "stdout",
          "output_type": "stream",
          "text": [
            "<class 'pandas.core.frame.DataFrame'>\n",
            "Int64Index: 676 entries, 0 to 809\n",
            "Data columns (total 8 columns):\n",
            " #   Column            Non-Null Count  Dtype \n",
            "---  ------            --------------  ----- \n",
            " 0   url               676 non-null    object\n",
            " 1   name              676 non-null    object\n",
            " 2   header            676 non-null    object\n",
            " 3   rating_n_reviews  676 non-null    object\n",
            " 4   price             676 non-null    object\n",
            " 5   superhost         676 non-null    object\n",
            " 6   ciudad            676 non-null    object\n",
            " 7   precio_por_noche  676 non-null    int32 \n",
            "dtypes: int32(1), object(7)\n",
            "memory usage: 44.9+ KB\n"
          ]
        }
      ],
      "source": [
        "df.info()"
      ]
    },
    {
      "cell_type": "code",
      "execution_count": null,
      "metadata": {
        "id": "ZHwk3yREhh7Y"
      },
      "outputs": [],
      "source": [
        "# Separamos los ratings de las reviews y eliminamos los parentesis.\n",
        "df[['rating', 'review']] = df['rating_n_reviews'].str.split(expand=True)"
      ]
    },
    {
      "cell_type": "code",
      "execution_count": null,
      "metadata": {
        "id": "V9Qusjmzhl8p"
      },
      "outputs": [],
      "source": [
        "df['review']=df['review'].str.rstrip(to_strip=')').str.lstrip(to_strip='(')"
      ]
    },
    {
      "cell_type": "code",
      "execution_count": null,
      "metadata": {
        "id": "ExK7V1oqhmAf"
      },
      "outputs": [],
      "source": [
        "# Eliminamos las columnas que no nos proporcionan ninguna utilidad\n",
        "df = df.drop([\"rating_n_reviews\",\"price\",\"header\"], axis=1)"
      ]
    },
    {
      "cell_type": "code",
      "execution_count": null,
      "metadata": {
        "colab": {
          "base_uri": "https://localhost:8080/"
        },
        "id": "8rfW0d72iXqh",
        "outputId": "759d97d6-1153-4f31-f948-c396ac649419"
      },
      "outputs": [
        {
          "data": {
            "text/plain": [
              "url                  0\n",
              "name                 0\n",
              "superhost            0\n",
              "ciudad               0\n",
              "precio_por_noche     0\n",
              "rating               0\n",
              "review              47\n",
              "dtype: int64"
            ]
          },
          "execution_count": 15,
          "metadata": {},
          "output_type": "execute_result"
        }
      ],
      "source": [
        "# Comprobamos la cantidad de valores nulos del df\n",
        "df.isnull().sum()"
      ]
    },
    {
      "cell_type": "code",
      "execution_count": null,
      "metadata": {
        "colab": {
          "base_uri": "https://localhost:8080/"
        },
        "id": "CHq0lcU7qECJ",
        "outputId": "c3e7d117-eaf9-47df-f9c2-b902aff2f1d8"
      },
      "outputs": [
        {
          "name": "stdout",
          "output_type": "stream",
          "text": [
            "['4,98' '5,0' '4,79' 'Nuevo' '4,77' '4,97' '4,44' '4,87' '4,88' '4,57'\n",
            " '4,99' '4,9' '4,91' '4,86' '4,71' '4,89' '4,78' '4,84' '4,63' '4,76'\n",
            " '4,69' '4,64' '4,8' '4,92' '4,75' '4,82' '4,95' '4,47' '4,81' '4,0'\n",
            " '4,66' '4,93' '4,59' '4,67' '4,7' '4,58' '4,54' '4,85' '4,73' '4,72'\n",
            " '4,31' '4,74' '4,48' '4,53' '4,83' '4,34' '4,61' '4,94' '4,56' '4,42'\n",
            " '4,68' '4,46' '4,36' '4,28' '4,52' '4,39' '4,62' '4,65' '4,96' '4,5'\n",
            " '3,83' '4,6' '4,45' '4,13' '4,51' '4,43' 'empty' '4,33' '3,6' '4,38'\n",
            " '3,86' '4,24' '4,49' '4,4' '4,29' '4,41' '4,55']\n",
            "['249' '19' None '474' '247' '362' '380' '381' '518' '500' '255' '109' '9'\n",
            " '52' '26' '93' '22' '309' '21' '346' '104' '179' '56' '327' '219' '132'\n",
            " '302' '136' '258' '84' '24' '287' '174' '92' '64' '271' '217' '41' '44'\n",
            " '40' '348' '101' '418' '238' '221' '37' '71' '496' '3' '279' '128' '11'\n",
            " '377' '134' '100' '237' '17' '51' '307' '184' '33' '12' '173' '170' '161'\n",
            " '16' '331' '53' '340' '293' '72' '4' '220' '120' '83' '825' '88' '75'\n",
            " '14' '5' '158' '145' '135' '438' '253' '38' '58' '8' '107' '579' '204'\n",
            " '280' '383' '222' '267' '282' '230' '289' '272' '59' '205' '275' '35'\n",
            " '78' '95' '6' '137' '34' '61' '36' '97' '65' '108' '370' '259' '39' '119'\n",
            " '163' '90' '114' '277' '218' '154' '188' '55' '111' '239' '306' '102'\n",
            " '147' '73' '126' '28' '308' '159' '215' '47' '193' '50' '116' '392' '57'\n",
            " '478' '27' '140' '76' '146' '319' '427' '25' '203' '81' '224' '124' '332'\n",
            " '341' '168' '66' '229' '63' '18' '48' '298' '30' '110' '10' '29' '260'\n",
            " '197' '425' '20' '122' '342' '70' '248' '131' '13' '94' '105' '32' '148'\n",
            " '54' '60' '577' '402' '153' '42' '142' '151' '214' '689' '144' '636'\n",
            " '244' '432' '67' '96' '138' '113' '23' '7' '117' '211' '411' '77' '409'\n",
            " '172' '600' '213' '296' '162' '318' '46' '133' '235' '372' '250' '453'\n",
            " '91' '576' '535' '396' '413' '209' '806' '210' '198' '344' '225' '510'\n",
            " '406' '435' '152' '336' '368' '352' '176' '773' '141' '130' '242' '196'\n",
            " '507' '305' '290' '571' '471' '149' '281' '99' '121' '180' '530' '464'\n",
            " '320' '458' '439' '175' '49' '206' '181' '199' '366' '85' '15' '502'\n",
            " '508' '243' '459' '127' '917' '400' '208' '311' '479' '543' '542' '330'\n",
            " '123' '233' '367' '467' '378' '98']\n"
          ]
        }
      ],
      "source": [
        "# Hay que transformar \"rating\" y \"review\" ya que contienen valores no numéricos como 'Nuevo', 'empty' y 'None'\n",
        "unique_rating = df['rating'].unique()\n",
        "print(unique_rating)\n",
        "unique_review = df['review'].unique()\n",
        "print(unique_review)"
      ]
    },
    {
      "cell_type": "code",
      "execution_count": null,
      "metadata": {
        "colab": {
          "base_uri": "https://localhost:8080/"
        },
        "id": "pfy29Cccqy3L",
        "outputId": "ce736f96-8bcd-4c82-b3d0-52be8697cc47"
      },
      "outputs": [
        {
          "name": "stdout",
          "output_type": "stream",
          "text": [
            "Número de ocurrencias de 'Nuevo' en rating:\n",
            "Nuevo    43\n",
            "5,0      32\n",
            "4,92     25\n",
            "4,86     24\n",
            "4,79     22\n",
            "         ..\n",
            "4,34      1\n",
            "4,51      1\n",
            "4,13      1\n",
            "3,83      1\n",
            "4,31      1\n",
            "Name: rating, Length: 77, dtype: int64\n",
            "Número de ocurrencias de 'empty' en rating:\n",
            "Nuevo    43\n",
            "5,0      32\n",
            "4,92     25\n",
            "4,86     24\n",
            "4,79     22\n",
            "         ..\n",
            "4,34      1\n",
            "4,51      1\n",
            "4,13      1\n",
            "3,83      1\n",
            "4,31      1\n",
            "Name: rating, Length: 77, dtype: int64\n",
            "\n",
            "Número de ocurrencias de 'None' en review:\n",
            "None    47\n",
            "44       9\n",
            "19       8\n",
            "18       7\n",
            "4        7\n",
            "        ..\n",
            "63       1\n",
            "224      1\n",
            "81       1\n",
            "427      1\n",
            "98       1\n",
            "Name: review, Length: 284, dtype: int64\n"
          ]
        }
      ],
      "source": [
        "# Calculamos el número de ocurrencias de 'Nuevo' y 'None' en la columna 'rating'\n",
        "conteo_rating = df['rating'].value_counts(dropna=False)\n",
        "\n",
        "# Calcula el número de ocurrencias de 'None' en la columna 'review'\n",
        "conteo_review = df['review'].value_counts(dropna=False)\n",
        "\n",
        "# Imprime los resultados\n",
        "print(\"Número de ocurrencias de 'Nuevo' en rating:\")\n",
        "print(conteo_rating)\n",
        "\n",
        "print(\"Número de ocurrencias de 'empty' en rating:\")\n",
        "print(conteo_rating)\n",
        "\n",
        "print(\"\\nNúmero de ocurrencias de 'None' en review:\")\n",
        "print(conteo_review)"
      ]
    },
    {
      "cell_type": "code",
      "execution_count": null,
      "metadata": {
        "id": "Eh_8YYnBq17V"
      },
      "outputs": [],
      "source": [
        "# Excluimos las observaciones con 'Nuevo' en 'rating'\n",
        "df = df[df['rating'] != 'Nuevo']\n",
        "df = df[df['rating'] != 'empty']\n",
        "\n",
        "# Excluimos las observaciones con 'None' en 'review'\n",
        "df = df[df['review'] != 'None']"
      ]
    },
    {
      "cell_type": "code",
      "execution_count": null,
      "metadata": {
        "id": "vgYkmyZ5q89c"
      },
      "outputs": [],
      "source": [
        "# Cambiamos las comas por puntos en la columna de ratings para poder cambiar el tipo de dato\n",
        "df['rating'] = df['rating'].str.replace(',','.')"
      ]
    },
    {
      "cell_type": "code",
      "execution_count": null,
      "metadata": {
        "colab": {
          "base_uri": "https://localhost:8080/"
        },
        "id": "LF4IN1Pfq-WI",
        "outputId": "0a0e3bfe-bf0b-480c-93dc-23be3dcc2465"
      },
      "outputs": [
        {
          "data": {
            "text/plain": [
              "url                  object\n",
              "name                 object\n",
              "superhost            object\n",
              "ciudad               object\n",
              "precio_por_noche      int32\n",
              "rating              float64\n",
              "review                int64\n",
              "dtype: object"
            ]
          },
          "execution_count": 20,
          "metadata": {},
          "output_type": "execute_result"
        }
      ],
      "source": [
        "#Comprobamos los valores únicos de las variables rating y review\n",
        "df['rating'] = pd.to_numeric(df['rating'])\n",
        "df['review'] = pd.to_numeric(df['review'])\n",
        "\n",
        "df.dtypes"
      ]
    },
    {
      "cell_type": "code",
      "execution_count": null,
      "metadata": {
        "colab": {
          "base_uri": "https://localhost:8080/"
        },
        "id": "ySrzoyFir4WH",
        "outputId": "8e086542-501b-42cf-86bb-bcab18b191af"
      },
      "outputs": [
        {
          "data": {
            "text/plain": [
              "0"
            ]
          },
          "execution_count": 21,
          "metadata": {},
          "output_type": "execute_result"
        }
      ],
      "source": [
        "# Comprobamos que hemos eliminado los valores nulos de columna \"rating\" y \"review\"\n",
        "df['rating'].isna().sum()"
      ]
    },
    {
      "cell_type": "code",
      "execution_count": null,
      "metadata": {
        "colab": {
          "base_uri": "https://localhost:8080/"
        },
        "id": "Raswl5o6r7tm",
        "outputId": "4284dd7a-531b-459f-fd35-4b0b901dc53d"
      },
      "outputs": [
        {
          "data": {
            "text/plain": [
              "0"
            ]
          },
          "execution_count": 22,
          "metadata": {},
          "output_type": "execute_result"
        }
      ],
      "source": [
        "df['review'].isna().sum()"
      ]
    },
    {
      "cell_type": "code",
      "execution_count": null,
      "metadata": {
        "id": "6uyID5w7rNnY"
      },
      "outputs": [],
      "source": [
        "# Transformar la columna \"name\". Reemplazamos las tildes.\n",
        "columnas_con_texto = ['name', 'superhost']\n",
        "for column in columnas_con_texto:\n",
        "    df[column] = df[column].str.replace('ó', 'o').str.replace('è', 'e').str.replace('à', 'a').str.replace('á', 'a').str.replace('í', 'i').str.replace('ú', 'u').str.replace('ï', 'i')"
      ]
    },
    {
      "cell_type": "code",
      "execution_count": null,
      "metadata": {
        "id": "El61aOEHgfhk"
      },
      "outputs": [],
      "source": [
        "# Convertir en minúsculas las iniciales de las palabras Valencia, Barcelona y Madrid\n",
        "df['ciudad'] = df['ciudad'].str.lower()"
      ]
    },
    {
      "cell_type": "code",
      "execution_count": null,
      "metadata": {
        "colab": {
          "base_uri": "https://localhost:8080/"
        },
        "id": "YysFNd5ospRl",
        "outputId": "56c0d369-6d81-47cf-8d9f-5fa981f3f159"
      },
      "outputs": [
        {
          "data": {
            "text/plain": [
              "(629, 7)"
            ]
          },
          "execution_count": 25,
          "metadata": {},
          "output_type": "execute_result"
        }
      ],
      "source": [
        "# Comprobamos cuantas filas y columnas conforma el df después de la limpieza y transformación\n",
        "df.shape"
      ]
    },
    {
      "cell_type": "code",
      "execution_count": null,
      "metadata": {
        "colab": {
          "base_uri": "https://localhost:8080/",
          "height": 363
        },
        "id": "cCFZY8MEmZ5s",
        "outputId": "f0c14b01-1389-4c79-8664-18eb146a9f8c"
      },
      "outputs": [
        {
          "data": {
            "text/html": [
              "<div>\n",
              "<style scoped>\n",
              "    .dataframe tbody tr th:only-of-type {\n",
              "        vertical-align: middle;\n",
              "    }\n",
              "\n",
              "    .dataframe tbody tr th {\n",
              "        vertical-align: top;\n",
              "    }\n",
              "\n",
              "    .dataframe thead th {\n",
              "        text-align: right;\n",
              "    }\n",
              "</style>\n",
              "<table border=\"1\" class=\"dataframe\">\n",
              "  <thead>\n",
              "    <tr style=\"text-align: right;\">\n",
              "      <th></th>\n",
              "      <th>url</th>\n",
              "      <th>name</th>\n",
              "      <th>superhost</th>\n",
              "      <th>ciudad</th>\n",
              "      <th>precio_por_noche</th>\n",
              "      <th>rating</th>\n",
              "      <th>review</th>\n",
              "    </tr>\n",
              "  </thead>\n",
              "  <tbody>\n",
              "    <tr>\n",
              "      <th>0</th>\n",
              "      <td>/rooms/47505891?adults=1&amp;children=0&amp;enable_m3_...</td>\n",
              "      <td>Loft en Valencia</td>\n",
              "      <td>Anfitrion particular</td>\n",
              "      <td>valencia</td>\n",
              "      <td>101</td>\n",
              "      <td>4.98</td>\n",
              "      <td>249</td>\n",
              "    </tr>\n",
              "    <tr>\n",
              "      <th>1</th>\n",
              "      <td>/rooms/997063990758123324?adults=1&amp;children=0&amp;...</td>\n",
              "      <td>Apartamento en Valencia</td>\n",
              "      <td>Anfitrion particular</td>\n",
              "      <td>valencia</td>\n",
              "      <td>143</td>\n",
              "      <td>5.00</td>\n",
              "      <td>19</td>\n",
              "    </tr>\n",
              "    <tr>\n",
              "      <th>2</th>\n",
              "      <td>/rooms/989715583684599248?adults=1&amp;children=0&amp;...</td>\n",
              "      <td>Apartamento en Valencia</td>\n",
              "      <td>Anfitrion profesional</td>\n",
              "      <td>valencia</td>\n",
              "      <td>108</td>\n",
              "      <td>4.79</td>\n",
              "      <td>19</td>\n",
              "    </tr>\n",
              "    <tr>\n",
              "      <th>4</th>\n",
              "      <td>/rooms/2211787?adults=1&amp;children=0&amp;enable_m3_p...</td>\n",
              "      <td>Apartamento en Valencia</td>\n",
              "      <td>Anfitrion particular</td>\n",
              "      <td>valencia</td>\n",
              "      <td>61</td>\n",
              "      <td>4.77</td>\n",
              "      <td>474</td>\n",
              "    </tr>\n",
              "    <tr>\n",
              "      <th>5</th>\n",
              "      <td>/rooms/26857863?adults=1&amp;children=0&amp;enable_m3_...</td>\n",
              "      <td>Loft en Valencia</td>\n",
              "      <td>Anfitrion particular</td>\n",
              "      <td>valencia</td>\n",
              "      <td>114</td>\n",
              "      <td>4.97</td>\n",
              "      <td>247</td>\n",
              "    </tr>\n",
              "  </tbody>\n",
              "</table>\n",
              "</div>"
            ],
            "text/plain": [
              "                                                 url                     name  \\\n",
              "0  /rooms/47505891?adults=1&children=0&enable_m3_...         Loft en Valencia   \n",
              "1  /rooms/997063990758123324?adults=1&children=0&...  Apartamento en Valencia   \n",
              "2  /rooms/989715583684599248?adults=1&children=0&...  Apartamento en Valencia   \n",
              "4  /rooms/2211787?adults=1&children=0&enable_m3_p...  Apartamento en Valencia   \n",
              "5  /rooms/26857863?adults=1&children=0&enable_m3_...         Loft en Valencia   \n",
              "\n",
              "               superhost    ciudad  precio_por_noche  rating  review  \n",
              "0   Anfitrion particular  valencia               101    4.98     249  \n",
              "1   Anfitrion particular  valencia               143    5.00      19  \n",
              "2  Anfitrion profesional  valencia               108    4.79      19  \n",
              "4   Anfitrion particular  valencia                61    4.77     474  \n",
              "5   Anfitrion particular  valencia               114    4.97     247  "
            ]
          },
          "execution_count": 26,
          "metadata": {},
          "output_type": "execute_result"
        }
      ],
      "source": [
        "df.head(5)"
      ]
    },
    {
      "cell_type": "markdown",
      "metadata": {
        "id": "5gyx4p73GlLj"
      },
      "source": [
        "# Tratamiento y limpieza del df aportado por WhiteHosting"
      ]
    },
    {
      "cell_type": "code",
      "execution_count": null,
      "metadata": {
        "colab": {
          "base_uri": "https://localhost:8080/",
          "height": 406
        },
        "id": "SVsd6sz0oz1f",
        "outputId": "994f6d40-6bff-498a-cf69-0e2df5c9b476"
      },
      "outputs": [
        {
          "data": {
            "text/html": [
              "<div>\n",
              "<style scoped>\n",
              "    .dataframe tbody tr th:only-of-type {\n",
              "        vertical-align: middle;\n",
              "    }\n",
              "\n",
              "    .dataframe tbody tr th {\n",
              "        vertical-align: top;\n",
              "    }\n",
              "\n",
              "    .dataframe thead th {\n",
              "        text-align: right;\n",
              "    }\n",
              "</style>\n",
              "<table border=\"1\" class=\"dataframe\">\n",
              "  <thead>\n",
              "    <tr style=\"text-align: right;\">\n",
              "      <th></th>\n",
              "      <th>apartment_id</th>\n",
              "      <th>md5</th>\n",
              "      <th>name</th>\n",
              "      <th>description</th>\n",
              "      <th>host_id</th>\n",
              "      <th>neighborhood_overview</th>\n",
              "      <th>neighbourhood_name</th>\n",
              "      <th>neighbourhood_district</th>\n",
              "      <th>latitude</th>\n",
              "      <th>longitude</th>\n",
              "      <th>...</th>\n",
              "      <th>review_scores_checkin</th>\n",
              "      <th>review_scores_communication</th>\n",
              "      <th>review_scores_location</th>\n",
              "      <th>review_scores_value</th>\n",
              "      <th>license</th>\n",
              "      <th>is_instant_bookable</th>\n",
              "      <th>reviews_per_month</th>\n",
              "      <th>country</th>\n",
              "      <th>city</th>\n",
              "      <th>insert_date</th>\n",
              "    </tr>\n",
              "  </thead>\n",
              "  <tbody>\n",
              "    <tr>\n",
              "      <th>0</th>\n",
              "      <td>36187629</td>\n",
              "      <td>66fff4225feb2ddf104ea38f76e4bff1</td>\n",
              "      <td>Piso reformado excelente ubicacion</td>\n",
              "      <td>Apartamento reformado hace dos meses en el Cab...</td>\n",
              "      <td>261787331</td>\n",
              "      <td>NaN</td>\n",
              "      <td>BETERO</td>\n",
              "      <td>POBLATS MARITIMS</td>\n",
              "      <td>3.947.149</td>\n",
              "      <td>-3.346</td>\n",
              "      <td>...</td>\n",
              "      <td>10.0</td>\n",
              "      <td>10.0</td>\n",
              "      <td>10.0</td>\n",
              "      <td>10.0</td>\n",
              "      <td>NaN</td>\n",
              "      <td>True</td>\n",
              "      <td>0.22</td>\n",
              "      <td>spain</td>\n",
              "      <td>valencia</td>\n",
              "      <td>2019-12-31</td>\n",
              "    </tr>\n",
              "    <tr>\n",
              "      <th>1</th>\n",
              "      <td>5388904</td>\n",
              "      <td>48790b4dd865e98cc1f5302a2bba1a50</td>\n",
              "      <td>Nice Room in a Penthouse</td>\n",
              "      <td>The apartment is fully equipped. Large bathroo...</td>\n",
              "      <td>20843074</td>\n",
              "      <td>NaN</td>\n",
              "      <td>la Nova Esquerra de l'Eixample</td>\n",
              "      <td>Eixample</td>\n",
              "      <td>4.138.353</td>\n",
              "      <td>215.388</td>\n",
              "      <td>...</td>\n",
              "      <td>8.0</td>\n",
              "      <td>10.0</td>\n",
              "      <td>10.0</td>\n",
              "      <td>10.0</td>\n",
              "      <td>NaN</td>\n",
              "      <td>False</td>\n",
              "      <td>0.01</td>\n",
              "      <td>spain</td>\n",
              "      <td>barcelona</td>\n",
              "      <td>2021-01-12</td>\n",
              "    </tr>\n",
              "    <tr>\n",
              "      <th>2</th>\n",
              "      <td>39982406</td>\n",
              "      <td>d3a60e8898bd8ddce4325c8d3d6af7c8</td>\n",
              "      <td>LUXURY 5 BEDROOM APARTMENT IN MONCLOA-ARAVACA</td>\n",
              "      <td>Luxury Apartment located in a priveleged zone ...</td>\n",
              "      <td>308267305</td>\n",
              "      <td>Very quiet residential area in a Posh area of ...</td>\n",
              "      <td>El Plantío</td>\n",
              "      <td>Moncloa - Aravaca</td>\n",
              "      <td>4.046.614</td>\n",
              "      <td>-380.948</td>\n",
              "      <td>...</td>\n",
              "      <td>NaN</td>\n",
              "      <td>NaN</td>\n",
              "      <td>NaN</td>\n",
              "      <td>NaN</td>\n",
              "      <td>VT-12318</td>\n",
              "      <td>True</td>\n",
              "      <td>NaN</td>\n",
              "      <td>spain</td>\n",
              "      <td>madrid</td>\n",
              "      <td>2020-01-10</td>\n",
              "    </tr>\n",
              "  </tbody>\n",
              "</table>\n",
              "<p>3 rows × 40 columns</p>\n",
              "</div>"
            ],
            "text/plain": [
              "   apartment_id                               md5  \\\n",
              "0      36187629  66fff4225feb2ddf104ea38f76e4bff1   \n",
              "1       5388904  48790b4dd865e98cc1f5302a2bba1a50   \n",
              "2      39982406  d3a60e8898bd8ddce4325c8d3d6af7c8   \n",
              "\n",
              "                                            name  \\\n",
              "0             Piso reformado excelente ubicacion   \n",
              "1                       Nice Room in a Penthouse   \n",
              "2  LUXURY 5 BEDROOM APARTMENT IN MONCLOA-ARAVACA   \n",
              "\n",
              "                                         description    host_id  \\\n",
              "0  Apartamento reformado hace dos meses en el Cab...  261787331   \n",
              "1  The apartment is fully equipped. Large bathroo...   20843074   \n",
              "2  Luxury Apartment located in a priveleged zone ...  308267305   \n",
              "\n",
              "                               neighborhood_overview  \\\n",
              "0                                                NaN   \n",
              "1                                                NaN   \n",
              "2  Very quiet residential area in a Posh area of ...   \n",
              "\n",
              "               neighbourhood_name neighbourhood_district   latitude longitude  \\\n",
              "0                          BETERO       POBLATS MARITIMS  3.947.149    -3.346   \n",
              "1  la Nova Esquerra de l'Eixample               Eixample  4.138.353   215.388   \n",
              "2                      El Plantío      Moncloa - Aravaca  4.046.614  -380.948   \n",
              "\n",
              "   ... review_scores_checkin  review_scores_communication  \\\n",
              "0  ...                  10.0                         10.0   \n",
              "1  ...                   8.0                         10.0   \n",
              "2  ...                   NaN                          NaN   \n",
              "\n",
              "   review_scores_location  review_scores_value   license is_instant_bookable  \\\n",
              "0                    10.0                 10.0       NaN                True   \n",
              "1                    10.0                 10.0       NaN               False   \n",
              "2                     NaN                  NaN  VT-12318                True   \n",
              "\n",
              "   reviews_per_month  country       city insert_date  \n",
              "0               0.22    spain   valencia  2019-12-31  \n",
              "1               0.01    spain  barcelona  2021-01-12  \n",
              "2                NaN    spain     madrid  2020-01-10  \n",
              "\n",
              "[3 rows x 40 columns]"
            ]
          },
          "execution_count": 27,
          "metadata": {},
          "output_type": "execute_result"
        }
      ],
      "source": [
        "# Ahora leemos el segundo csv\n",
        "df_White_Hosting = pd.read_csv(\"alojamientos-turisticos-sample.csv\")\n",
        "df_White_Hosting.head(3)"
      ]
    },
    {
      "cell_type": "code",
      "execution_count": null,
      "metadata": {
        "id": "ASa4aFmMthRs"
      },
      "outputs": [],
      "source": [
        "# Lo usamos para poder observar todas las columnas\n",
        "pd.set_option('display.max_columns',None)\n",
        "pd.set_option('display.max_rows',None)"
      ]
    },
    {
      "cell_type": "code",
      "execution_count": null,
      "metadata": {
        "id": "w-_cEK9Zoz4G"
      },
      "outputs": [],
      "source": [
        "# Vamos a filtrar y quedarnos solamente con los alojamientos que esten localizados en las ciudades de Madrid, Barcelona y Valencia\n",
        "df_White_Hosting=df_White_Hosting[df_White_Hosting['city'].isin(['madrid', 'barcelona','valencia'])]"
      ]
    },
    {
      "cell_type": "code",
      "execution_count": null,
      "metadata": {
        "id": "TjmqAj1Lqfm_"
      },
      "outputs": [],
      "source": [
        "# Eliminación de las columnas que tienen ningún valor para nuestro análisis\n",
        "df_White_Hosting.drop([\"md5\",\"host_id\",\"neighborhood_overview\",\"neighbourhood_name\",\"neighbourhood_district\",\"latitude\",\"longitude\",\"amenities_list\",\"room_type\",\n",
        "                       \"has_availability\",\"first_review_date\",\"last_review_date\",\"license\",\"country\",\"description\"], axis=1, inplace=True)"
      ]
    },
    {
      "cell_type": "code",
      "execution_count": null,
      "metadata": {
        "colab": {
          "base_uri": "https://localhost:8080/"
        },
        "id": "vOxZwPVTsJS0",
        "outputId": "76d2e524-0290-4c5c-d1f2-228fe3ae9abe"
      },
      "outputs": [
        {
          "data": {
            "text/plain": [
              "(5551, 25)"
            ]
          },
          "execution_count": 31,
          "metadata": {},
          "output_type": "execute_result"
        }
      ],
      "source": [
        "df_White_Hosting.shape"
      ]
    },
    {
      "cell_type": "code",
      "execution_count": null,
      "metadata": {
        "colab": {
          "base_uri": "https://localhost:8080/"
        },
        "id": "6sFGvU4Wtrku",
        "outputId": "d894ab84-1c9d-4ea2-d608-cea225ffc18b"
      },
      "outputs": [
        {
          "name": "stdout",
          "output_type": "stream",
          "text": [
            "[100.  80.  nan  95.  91.  96.  81.  90.  88.  84.  97.  86.  93.  60.\n",
            "  94.  70.  83.  92.  99.  87.  85.  73.  89.  79.  75.  98.  82.  77.\n",
            "  53.  71.  20.  72.  78.  40.  67.  64.  76.  65.  50.  68.  74.  55.\n",
            "  47.  69.  30.]\n",
            "[10. nan  9.  8.  7.  6.  2.  5.  4.]\n",
            "[10. nan  8.  9.  6.  7.  2.  4.  5.]\n"
          ]
        }
      ],
      "source": [
        "unique_review_scores_rating = df_White_Hosting['review_scores_rating'].unique()\n",
        "print(unique_review_scores_rating)\n",
        "\n",
        "unique_review_scores_location = df_White_Hosting['review_scores_location'].unique()\n",
        "print(unique_review_scores_location)\n",
        "\n",
        "unique_review_scores_communication = df_White_Hosting['review_scores_communication'].unique()\n",
        "print(unique_review_scores_communication)"
      ]
    },
    {
      "cell_type": "markdown",
      "metadata": {
        "id": "mpMQxE1EroDd"
      },
      "source": [
        "Al comprobar la cantidad de valores únicos observamos que hay valores nan"
      ]
    },
    {
      "cell_type": "code",
      "execution_count": null,
      "metadata": {
        "colab": {
          "base_uri": "https://localhost:8080/"
        },
        "id": "YPN1jt6Ry5H4",
        "outputId": "89a421a2-40c9-4a17-f616-7883f7f06cab"
      },
      "outputs": [
        {
          "name": "stdout",
          "output_type": "stream",
          "text": [
            "NaN      1245\n",
            "100.0     740\n",
            "95.0      284\n",
            "93.0      282\n",
            "96.0      279\n",
            "97.0      274\n",
            "98.0      257\n",
            "80.0      239\n",
            "90.0      237\n",
            "94.0      223\n",
            "92.0      196\n",
            "91.0      188\n",
            "87.0      156\n",
            "99.0      135\n",
            "89.0      117\n",
            "88.0      107\n",
            "85.0       89\n",
            "86.0       77\n",
            "84.0       60\n",
            "83.0       52\n",
            "60.0       47\n",
            "82.0       32\n",
            "81.0       28\n",
            "78.0       24\n",
            "70.0       23\n",
            "73.0       22\n",
            "75.0       21\n",
            "77.0       17\n",
            "67.0       14\n",
            "76.0       11\n",
            "40.0       11\n",
            "79.0       10\n",
            "72.0       10\n",
            "71.0        7\n",
            "50.0        6\n",
            "20.0        6\n",
            "74.0        5\n",
            "64.0        4\n",
            "65.0        4\n",
            "68.0        3\n",
            "69.0        3\n",
            "53.0        2\n",
            "55.0        2\n",
            "47.0        1\n",
            "30.0        1\n",
            "Name: review_scores_rating, dtype: int64\n"
          ]
        }
      ],
      "source": [
        "# Procedemos a filtrar los valores nan\n",
        "# Calculamos el número de ocurrencias de 'NaN'\n",
        "conteo_review_scores_rating = df_White_Hosting['review_scores_rating'].value_counts(dropna=False)\n",
        "\n",
        "# Calcula el número de ocurrencias de 'NaN' en la columna 'review_scores_rating'\n",
        "print(conteo_review_scores_rating)"
      ]
    },
    {
      "cell_type": "markdown",
      "metadata": {
        "id": "m9bv9C1KroDd"
      },
      "source": [
        "Tenemos 1215 en review_scores_rating"
      ]
    },
    {
      "cell_type": "code",
      "execution_count": null,
      "metadata": {
        "id": "3iucwO6DzxxW"
      },
      "outputs": [],
      "source": [
        "# En la siguientes columnas eliminaremos los registros que tienen los valores nan\n",
        "df_White_Hosting.dropna(subset=[\"review_scores_rating\",'review_scores_checkin','review_scores_location', 'review_scores_value', 'review_scores_cleanliness',\n",
        "                                'reviews_per_month', 'review_scores_accuracy', 'review_scores_communication',\"bathrooms\",\"bedrooms\",\"beds\",\"maximum_nights\"], inplace=True)"
      ]
    },
    {
      "cell_type": "code",
      "execution_count": null,
      "metadata": {
        "colab": {
          "base_uri": "https://localhost:8080/"
        },
        "id": "18lYnleFy9z_",
        "outputId": "7862bf9b-3bef-49b9-a88d-7b28f8167939"
      },
      "outputs": [
        {
          "data": {
            "text/plain": [
              "apartment_id                    0\n",
              "name                            0\n",
              "accommodates                    0\n",
              "bathrooms                       0\n",
              "bedrooms                        0\n",
              "beds                            0\n",
              "price                          49\n",
              "minimum_nights                  0\n",
              "maximum_nights                  0\n",
              "availability_30                 0\n",
              "availability_60                 0\n",
              "availability_90                 0\n",
              "availability_365                0\n",
              "number_of_reviews               0\n",
              "review_scores_rating            0\n",
              "review_scores_accuracy          0\n",
              "review_scores_cleanliness       0\n",
              "review_scores_checkin           0\n",
              "review_scores_communication     0\n",
              "review_scores_location          0\n",
              "review_scores_value             0\n",
              "is_instant_bookable             0\n",
              "reviews_per_month               0\n",
              "city                            0\n",
              "insert_date                     0\n",
              "dtype: int64"
            ]
          },
          "execution_count": 35,
          "metadata": {},
          "output_type": "execute_result"
        }
      ],
      "source": [
        "# De esta manera, quedaría el nuevo df sin nulos\n",
        "df_White_Hosting.isnull().sum()"
      ]
    },
    {
      "cell_type": "code",
      "execution_count": null,
      "metadata": {
        "colab": {
          "base_uri": "https://localhost:8080/"
        },
        "id": "I4t6voGZ1YPq",
        "outputId": "bc02ba1e-833b-450f-d74e-85e7a563797c"
      },
      "outputs": [
        {
          "data": {
            "text/plain": [
              "(4218, 25)"
            ]
          },
          "execution_count": 36,
          "metadata": {},
          "output_type": "execute_result"
        }
      ],
      "source": [
        "# Este sería el número de filas que quedaría sin nulos\n",
        "df_White_Hosting.shape"
      ]
    },
    {
      "cell_type": "code",
      "execution_count": null,
      "metadata": {
        "colab": {
          "base_uri": "https://localhost:8080/",
          "height": 539
        },
        "id": "hd9FUcbp1oio",
        "outputId": "2b6a7316-970f-4b53-b4d1-b66a85743ed6"
      },
      "outputs": [
        {
          "data": {
            "text/html": [
              "<div>\n",
              "<style scoped>\n",
              "    .dataframe tbody tr th:only-of-type {\n",
              "        vertical-align: middle;\n",
              "    }\n",
              "\n",
              "    .dataframe tbody tr th {\n",
              "        vertical-align: top;\n",
              "    }\n",
              "\n",
              "    .dataframe thead th {\n",
              "        text-align: right;\n",
              "    }\n",
              "</style>\n",
              "<table border=\"1\" class=\"dataframe\">\n",
              "  <thead>\n",
              "    <tr style=\"text-align: right;\">\n",
              "      <th></th>\n",
              "      <th>apartment_id</th>\n",
              "      <th>name</th>\n",
              "      <th>accommodates</th>\n",
              "      <th>bathrooms</th>\n",
              "      <th>bedrooms</th>\n",
              "      <th>beds</th>\n",
              "      <th>price</th>\n",
              "      <th>minimum_nights</th>\n",
              "      <th>maximum_nights</th>\n",
              "      <th>availability_30</th>\n",
              "      <th>availability_60</th>\n",
              "      <th>availability_90</th>\n",
              "      <th>availability_365</th>\n",
              "      <th>number_of_reviews</th>\n",
              "      <th>review_scores_rating</th>\n",
              "      <th>review_scores_accuracy</th>\n",
              "      <th>review_scores_cleanliness</th>\n",
              "      <th>review_scores_checkin</th>\n",
              "      <th>review_scores_communication</th>\n",
              "      <th>review_scores_location</th>\n",
              "      <th>review_scores_value</th>\n",
              "      <th>is_instant_bookable</th>\n",
              "      <th>reviews_per_month</th>\n",
              "      <th>city</th>\n",
              "      <th>insert_date</th>\n",
              "    </tr>\n",
              "  </thead>\n",
              "  <tbody>\n",
              "    <tr>\n",
              "      <th>352</th>\n",
              "      <td>28349493</td>\n",
              "      <td>Lugaris Rambla Apartamento Familiar</td>\n",
              "      <td>5</td>\n",
              "      <td>2.0</td>\n",
              "      <td>2.0</td>\n",
              "      <td>3.0</td>\n",
              "      <td>NaN</td>\n",
              "      <td>1</td>\n",
              "      <td>1125.0</td>\n",
              "      <td>22.0</td>\n",
              "      <td>49</td>\n",
              "      <td>79.0</td>\n",
              "      <td>349</td>\n",
              "      <td>1</td>\n",
              "      <td>100.0</td>\n",
              "      <td>8.0</td>\n",
              "      <td>10.0</td>\n",
              "      <td>10.0</td>\n",
              "      <td>10.0</td>\n",
              "      <td>8.0</td>\n",
              "      <td>10.0</td>\n",
              "      <td>True</td>\n",
              "      <td>0.15</td>\n",
              "      <td>barcelona</td>\n",
              "      <td>2019-04-10</td>\n",
              "    </tr>\n",
              "    <tr>\n",
              "      <th>362</th>\n",
              "      <td>19154124</td>\n",
              "      <td>2528 - AB Gràcia Park Güell 3-1 - Amazing 2-Be...</td>\n",
              "      <td>6</td>\n",
              "      <td>2.0</td>\n",
              "      <td>2.0</td>\n",
              "      <td>4.0</td>\n",
              "      <td>NaN</td>\n",
              "      <td>3</td>\n",
              "      <td>31.0</td>\n",
              "      <td>10.0</td>\n",
              "      <td>30</td>\n",
              "      <td>46.0</td>\n",
              "      <td>321</td>\n",
              "      <td>11</td>\n",
              "      <td>95.0</td>\n",
              "      <td>10.0</td>\n",
              "      <td>9.0</td>\n",
              "      <td>9.0</td>\n",
              "      <td>9.0</td>\n",
              "      <td>9.0</td>\n",
              "      <td>9.0</td>\n",
              "      <td>True</td>\n",
              "      <td>0.74</td>\n",
              "      <td>barcelona</td>\n",
              "      <td>2018-11-07</td>\n",
              "    </tr>\n",
              "    <tr>\n",
              "      <th>566</th>\n",
              "      <td>13742696</td>\n",
              "      <td>Modern &amp; Cozy Apartment in Rambla Catalunya</td>\n",
              "      <td>6</td>\n",
              "      <td>2.0</td>\n",
              "      <td>2.0</td>\n",
              "      <td>3.0</td>\n",
              "      <td>NaN</td>\n",
              "      <td>2</td>\n",
              "      <td>1125.0</td>\n",
              "      <td>7.0</td>\n",
              "      <td>30</td>\n",
              "      <td>44.0</td>\n",
              "      <td>275</td>\n",
              "      <td>3</td>\n",
              "      <td>80.0</td>\n",
              "      <td>9.0</td>\n",
              "      <td>8.0</td>\n",
              "      <td>9.0</td>\n",
              "      <td>10.0</td>\n",
              "      <td>10.0</td>\n",
              "      <td>9.0</td>\n",
              "      <td>True</td>\n",
              "      <td>0.15</td>\n",
              "      <td>barcelona</td>\n",
              "      <td>2020-02-16</td>\n",
              "    </tr>\n",
              "  </tbody>\n",
              "</table>\n",
              "</div>"
            ],
            "text/plain": [
              "     apartment_id                                               name  \\\n",
              "352      28349493                Lugaris Rambla Apartamento Familiar   \n",
              "362      19154124  2528 - AB Gràcia Park Güell 3-1 - Amazing 2-Be...   \n",
              "566      13742696        Modern & Cozy Apartment in Rambla Catalunya   \n",
              "\n",
              "     accommodates  bathrooms  bedrooms  beds  price  minimum_nights  \\\n",
              "352             5        2.0       2.0   3.0    NaN               1   \n",
              "362             6        2.0       2.0   4.0    NaN               3   \n",
              "566             6        2.0       2.0   3.0    NaN               2   \n",
              "\n",
              "     maximum_nights  availability_30  availability_60  availability_90  \\\n",
              "352          1125.0             22.0               49             79.0   \n",
              "362            31.0             10.0               30             46.0   \n",
              "566          1125.0              7.0               30             44.0   \n",
              "\n",
              "     availability_365  number_of_reviews  review_scores_rating  \\\n",
              "352               349                  1                 100.0   \n",
              "362               321                 11                  95.0   \n",
              "566               275                  3                  80.0   \n",
              "\n",
              "     review_scores_accuracy  review_scores_cleanliness  review_scores_checkin  \\\n",
              "352                     8.0                       10.0                   10.0   \n",
              "362                    10.0                        9.0                    9.0   \n",
              "566                     9.0                        8.0                    9.0   \n",
              "\n",
              "     review_scores_communication  review_scores_location  review_scores_value  \\\n",
              "352                         10.0                     8.0                 10.0   \n",
              "362                          9.0                     9.0                  9.0   \n",
              "566                         10.0                    10.0                  9.0   \n",
              "\n",
              "     is_instant_bookable  reviews_per_month       city insert_date  \n",
              "352                 True               0.15  barcelona  2019-04-10  \n",
              "362                 True               0.74  barcelona  2018-11-07  \n",
              "566                 True               0.15  barcelona  2020-02-16  "
            ]
          },
          "execution_count": 37,
          "metadata": {},
          "output_type": "execute_result"
        }
      ],
      "source": [
        "# El siguiente paso, es tratar los nulos de la columna de precio\n",
        "df_White_Hosting[df_White_Hosting[\"price\"].isnull()].head(3)"
      ]
    },
    {
      "cell_type": "code",
      "execution_count": null,
      "metadata": {
        "colab": {
          "base_uri": "https://localhost:8080/",
          "height": 35
        },
        "id": "GXzc5Z0q1nck",
        "outputId": "e1bb9dd4-490c-4032-8a9a-742c80e43eca"
      },
      "outputs": [
        {
          "data": {
            "text/plain": [
              "'Porcentaje de nulos sobre columna price: 0.9%'"
            ]
          },
          "execution_count": 38,
          "metadata": {},
          "output_type": "execute_result"
        }
      ],
      "source": [
        "f\"Porcentaje de nulos sobre columna price: {round(49/5363 * 100, 1)}%\""
      ]
    },
    {
      "cell_type": "markdown",
      "metadata": {
        "id": "4a_bkWF-roDf"
      },
      "source": [
        "Como la cantidad de nulos es mínima, sustituiremos los nulos por la media de precio"
      ]
    },
    {
      "cell_type": "code",
      "execution_count": null,
      "metadata": {
        "id": "5JkIXnBU1w6V"
      },
      "outputs": [],
      "source": [
        "media_precio = df_White_Hosting[\"price\"].mean().round()"
      ]
    },
    {
      "cell_type": "code",
      "execution_count": null,
      "metadata": {
        "id": "BkO5hZWG12Yh"
      },
      "outputs": [],
      "source": [
        "df_White_Hosting[\"price\"].fillna(media_precio, inplace=True)"
      ]
    },
    {
      "cell_type": "code",
      "execution_count": null,
      "metadata": {
        "id": "CWwPiik6BO2l"
      },
      "outputs": [],
      "source": [
        "# Por último, cambiaremos el tipo de dato de varias variables de df y renombraremos otras\n",
        "df_White_Hosting[\"price\"] = df_White_Hosting[\"price\"].astype(int)\n",
        "df_White_Hosting[\"bathrooms\"] = df_White_Hosting[\"bathrooms\"].astype(int)\n",
        "df_White_Hosting[\"bedrooms\"] = df_White_Hosting[\"bedrooms\"].astype(int)\n",
        "df_White_Hosting[\"beds\"] = df_White_Hosting[\"beds\"].astype(int)\n",
        "df_White_Hosting[\"maximum_nights\"] = df_White_Hosting[\"maximum_nights\"].astype(int)\n",
        "df_White_Hosting[\"availability_30\"] = df_White_Hosting[\"availability_30\"].astype(int)\n",
        "df_White_Hosting[\"availability_90\"] = df_White_Hosting[\"availability_90\"].astype(int)\n",
        "df_White_Hosting[\"review_scores_rating\"] = df_White_Hosting[\"review_scores_rating\"].astype(int)\n",
        "df_White_Hosting[\"review_scores_accuracy\"] = df_White_Hosting[\"review_scores_accuracy\"].astype(int)\n",
        "df_White_Hosting[\"review_scores_cleanliness\"] = df_White_Hosting[\"review_scores_cleanliness\"].astype(int)\n",
        "df_White_Hosting[\"review_scores_checkin\"] = df_White_Hosting[\"review_scores_checkin\"].astype(int)\n",
        "df_White_Hosting[\"review_scores_communication\"] = df_White_Hosting[\"review_scores_communication\"].astype(int)\n",
        "df_White_Hosting[\"review_scores_location\"] = df_White_Hosting[\"review_scores_location\"].astype(int)\n",
        "df_White_Hosting[\"review_scores_value\"] = df_White_Hosting[\"review_scores_value\"].astype(int)\n",
        "\n",
        "df_White_Hosting.rename(columns={\"accommodates\":\"alojamientos\",\"bathrooms\":\"baños\",\"bedrooms\":\"dormitorios\",\"beds\":\"camas\",\"price\":\"precio\"}, inplace=True)"
      ]
    },
    {
      "cell_type": "markdown",
      "metadata": {
        "id": "yiccpgEhW3j0"
      },
      "source": [
        "# Preguntas HOSTING:"
      ]
    },
    {
      "cell_type": "markdown",
      "metadata": {
        "id": "xwB7BS7_2IAg"
      },
      "source": [
        "## 1.¿Cuántos inmuebles únicos hay en el dataset vs airbnb?"
      ]
    },
    {
      "cell_type": "code",
      "execution_count": null,
      "metadata": {
        "colab": {
          "base_uri": "https://localhost:8080/"
        },
        "id": "Ks_eTul52mk5",
        "outputId": "ea55e8cb-7ed2-4448-ae14-8844f91bc772"
      },
      "outputs": [
        {
          "data": {
            "text/plain": [
              "144"
            ]
          },
          "execution_count": 42,
          "metadata": {},
          "output_type": "execute_result"
        }
      ],
      "source": [
        "# Comprobamos los valores duplicados de ambas fuentes de datos\n",
        "df_White_Hosting['apartment_id'].duplicated().sum()"
      ]
    },
    {
      "cell_type": "code",
      "execution_count": null,
      "metadata": {
        "id": "1kjsR_uy2mnr"
      },
      "outputs": [],
      "source": [
        "# Y mantenemos el primer valor.\n",
        "df_White_Hosting = df_White_Hosting.drop_duplicates(subset=['apartment_id'], keep='first')"
      ]
    },
    {
      "cell_type": "code",
      "execution_count": null,
      "metadata": {
        "colab": {
          "base_uri": "https://localhost:8080/"
        },
        "id": "alg2wbEt3sKG",
        "outputId": "24283b84-cb4b-437f-d98f-0587f3aee024"
      },
      "outputs": [
        {
          "name": "stdout",
          "output_type": "stream",
          "text": [
            "<class 'pandas.core.frame.DataFrame'>\n",
            "Int64Index: 4074 entries, 0 to 9998\n",
            "Data columns (total 25 columns):\n",
            " #   Column                       Non-Null Count  Dtype  \n",
            "---  ------                       --------------  -----  \n",
            " 0   apartment_id                 4074 non-null   int64  \n",
            " 1   name                         4074 non-null   object \n",
            " 2   alojamientos                 4074 non-null   int64  \n",
            " 3   baños                        4074 non-null   int32  \n",
            " 4   dormitorios                  4074 non-null   int32  \n",
            " 5   camas                        4074 non-null   int32  \n",
            " 6   precio                       4074 non-null   int32  \n",
            " 7   minimum_nights               4074 non-null   int64  \n",
            " 8   maximum_nights               4074 non-null   int32  \n",
            " 9   availability_30              4074 non-null   int32  \n",
            " 10  availability_60              4074 non-null   int64  \n",
            " 11  availability_90              4074 non-null   int32  \n",
            " 12  availability_365             4074 non-null   int64  \n",
            " 13  number_of_reviews            4074 non-null   int64  \n",
            " 14  review_scores_rating         4074 non-null   int32  \n",
            " 15  review_scores_accuracy       4074 non-null   int32  \n",
            " 16  review_scores_cleanliness    4074 non-null   int32  \n",
            " 17  review_scores_checkin        4074 non-null   int32  \n",
            " 18  review_scores_communication  4074 non-null   int32  \n",
            " 19  review_scores_location       4074 non-null   int32  \n",
            " 20  review_scores_value          4074 non-null   int32  \n",
            " 21  is_instant_bookable          4074 non-null   bool   \n",
            " 22  reviews_per_month            4074 non-null   float64\n",
            " 23  city                         4074 non-null   object \n",
            " 24  insert_date                  4074 non-null   object \n",
            "dtypes: bool(1), float64(1), int32(14), int64(6), object(3)\n",
            "memory usage: 576.9+ KB\n"
          ]
        }
      ],
      "source": [
        "df_White_Hosting.info()"
      ]
    },
    {
      "cell_type": "code",
      "execution_count": null,
      "metadata": {
        "colab": {
          "base_uri": "https://localhost:8080/"
        },
        "id": "j2FwXDr82mqY",
        "outputId": "6c74e281-fd61-4f3b-d5e9-a45afc1617f4"
      },
      "outputs": [
        {
          "data": {
            "text/plain": [
              "0"
            ]
          },
          "execution_count": 45,
          "metadata": {},
          "output_type": "execute_result"
        }
      ],
      "source": [
        "df['url'].duplicated().sum()"
      ]
    },
    {
      "cell_type": "code",
      "execution_count": null,
      "metadata": {
        "colab": {
          "base_uri": "https://localhost:8080/"
        },
        "id": "Uih1EvP53qvp",
        "outputId": "203b23d8-da52-428e-c79a-5037d34f8cd9"
      },
      "outputs": [
        {
          "data": {
            "text/plain": [
              "(629, 7)"
            ]
          },
          "execution_count": 46,
          "metadata": {},
          "output_type": "execute_result"
        }
      ],
      "source": [
        "df.shape"
      ]
    },
    {
      "cell_type": "markdown",
      "metadata": {
        "id": "3lAZXZoYY1JF"
      },
      "source": [
        "El df de Airbnb cuenta con 629 registros y el df de alojamientos turísticos cuenta con 4074 registros."
      ]
    },
    {
      "cell_type": "markdown",
      "metadata": {
        "id": "JtS521JT5Rhs"
      },
      "source": [
        "## 2.¿Cual es la diferencia en número de inmueble posteados entre los 2 datasets?"
      ]
    },
    {
      "cell_type": "code",
      "execution_count": null,
      "metadata": {
        "colab": {
          "base_uri": "https://localhost:8080/"
        },
        "id": "ImS8p22-7QqA",
        "outputId": "364189bc-1c07-437e-a150-cccec183f72a"
      },
      "outputs": [
        {
          "data": {
            "text/plain": [
              "3445"
            ]
          },
          "execution_count": 47,
          "metadata": {},
          "output_type": "execute_result"
        }
      ],
      "source": [
        "len(df_White_Hosting)-len(df)"
      ]
    },
    {
      "cell_type": "markdown",
      "metadata": {
        "id": "rrDOrf8SZF4u"
      },
      "source": [
        "Contamos con una diferencia de 3445 inmuebles entre los df"
      ]
    },
    {
      "cell_type": "markdown",
      "metadata": {
        "id": "iZunZGzV52PF"
      },
      "source": [
        "## 3.¿Cuáles son los parámetros que forman el precio?"
      ]
    },
    {
      "cell_type": "markdown",
      "metadata": {
        "id": "nGkaPTtoVJWX"
      },
      "source": [
        "Comprobamos cuáles varibles tienen un efecto relevante respecto al precio"
      ]
    },
    {
      "cell_type": "code",
      "execution_count": null,
      "metadata": {
        "colab": {
          "base_uri": "https://localhost:8080/"
        },
        "id": "96lOV7ai53wV",
        "outputId": "15b8ed07-c156-467e-c3f5-33618a2ca569"
      },
      "outputs": [
        {
          "data": {
            "text/plain": [
              "url                  object\n",
              "name                 object\n",
              "superhost            object\n",
              "ciudad               object\n",
              "precio_por_noche      int32\n",
              "rating              float64\n",
              "review                int64\n",
              "dtype: object"
            ]
          },
          "execution_count": 48,
          "metadata": {},
          "output_type": "execute_result"
        }
      ],
      "source": [
        "df.dtypes"
      ]
    },
    {
      "cell_type": "markdown",
      "metadata": {
        "id": "wt2ZVlFiroDp"
      },
      "source": [
        "Vamos a empezar por codificar las variables tipo object para poder hacer la matriz de correlacion con ellas tambien."
      ]
    },
    {
      "cell_type": "code",
      "execution_count": null,
      "metadata": {
        "colab": {
          "base_uri": "https://localhost:8080/"
        },
        "id": "RPKfo8KN570L",
        "outputId": "eb96cb5f-4009-4dcc-c71f-6b487e8999b3"
      },
      "outputs": [
        {
          "data": {
            "text/plain": [
              "url                  object\n",
              "name                 object\n",
              "superhost            object\n",
              "ciudad               object\n",
              "precio_por_noche      int32\n",
              "rating              float64\n",
              "review                int64\n",
              "valor_ciudad          int64\n",
              "dtype: object"
            ]
          },
          "execution_count": 49,
          "metadata": {},
          "output_type": "execute_result"
        }
      ],
      "source": [
        "#Asignamos en la variable ciudad valores numéricos a Madrid = 1, Barcelona = 2 y Valencia = 3\n",
        "valor_ciudad = {'madrid': 1, 'barcelona': 2, 'valencia': 3}\n",
        "\n",
        "# Aplicar el mapeo a la columna 'ciudad'\n",
        "df['valor_ciudad'] = df['ciudad'].map(valor_ciudad)\n",
        "df.dtypes"
      ]
    },
    {
      "cell_type": "code",
      "execution_count": null,
      "metadata": {
        "colab": {
          "base_uri": "https://localhost:8080/"
        },
        "id": "WzliVjfE58B2",
        "outputId": "5c15bfcc-b5d8-4bc8-de4b-cfc8272a5c45"
      },
      "outputs": [
        {
          "name": "stdout",
          "output_type": "stream",
          "text": [
            "['Anfitrion particular' 'Anfitrion profesional']\n"
          ]
        }
      ],
      "source": [
        "#Comprobamos la cantidad de valores únicos en la variable 'superhost'\n",
        "unique_superhost = df['superhost'].unique()\n",
        "print(unique_superhost)"
      ]
    },
    {
      "cell_type": "code",
      "execution_count": null,
      "metadata": {
        "id": "9kMUs4oh5312"
      },
      "outputs": [],
      "source": [
        "#Dado que sólo hay 2, creamos variables binarias para verificar si tienen alguna influencia en el precio\n",
        "df = pd.get_dummies(df, columns=['superhost'], prefix='superhost')"
      ]
    },
    {
      "cell_type": "code",
      "execution_count": null,
      "metadata": {
        "id": "CEXlciTsRAQk"
      },
      "outputs": [],
      "source": [
        "df.rename(columns={\"superhost_Anfitrion particular\":\"A. particular\", \"superhost_Anfitrion profesional\":\"A. profesional\"}, inplace=True)"
      ]
    },
    {
      "cell_type": "code",
      "execution_count": null,
      "metadata": {
        "colab": {
          "base_uri": "https://localhost:8080/",
          "height": 164
        },
        "id": "HZc6ndqi7DdK",
        "outputId": "f030ab05-16af-4772-bfc0-ad3c80f660b7"
      },
      "outputs": [
        {
          "data": {
            "text/html": [
              "<div>\n",
              "<style scoped>\n",
              "    .dataframe tbody tr th:only-of-type {\n",
              "        vertical-align: middle;\n",
              "    }\n",
              "\n",
              "    .dataframe tbody tr th {\n",
              "        vertical-align: top;\n",
              "    }\n",
              "\n",
              "    .dataframe thead th {\n",
              "        text-align: right;\n",
              "    }\n",
              "</style>\n",
              "<table border=\"1\" class=\"dataframe\">\n",
              "  <thead>\n",
              "    <tr style=\"text-align: right;\">\n",
              "      <th></th>\n",
              "      <th>url</th>\n",
              "      <th>name</th>\n",
              "      <th>ciudad</th>\n",
              "      <th>precio_por_noche</th>\n",
              "      <th>rating</th>\n",
              "      <th>review</th>\n",
              "      <th>valor_ciudad</th>\n",
              "      <th>A. particular</th>\n",
              "      <th>A. profesional</th>\n",
              "    </tr>\n",
              "  </thead>\n",
              "  <tbody>\n",
              "    <tr>\n",
              "      <th>0</th>\n",
              "      <td>/rooms/47505891?adults=1&amp;children=0&amp;enable_m3_...</td>\n",
              "      <td>Loft en Valencia</td>\n",
              "      <td>valencia</td>\n",
              "      <td>101</td>\n",
              "      <td>4.98</td>\n",
              "      <td>249</td>\n",
              "      <td>3</td>\n",
              "      <td>1</td>\n",
              "      <td>0</td>\n",
              "    </tr>\n",
              "    <tr>\n",
              "      <th>1</th>\n",
              "      <td>/rooms/997063990758123324?adults=1&amp;children=0&amp;...</td>\n",
              "      <td>Apartamento en Valencia</td>\n",
              "      <td>valencia</td>\n",
              "      <td>143</td>\n",
              "      <td>5.00</td>\n",
              "      <td>19</td>\n",
              "      <td>3</td>\n",
              "      <td>1</td>\n",
              "      <td>0</td>\n",
              "    </tr>\n",
              "  </tbody>\n",
              "</table>\n",
              "</div>"
            ],
            "text/plain": [
              "                                                 url                     name  \\\n",
              "0  /rooms/47505891?adults=1&children=0&enable_m3_...         Loft en Valencia   \n",
              "1  /rooms/997063990758123324?adults=1&children=0&...  Apartamento en Valencia   \n",
              "\n",
              "     ciudad  precio_por_noche  rating  review  valor_ciudad  A. particular  \\\n",
              "0  valencia               101    4.98     249             3              1   \n",
              "1  valencia               143    5.00      19             3              1   \n",
              "\n",
              "   A. profesional  \n",
              "0               0  \n",
              "1               0  "
            ]
          },
          "execution_count": 53,
          "metadata": {},
          "output_type": "execute_result"
        }
      ],
      "source": [
        "df.head(2)"
      ]
    },
    {
      "cell_type": "code",
      "execution_count": null,
      "metadata": {
        "colab": {
          "base_uri": "https://localhost:8080/"
        },
        "id": "w-Yjk5D_XSXF",
        "outputId": "16e13c40-057a-455e-bb60-ebb1a8ce8077"
      },
      "outputs": [
        {
          "data": {
            "text/plain": [
              "url                  object\n",
              "name                 object\n",
              "ciudad               object\n",
              "precio_por_noche      int32\n",
              "rating              float64\n",
              "review                int64\n",
              "valor_ciudad          int64\n",
              "A. particular         uint8\n",
              "A. profesional        uint8\n",
              "dtype: object"
            ]
          },
          "execution_count": 54,
          "metadata": {},
          "output_type": "execute_result"
        }
      ],
      "source": [
        "df.dtypes"
      ]
    },
    {
      "cell_type": "code",
      "execution_count": null,
      "metadata": {
        "colab": {
          "base_uri": "https://localhost:8080/",
          "height": 206
        },
        "id": "jdtGQz-_75-_",
        "outputId": "d2293395-88e4-48d2-f53d-030aadb6cba8"
      },
      "outputs": [
        {
          "data": {
            "text/html": [
              "<div>\n",
              "<style scoped>\n",
              "    .dataframe tbody tr th:only-of-type {\n",
              "        vertical-align: middle;\n",
              "    }\n",
              "\n",
              "    .dataframe tbody tr th {\n",
              "        vertical-align: top;\n",
              "    }\n",
              "\n",
              "    .dataframe thead th {\n",
              "        text-align: right;\n",
              "    }\n",
              "</style>\n",
              "<table border=\"1\" class=\"dataframe\">\n",
              "  <thead>\n",
              "    <tr style=\"text-align: right;\">\n",
              "      <th></th>\n",
              "      <th>precio_por_noche</th>\n",
              "      <th>rating</th>\n",
              "      <th>review</th>\n",
              "      <th>valor_ciudad</th>\n",
              "      <th>A. profesional</th>\n",
              "    </tr>\n",
              "  </thead>\n",
              "  <tbody>\n",
              "    <tr>\n",
              "      <th>precio_por_noche</th>\n",
              "      <td>1.000000</td>\n",
              "      <td>0.201916</td>\n",
              "      <td>0.070886</td>\n",
              "      <td>0.037426</td>\n",
              "      <td>0.124240</td>\n",
              "    </tr>\n",
              "    <tr>\n",
              "      <th>rating</th>\n",
              "      <td>0.201916</td>\n",
              "      <td>1.000000</td>\n",
              "      <td>0.015459</td>\n",
              "      <td>0.071404</td>\n",
              "      <td>-0.204790</td>\n",
              "    </tr>\n",
              "    <tr>\n",
              "      <th>review</th>\n",
              "      <td>0.070886</td>\n",
              "      <td>0.015459</td>\n",
              "      <td>1.000000</td>\n",
              "      <td>0.041683</td>\n",
              "      <td>-0.107287</td>\n",
              "    </tr>\n",
              "    <tr>\n",
              "      <th>valor_ciudad</th>\n",
              "      <td>0.037426</td>\n",
              "      <td>0.071404</td>\n",
              "      <td>0.041683</td>\n",
              "      <td>1.000000</td>\n",
              "      <td>-0.153956</td>\n",
              "    </tr>\n",
              "    <tr>\n",
              "      <th>A. profesional</th>\n",
              "      <td>0.124240</td>\n",
              "      <td>-0.204790</td>\n",
              "      <td>-0.107287</td>\n",
              "      <td>-0.153956</td>\n",
              "      <td>1.000000</td>\n",
              "    </tr>\n",
              "  </tbody>\n",
              "</table>\n",
              "</div>"
            ],
            "text/plain": [
              "                  precio_por_noche    rating    review  valor_ciudad  \\\n",
              "precio_por_noche          1.000000  0.201916  0.070886      0.037426   \n",
              "rating                    0.201916  1.000000  0.015459      0.071404   \n",
              "review                    0.070886  0.015459  1.000000      0.041683   \n",
              "valor_ciudad              0.037426  0.071404  0.041683      1.000000   \n",
              "A. profesional            0.124240 -0.204790 -0.107287     -0.153956   \n",
              "\n",
              "                  A. profesional  \n",
              "precio_por_noche        0.124240  \n",
              "rating                 -0.204790  \n",
              "review                 -0.107287  \n",
              "valor_ciudad           -0.153956  \n",
              "A. profesional          1.000000  "
            ]
          },
          "execution_count": 55,
          "metadata": {},
          "output_type": "execute_result"
        }
      ],
      "source": [
        "matriz_correlacion = df[['precio_por_noche', 'rating', 'review', 'valor_ciudad', 'A. profesional']].corr()\n",
        "matriz_correlacion"
      ]
    },
    {
      "cell_type": "code",
      "execution_count": null,
      "metadata": {
        "colab": {
          "base_uri": "https://localhost:8080/",
          "height": 1000
        },
        "id": "hRcnQddj35la",
        "outputId": "6f321c1a-af03-474d-a353-83381e486a93"
      },
      "outputs": [
        {
          "data": {
            "image/png": "[encoded data removed]",
            "text/plain": [
              "<Figure size 3000x2500 with 2 Axes>"
            ]
          },
          "metadata": {},
          "output_type": "display_data"
        }
      ],
      "source": [
        "plt.figure(figsize=(30, 25))\n",
        "sns.heatmap(matriz_correlacion, cmap=\"viridis\", annot=True, annot_kws={\"fontsize\":50}, fmt=\".1f\", linewidths=.5)\n",
        "font_dict = {'fontsize': 50, 'fontweight': 'bold', 'fontfamily': 'serif'}\n",
        "plt.title('Correlación sobre el precio DS Airbnb',fontsize=50, fontdict=font_dict)\n",
        "plt.xticks(fontsize=20)\n",
        "plt.yticks(fontsize=20)\n",
        "plt.show()"
      ]
    },
    {
      "cell_type": "markdown",
      "metadata": {
        "id": "OYjTLyIx8PZ9"
      },
      "source": [
        "En general en df hay una correlación baja (cercana a 0) entre las variables. Rating (0.21) es la que tiene un coeficiente mayor, es decir es la que mas influye en el precio y lo hace de manera directa (mayor rating = mayor precio). superhost_Anfitrión profesional tiene un coeficiente de 0.11 lo que se puede interpretar como que ser anfitrión profesional tiene un ligero efecto positivo sobre el precio final."
      ]
    },
    {
      "cell_type": "code",
      "execution_count": null,
      "metadata": {
        "colab": {
          "base_uri": "https://localhost:8080/"
        },
        "id": "l4k2llaG83NY",
        "outputId": "55233b6c-141a-4910-ac07-4a99528a26b2"
      },
      "outputs": [
        {
          "data": {
            "text/plain": [
              "apartment_id                     int64\n",
              "name                            object\n",
              "alojamientos                     int64\n",
              "baños                            int32\n",
              "dormitorios                      int32\n",
              "camas                            int32\n",
              "precio                           int32\n",
              "minimum_nights                   int64\n",
              "maximum_nights                   int32\n",
              "availability_30                  int32\n",
              "availability_60                  int64\n",
              "availability_90                  int32\n",
              "availability_365                 int64\n",
              "number_of_reviews                int64\n",
              "review_scores_rating             int32\n",
              "review_scores_accuracy           int32\n",
              "review_scores_cleanliness        int32\n",
              "review_scores_checkin            int32\n",
              "review_scores_communication      int32\n",
              "review_scores_location           int32\n",
              "review_scores_value              int32\n",
              "is_instant_bookable               bool\n",
              "reviews_per_month              float64\n",
              "city                            object\n",
              "insert_date                     object\n",
              "dtype: object"
            ]
          },
          "execution_count": 57,
          "metadata": {},
          "output_type": "execute_result"
        }
      ],
      "source": [
        "# queremos hacer la Matriz de Correlación en el df_White_Hosting, vamos a ver que columnnas podemos usar\n",
        "df_White_Hosting.dtypes"
      ]
    },
    {
      "cell_type": "code",
      "execution_count": null,
      "metadata": {
        "colab": {
          "base_uri": "https://localhost:8080/",
          "height": 320
        },
        "id": "vXQVBND08-jv",
        "outputId": "817776be-cfb6-454b-ad2a-64ebec65a6ed"
      },
      "outputs": [
        {
          "data": {
            "text/html": [
              "<div>\n",
              "<style scoped>\n",
              "    .dataframe tbody tr th:only-of-type {\n",
              "        vertical-align: middle;\n",
              "    }\n",
              "\n",
              "    .dataframe tbody tr th {\n",
              "        vertical-align: top;\n",
              "    }\n",
              "\n",
              "    .dataframe thead th {\n",
              "        text-align: right;\n",
              "    }\n",
              "</style>\n",
              "<table border=\"1\" class=\"dataframe\">\n",
              "  <thead>\n",
              "    <tr style=\"text-align: right;\">\n",
              "      <th></th>\n",
              "      <th>precio</th>\n",
              "      <th>review_scores_rating</th>\n",
              "      <th>review_scores_location</th>\n",
              "      <th>review_scores_value</th>\n",
              "      <th>review_scores_cleanliness</th>\n",
              "      <th>reviews_per_month</th>\n",
              "      <th>review_scores_accuracy</th>\n",
              "      <th>review_scores_communication</th>\n",
              "    </tr>\n",
              "  </thead>\n",
              "  <tbody>\n",
              "    <tr>\n",
              "      <th>precio</th>\n",
              "      <td>1.000000</td>\n",
              "      <td>-0.011388</td>\n",
              "      <td>0.024459</td>\n",
              "      <td>-0.073549</td>\n",
              "      <td>0.038066</td>\n",
              "      <td>-0.073949</td>\n",
              "      <td>-0.018034</td>\n",
              "      <td>-0.034264</td>\n",
              "    </tr>\n",
              "    <tr>\n",
              "      <th>review_scores_rating</th>\n",
              "      <td>-0.011388</td>\n",
              "      <td>1.000000</td>\n",
              "      <td>0.412529</td>\n",
              "      <td>0.800319</td>\n",
              "      <td>0.688062</td>\n",
              "      <td>0.104275</td>\n",
              "      <td>0.748303</td>\n",
              "      <td>0.632884</td>\n",
              "    </tr>\n",
              "    <tr>\n",
              "      <th>review_scores_location</th>\n",
              "      <td>0.024459</td>\n",
              "      <td>0.412529</td>\n",
              "      <td>1.000000</td>\n",
              "      <td>0.417756</td>\n",
              "      <td>0.301097</td>\n",
              "      <td>0.113396</td>\n",
              "      <td>0.400085</td>\n",
              "      <td>0.364852</td>\n",
              "    </tr>\n",
              "    <tr>\n",
              "      <th>review_scores_value</th>\n",
              "      <td>-0.073549</td>\n",
              "      <td>0.800319</td>\n",
              "      <td>0.417756</td>\n",
              "      <td>1.000000</td>\n",
              "      <td>0.621798</td>\n",
              "      <td>0.111666</td>\n",
              "      <td>0.684440</td>\n",
              "      <td>0.545972</td>\n",
              "    </tr>\n",
              "    <tr>\n",
              "      <th>review_scores_cleanliness</th>\n",
              "      <td>0.038066</td>\n",
              "      <td>0.688062</td>\n",
              "      <td>0.301097</td>\n",
              "      <td>0.621798</td>\n",
              "      <td>1.000000</td>\n",
              "      <td>0.106212</td>\n",
              "      <td>0.613189</td>\n",
              "      <td>0.474232</td>\n",
              "    </tr>\n",
              "    <tr>\n",
              "      <th>reviews_per_month</th>\n",
              "      <td>-0.073949</td>\n",
              "      <td>0.104275</td>\n",
              "      <td>0.113396</td>\n",
              "      <td>0.111666</td>\n",
              "      <td>0.106212</td>\n",
              "      <td>1.000000</td>\n",
              "      <td>0.133597</td>\n",
              "      <td>0.117111</td>\n",
              "    </tr>\n",
              "    <tr>\n",
              "      <th>review_scores_accuracy</th>\n",
              "      <td>-0.018034</td>\n",
              "      <td>0.748303</td>\n",
              "      <td>0.400085</td>\n",
              "      <td>0.684440</td>\n",
              "      <td>0.613189</td>\n",
              "      <td>0.133597</td>\n",
              "      <td>1.000000</td>\n",
              "      <td>0.566501</td>\n",
              "    </tr>\n",
              "    <tr>\n",
              "      <th>review_scores_communication</th>\n",
              "      <td>-0.034264</td>\n",
              "      <td>0.632884</td>\n",
              "      <td>0.364852</td>\n",
              "      <td>0.545972</td>\n",
              "      <td>0.474232</td>\n",
              "      <td>0.117111</td>\n",
              "      <td>0.566501</td>\n",
              "      <td>1.000000</td>\n",
              "    </tr>\n",
              "  </tbody>\n",
              "</table>\n",
              "</div>"
            ],
            "text/plain": [
              "                               precio  review_scores_rating  \\\n",
              "precio                       1.000000             -0.011388   \n",
              "review_scores_rating        -0.011388              1.000000   \n",
              "review_scores_location       0.024459              0.412529   \n",
              "review_scores_value         -0.073549              0.800319   \n",
              "review_scores_cleanliness    0.038066              0.688062   \n",
              "reviews_per_month           -0.073949              0.104275   \n",
              "review_scores_accuracy      -0.018034              0.748303   \n",
              "review_scores_communication -0.034264              0.632884   \n",
              "\n",
              "                             review_scores_location  review_scores_value  \\\n",
              "precio                                     0.024459            -0.073549   \n",
              "review_scores_rating                       0.412529             0.800319   \n",
              "review_scores_location                     1.000000             0.417756   \n",
              "review_scores_value                        0.417756             1.000000   \n",
              "review_scores_cleanliness                  0.301097             0.621798   \n",
              "reviews_per_month                          0.113396             0.111666   \n",
              "review_scores_accuracy                     0.400085             0.684440   \n",
              "review_scores_communication                0.364852             0.545972   \n",
              "\n",
              "                             review_scores_cleanliness  reviews_per_month  \\\n",
              "precio                                        0.038066          -0.073949   \n",
              "review_scores_rating                          0.688062           0.104275   \n",
              "review_scores_location                        0.301097           0.113396   \n",
              "review_scores_value                           0.621798           0.111666   \n",
              "review_scores_cleanliness                     1.000000           0.106212   \n",
              "reviews_per_month                             0.106212           1.000000   \n",
              "review_scores_accuracy                        0.613189           0.133597   \n",
              "review_scores_communication                   0.474232           0.117111   \n",
              "\n",
              "                             review_scores_accuracy  \\\n",
              "precio                                    -0.018034   \n",
              "review_scores_rating                       0.748303   \n",
              "review_scores_location                     0.400085   \n",
              "review_scores_value                        0.684440   \n",
              "review_scores_cleanliness                  0.613189   \n",
              "reviews_per_month                          0.133597   \n",
              "review_scores_accuracy                     1.000000   \n",
              "review_scores_communication                0.566501   \n",
              "\n",
              "                             review_scores_communication  \n",
              "precio                                         -0.034264  \n",
              "review_scores_rating                            0.632884  \n",
              "review_scores_location                          0.364852  \n",
              "review_scores_value                             0.545972  \n",
              "review_scores_cleanliness                       0.474232  \n",
              "reviews_per_month                               0.117111  \n",
              "review_scores_accuracy                          0.566501  \n",
              "review_scores_communication                     1.000000  "
            ]
          },
          "execution_count": 58,
          "metadata": {},
          "output_type": "execute_result"
        }
      ],
      "source": [
        "#Matriz de Correlación sin nan\n",
        "matriz_correlacion = df_White_Hosting[['precio', 'review_scores_rating', 'review_scores_location', 'review_scores_value', 'review_scores_cleanliness', 'reviews_per_month', 'review_scores_accuracy', 'review_scores_communication' ]].corr()\n",
        "matriz_correlacion"
      ]
    },
    {
      "cell_type": "code",
      "execution_count": null,
      "metadata": {
        "id": "RQ4Kk7GM9QlJ"
      },
      "outputs": [],
      "source": [
        "df_White_Hosting = pd.get_dummies(df_White_Hosting, columns=['is_instant_bookable'], prefix='bookable')"
      ]
    },
    {
      "cell_type": "code",
      "execution_count": null,
      "metadata": {
        "colab": {
          "base_uri": "https://localhost:8080/",
          "height": 238
        },
        "id": "q7GWAmBn83Tv",
        "outputId": "315d51a3-4a76-4141-8998-0f2e5d56ab54"
      },
      "outputs": [
        {
          "data": {
            "text/html": [
              "<div>\n",
              "<style scoped>\n",
              "    .dataframe tbody tr th:only-of-type {\n",
              "        vertical-align: middle;\n",
              "    }\n",
              "\n",
              "    .dataframe tbody tr th {\n",
              "        vertical-align: top;\n",
              "    }\n",
              "\n",
              "    .dataframe thead th {\n",
              "        text-align: right;\n",
              "    }\n",
              "</style>\n",
              "<table border=\"1\" class=\"dataframe\">\n",
              "  <thead>\n",
              "    <tr style=\"text-align: right;\">\n",
              "      <th></th>\n",
              "      <th>precio</th>\n",
              "      <th>alojamientos</th>\n",
              "      <th>baños</th>\n",
              "      <th>dormitorios</th>\n",
              "      <th>camas</th>\n",
              "      <th>bookable_True</th>\n",
              "    </tr>\n",
              "  </thead>\n",
              "  <tbody>\n",
              "    <tr>\n",
              "      <th>precio</th>\n",
              "      <td>1.000000</td>\n",
              "      <td>0.568961</td>\n",
              "      <td>0.277722</td>\n",
              "      <td>0.502372</td>\n",
              "      <td>0.508479</td>\n",
              "      <td>0.084368</td>\n",
              "    </tr>\n",
              "    <tr>\n",
              "      <th>alojamientos</th>\n",
              "      <td>0.568961</td>\n",
              "      <td>1.000000</td>\n",
              "      <td>0.357396</td>\n",
              "      <td>0.777567</td>\n",
              "      <td>0.843576</td>\n",
              "      <td>0.124361</td>\n",
              "    </tr>\n",
              "    <tr>\n",
              "      <th>baños</th>\n",
              "      <td>0.277722</td>\n",
              "      <td>0.357396</td>\n",
              "      <td>1.000000</td>\n",
              "      <td>0.425586</td>\n",
              "      <td>0.413751</td>\n",
              "      <td>0.001292</td>\n",
              "    </tr>\n",
              "    <tr>\n",
              "      <th>dormitorios</th>\n",
              "      <td>0.502372</td>\n",
              "      <td>0.777567</td>\n",
              "      <td>0.425586</td>\n",
              "      <td>1.000000</td>\n",
              "      <td>0.777710</td>\n",
              "      <td>0.029764</td>\n",
              "    </tr>\n",
              "    <tr>\n",
              "      <th>camas</th>\n",
              "      <td>0.508479</td>\n",
              "      <td>0.843576</td>\n",
              "      <td>0.413751</td>\n",
              "      <td>0.777710</td>\n",
              "      <td>1.000000</td>\n",
              "      <td>0.069265</td>\n",
              "    </tr>\n",
              "    <tr>\n",
              "      <th>bookable_True</th>\n",
              "      <td>0.084368</td>\n",
              "      <td>0.124361</td>\n",
              "      <td>0.001292</td>\n",
              "      <td>0.029764</td>\n",
              "      <td>0.069265</td>\n",
              "      <td>1.000000</td>\n",
              "    </tr>\n",
              "  </tbody>\n",
              "</table>\n",
              "</div>"
            ],
            "text/plain": [
              "                 precio  alojamientos     baños  dormitorios     camas  \\\n",
              "precio         1.000000      0.568961  0.277722     0.502372  0.508479   \n",
              "alojamientos   0.568961      1.000000  0.357396     0.777567  0.843576   \n",
              "baños          0.277722      0.357396  1.000000     0.425586  0.413751   \n",
              "dormitorios    0.502372      0.777567  0.425586     1.000000  0.777710   \n",
              "camas          0.508479      0.843576  0.413751     0.777710  1.000000   \n",
              "bookable_True  0.084368      0.124361  0.001292     0.029764  0.069265   \n",
              "\n",
              "               bookable_True  \n",
              "precio              0.084368  \n",
              "alojamientos        0.124361  \n",
              "baños               0.001292  \n",
              "dormitorios         0.029764  \n",
              "camas               0.069265  \n",
              "bookable_True       1.000000  "
            ]
          },
          "execution_count": 60,
          "metadata": {},
          "output_type": "execute_result"
        }
      ],
      "source": [
        "matriz_correlacion = df_White_Hosting[['precio', 'alojamientos', 'baños', 'dormitorios', 'camas', 'bookable_True']].corr()\n",
        "matriz_correlacion"
      ]
    },
    {
      "cell_type": "code",
      "execution_count": null,
      "metadata": {
        "colab": {
          "base_uri": "https://localhost:8080/",
          "height": 206
        },
        "id": "6WbEkrf2r9on",
        "outputId": "643f70d5-60a4-4f41-f387-855333f58c8f"
      },
      "outputs": [
        {
          "data": {
            "text/html": [
              "<div>\n",
              "<style scoped>\n",
              "    .dataframe tbody tr th:only-of-type {\n",
              "        vertical-align: middle;\n",
              "    }\n",
              "\n",
              "    .dataframe tbody tr th {\n",
              "        vertical-align: top;\n",
              "    }\n",
              "\n",
              "    .dataframe thead th {\n",
              "        text-align: right;\n",
              "    }\n",
              "</style>\n",
              "<table border=\"1\" class=\"dataframe\">\n",
              "  <thead>\n",
              "    <tr style=\"text-align: right;\">\n",
              "      <th></th>\n",
              "      <th>precio</th>\n",
              "      <th>alojamientos</th>\n",
              "      <th>baños</th>\n",
              "      <th>dormitorios</th>\n",
              "      <th>camas</th>\n",
              "    </tr>\n",
              "  </thead>\n",
              "  <tbody>\n",
              "    <tr>\n",
              "      <th>precio</th>\n",
              "      <td>1.000000</td>\n",
              "      <td>0.568961</td>\n",
              "      <td>0.277722</td>\n",
              "      <td>0.502372</td>\n",
              "      <td>0.508479</td>\n",
              "    </tr>\n",
              "    <tr>\n",
              "      <th>alojamientos</th>\n",
              "      <td>0.568961</td>\n",
              "      <td>1.000000</td>\n",
              "      <td>0.357396</td>\n",
              "      <td>0.777567</td>\n",
              "      <td>0.843576</td>\n",
              "    </tr>\n",
              "    <tr>\n",
              "      <th>baños</th>\n",
              "      <td>0.277722</td>\n",
              "      <td>0.357396</td>\n",
              "      <td>1.000000</td>\n",
              "      <td>0.425586</td>\n",
              "      <td>0.413751</td>\n",
              "    </tr>\n",
              "    <tr>\n",
              "      <th>dormitorios</th>\n",
              "      <td>0.502372</td>\n",
              "      <td>0.777567</td>\n",
              "      <td>0.425586</td>\n",
              "      <td>1.000000</td>\n",
              "      <td>0.777710</td>\n",
              "    </tr>\n",
              "    <tr>\n",
              "      <th>camas</th>\n",
              "      <td>0.508479</td>\n",
              "      <td>0.843576</td>\n",
              "      <td>0.413751</td>\n",
              "      <td>0.777710</td>\n",
              "      <td>1.000000</td>\n",
              "    </tr>\n",
              "  </tbody>\n",
              "</table>\n",
              "</div>"
            ],
            "text/plain": [
              "                precio  alojamientos     baños  dormitorios     camas\n",
              "precio        1.000000      0.568961  0.277722     0.502372  0.508479\n",
              "alojamientos  0.568961      1.000000  0.357396     0.777567  0.843576\n",
              "baños         0.277722      0.357396  1.000000     0.425586  0.413751\n",
              "dormitorios   0.502372      0.777567  0.425586     1.000000  0.777710\n",
              "camas         0.508479      0.843576  0.413751     0.777710  1.000000"
            ]
          },
          "execution_count": 61,
          "metadata": {},
          "output_type": "execute_result"
        }
      ],
      "source": [
        "matriz_correlacion = df_White_Hosting[['precio', 'alojamientos', 'baños', 'dormitorios', 'camas']].corr()\n",
        "matriz_correlacion"
      ]
    },
    {
      "cell_type": "code",
      "execution_count": null,
      "metadata": {
        "colab": {
          "base_uri": "https://localhost:8080/",
          "height": 1000
        },
        "id": "dp7oI0pjLgeY",
        "outputId": "e6f7105e-3ec5-4954-851e-b246365d37f3"
      },
      "outputs": [
        {
          "data": {
            "image/png": "[encoded data removed]",
            "text/plain": [
              "<Figure size 2000x1500 with 2 Axes>"
            ]
          },
          "metadata": {},
          "output_type": "display_data"
        }
      ],
      "source": [
        "plt.figure(figsize=(20, 15))\n",
        "sns.heatmap(matriz_correlacion, cmap=\"rocket\", annot=True, annot_kws={\"fontsize\":30}, fmt=\".1f\", linewidths=.5)\n",
        "font_dict = {'fontsize': 30, 'fontweight': 'bold', 'fontfamily': 'serif'}\n",
        "plt.title('Correlación sobre el precio DS WhiteHosting',fontsize=30, fontdict=font_dict)\n",
        "plt.xticks(fontsize=30)\n",
        "plt.yticks(fontsize=30)\n",
        "\n",
        "plt.show()"
      ]
    },
    {
      "cell_type": "code",
      "execution_count": null,
      "metadata": {
        "colab": {
          "base_uri": "https://localhost:8080/",
          "height": 300
        },
        "id": "7ynG4Jj29r9N",
        "outputId": "ccca05e8-fae3-4cb9-99bd-f8fc0eb62778"
      },
      "outputs": [
        {
          "data": {
            "text/html": [
              "<div>\n",
              "<style scoped>\n",
              "    .dataframe tbody tr th:only-of-type {\n",
              "        vertical-align: middle;\n",
              "    }\n",
              "\n",
              "    .dataframe tbody tr th {\n",
              "        vertical-align: top;\n",
              "    }\n",
              "\n",
              "    .dataframe thead th {\n",
              "        text-align: right;\n",
              "    }\n",
              "</style>\n",
              "<table border=\"1\" class=\"dataframe\">\n",
              "  <thead>\n",
              "    <tr style=\"text-align: right;\">\n",
              "      <th></th>\n",
              "      <th>precio</th>\n",
              "      <th>availability_30</th>\n",
              "      <th>availability_60</th>\n",
              "      <th>availability_90</th>\n",
              "      <th>availability_365</th>\n",
              "      <th>number_of_reviews</th>\n",
              "      <th>minimum_nights</th>\n",
              "      <th>maximum_nights</th>\n",
              "    </tr>\n",
              "  </thead>\n",
              "  <tbody>\n",
              "    <tr>\n",
              "      <th>precio</th>\n",
              "      <td>1.000000</td>\n",
              "      <td>0.064789</td>\n",
              "      <td>0.063775</td>\n",
              "      <td>0.073291</td>\n",
              "      <td>0.165866</td>\n",
              "      <td>-0.014795</td>\n",
              "      <td>-0.022173</td>\n",
              "      <td>0.033760</td>\n",
              "    </tr>\n",
              "    <tr>\n",
              "      <th>availability_30</th>\n",
              "      <td>0.064789</td>\n",
              "      <td>1.000000</td>\n",
              "      <td>0.929284</td>\n",
              "      <td>0.856587</td>\n",
              "      <td>0.466359</td>\n",
              "      <td>0.010893</td>\n",
              "      <td>-0.027019</td>\n",
              "      <td>0.012077</td>\n",
              "    </tr>\n",
              "    <tr>\n",
              "      <th>availability_60</th>\n",
              "      <td>0.063775</td>\n",
              "      <td>0.929284</td>\n",
              "      <td>1.000000</td>\n",
              "      <td>0.966845</td>\n",
              "      <td>0.542513</td>\n",
              "      <td>0.015609</td>\n",
              "      <td>-0.029712</td>\n",
              "      <td>0.016336</td>\n",
              "    </tr>\n",
              "    <tr>\n",
              "      <th>availability_90</th>\n",
              "      <td>0.073291</td>\n",
              "      <td>0.856587</td>\n",
              "      <td>0.966845</td>\n",
              "      <td>1.000000</td>\n",
              "      <td>0.598510</td>\n",
              "      <td>0.020172</td>\n",
              "      <td>-0.030650</td>\n",
              "      <td>0.022604</td>\n",
              "    </tr>\n",
              "    <tr>\n",
              "      <th>availability_365</th>\n",
              "      <td>0.165866</td>\n",
              "      <td>0.466359</td>\n",
              "      <td>0.542513</td>\n",
              "      <td>0.598510</td>\n",
              "      <td>1.000000</td>\n",
              "      <td>0.064532</td>\n",
              "      <td>-0.007627</td>\n",
              "      <td>0.106617</td>\n",
              "    </tr>\n",
              "    <tr>\n",
              "      <th>number_of_reviews</th>\n",
              "      <td>-0.014795</td>\n",
              "      <td>0.010893</td>\n",
              "      <td>0.015609</td>\n",
              "      <td>0.020172</td>\n",
              "      <td>0.064532</td>\n",
              "      <td>1.000000</td>\n",
              "      <td>-0.046845</td>\n",
              "      <td>-0.050058</td>\n",
              "    </tr>\n",
              "    <tr>\n",
              "      <th>minimum_nights</th>\n",
              "      <td>-0.022173</td>\n",
              "      <td>-0.027019</td>\n",
              "      <td>-0.029712</td>\n",
              "      <td>-0.030650</td>\n",
              "      <td>-0.007627</td>\n",
              "      <td>-0.046845</td>\n",
              "      <td>1.000000</td>\n",
              "      <td>0.015757</td>\n",
              "    </tr>\n",
              "    <tr>\n",
              "      <th>maximum_nights</th>\n",
              "      <td>0.033760</td>\n",
              "      <td>0.012077</td>\n",
              "      <td>0.016336</td>\n",
              "      <td>0.022604</td>\n",
              "      <td>0.106617</td>\n",
              "      <td>-0.050058</td>\n",
              "      <td>0.015757</td>\n",
              "      <td>1.000000</td>\n",
              "    </tr>\n",
              "  </tbody>\n",
              "</table>\n",
              "</div>"
            ],
            "text/plain": [
              "                     precio  availability_30  availability_60  \\\n",
              "precio             1.000000         0.064789         0.063775   \n",
              "availability_30    0.064789         1.000000         0.929284   \n",
              "availability_60    0.063775         0.929284         1.000000   \n",
              "availability_90    0.073291         0.856587         0.966845   \n",
              "availability_365   0.165866         0.466359         0.542513   \n",
              "number_of_reviews -0.014795         0.010893         0.015609   \n",
              "minimum_nights    -0.022173        -0.027019        -0.029712   \n",
              "maximum_nights     0.033760         0.012077         0.016336   \n",
              "\n",
              "                   availability_90  availability_365  number_of_reviews  \\\n",
              "precio                    0.073291          0.165866          -0.014795   \n",
              "availability_30           0.856587          0.466359           0.010893   \n",
              "availability_60           0.966845          0.542513           0.015609   \n",
              "availability_90           1.000000          0.598510           0.020172   \n",
              "availability_365          0.598510          1.000000           0.064532   \n",
              "number_of_reviews         0.020172          0.064532           1.000000   \n",
              "minimum_nights           -0.030650         -0.007627          -0.046845   \n",
              "maximum_nights            0.022604          0.106617          -0.050058   \n",
              "\n",
              "                   minimum_nights  maximum_nights  \n",
              "precio                  -0.022173        0.033760  \n",
              "availability_30         -0.027019        0.012077  \n",
              "availability_60         -0.029712        0.016336  \n",
              "availability_90         -0.030650        0.022604  \n",
              "availability_365        -0.007627        0.106617  \n",
              "number_of_reviews       -0.046845       -0.050058  \n",
              "minimum_nights           1.000000        0.015757  \n",
              "maximum_nights           0.015757        1.000000  "
            ]
          },
          "execution_count": 63,
          "metadata": {},
          "output_type": "execute_result"
        }
      ],
      "source": [
        "matriz_correlacion = df_White_Hosting[['precio', 'availability_30', 'availability_60', 'availability_90', 'availability_365', 'number_of_reviews', 'minimum_nights', 'maximum_nights']].corr()\n",
        "matriz_correlacion"
      ]
    },
    {
      "cell_type": "markdown",
      "metadata": {
        "id": "6on201C1-DrQ"
      },
      "source": [
        "Si un alojamiento tiene disponibilidad todo el año hay un ligero impacto positivo sobre el precio\n",
        "\n",
        "En el df_White_Hosting influye de manera más fuerte la variable accommodates sobre el precio. Esto significa que el precio se encuentra más influenciado por la cantidad de gente que se puede hospedar en el."
      ]
    },
    {
      "cell_type": "markdown",
      "metadata": {
        "id": "eON1k9qc8RaJ"
      },
      "source": [
        "## 4.¿Son iguales los parámetros en ambas fuentes de datos?"
      ]
    },
    {
      "cell_type": "markdown",
      "metadata": {
        "id": "Ma9WJu2p-E7s"
      },
      "source": [
        "Tras calcular la correlación en ambos conjuntos de datos, se puede determinar que los parámetros que determinan el precio no son iguales en ambas fuentes:\n",
        "\n",
        "\n",
        "*   La variable rating es la que tiene mayor influencia sobre precio_final y la segunda con más influencia es superhost_Anfitrión profesional\n",
        "*   Las variables accommodates y beds son las que tienen mayor influencia sobre el precio en df_White_Hosting.\n"
      ]
    },
    {
      "cell_type": "markdown",
      "metadata": {
        "id": "4UiXFlWP-ajU"
      },
      "source": [
        "## 5.¿Has podido ver algún inmueble que está en ambas fuentes de datos?, es su valoración la misma?"
      ]
    },
    {
      "cell_type": "code",
      "execution_count": null,
      "metadata": {
        "id": "TSqKD2uI-ZzS"
      },
      "outputs": [],
      "source": [
        "# Para poder comprobar esta pregunta nos vamos a relizar un bucle que revise si cada nombre esta en la columna de la otra tabla\n",
        "df_unicos = df[[\"name\"]]\n",
        "df_White_Hosting_unicos = df_White_Hosting[[\"name\"]]"
      ]
    },
    {
      "cell_type": "code",
      "execution_count": null,
      "metadata": {
        "colab": {
          "base_uri": "https://localhost:8080/",
          "height": 363
        },
        "id": "R0rrVVvO-Z5a",
        "outputId": "c311d706-b425-4cc2-96d9-40ecb60987af"
      },
      "outputs": [
        {
          "data": {
            "text/html": [
              "<div>\n",
              "<style scoped>\n",
              "    .dataframe tbody tr th:only-of-type {\n",
              "        vertical-align: middle;\n",
              "    }\n",
              "\n",
              "    .dataframe tbody tr th {\n",
              "        vertical-align: top;\n",
              "    }\n",
              "\n",
              "    .dataframe thead th {\n",
              "        text-align: right;\n",
              "    }\n",
              "</style>\n",
              "<table border=\"1\" class=\"dataframe\">\n",
              "  <thead>\n",
              "    <tr style=\"text-align: right;\">\n",
              "      <th></th>\n",
              "      <th>name</th>\n",
              "    </tr>\n",
              "  </thead>\n",
              "  <tbody>\n",
              "    <tr>\n",
              "      <th>0</th>\n",
              "      <td>Loft en Valencia</td>\n",
              "    </tr>\n",
              "    <tr>\n",
              "      <th>1</th>\n",
              "      <td>Apartamento en Valencia</td>\n",
              "    </tr>\n",
              "    <tr>\n",
              "      <th>2</th>\n",
              "      <td>Apartamento en Valencia</td>\n",
              "    </tr>\n",
              "    <tr>\n",
              "      <th>4</th>\n",
              "      <td>Apartamento en Valencia</td>\n",
              "    </tr>\n",
              "    <tr>\n",
              "      <th>5</th>\n",
              "      <td>Loft en Valencia</td>\n",
              "    </tr>\n",
              "    <tr>\n",
              "      <th>6</th>\n",
              "      <td>Apartamento en Valencia</td>\n",
              "    </tr>\n",
              "    <tr>\n",
              "      <th>7</th>\n",
              "      <td>Apartamento en Valencia</td>\n",
              "    </tr>\n",
              "    <tr>\n",
              "      <th>8</th>\n",
              "      <td>Apartamento en Valencia</td>\n",
              "    </tr>\n",
              "    <tr>\n",
              "      <th>9</th>\n",
              "      <td>Apto. residencial en Mislata</td>\n",
              "    </tr>\n",
              "    <tr>\n",
              "      <th>10</th>\n",
              "      <td>Apartamento en Valencia</td>\n",
              "    </tr>\n",
              "  </tbody>\n",
              "</table>\n",
              "</div>"
            ],
            "text/plain": [
              "                            name\n",
              "0               Loft en Valencia\n",
              "1        Apartamento en Valencia\n",
              "2        Apartamento en Valencia\n",
              "4        Apartamento en Valencia\n",
              "5               Loft en Valencia\n",
              "6        Apartamento en Valencia\n",
              "7        Apartamento en Valencia\n",
              "8        Apartamento en Valencia\n",
              "9   Apto. residencial en Mislata\n",
              "10       Apartamento en Valencia"
            ]
          },
          "execution_count": 65,
          "metadata": {},
          "output_type": "execute_result"
        }
      ],
      "source": [
        "df_unicos.head(10)"
      ]
    },
    {
      "cell_type": "code",
      "execution_count": null,
      "metadata": {
        "colab": {
          "base_uri": "https://localhost:8080/",
          "height": 143
        },
        "id": "vnz-5yiWofn6",
        "outputId": "99973b71-3222-40f0-9484-0a42027fd763"
      },
      "outputs": [
        {
          "data": {
            "text/html": [
              "<div>\n",
              "<style scoped>\n",
              "    .dataframe tbody tr th:only-of-type {\n",
              "        vertical-align: middle;\n",
              "    }\n",
              "\n",
              "    .dataframe tbody tr th {\n",
              "        vertical-align: top;\n",
              "    }\n",
              "\n",
              "    .dataframe thead th {\n",
              "        text-align: right;\n",
              "    }\n",
              "</style>\n",
              "<table border=\"1\" class=\"dataframe\">\n",
              "  <thead>\n",
              "    <tr style=\"text-align: right;\">\n",
              "      <th></th>\n",
              "      <th>name</th>\n",
              "    </tr>\n",
              "  </thead>\n",
              "  <tbody>\n",
              "    <tr>\n",
              "      <th>0</th>\n",
              "      <td>Piso reformado excelente ubicacion</td>\n",
              "    </tr>\n",
              "    <tr>\n",
              "      <th>1</th>\n",
              "      <td>Nice Room in a Penthouse</td>\n",
              "    </tr>\n",
              "    <tr>\n",
              "      <th>5</th>\n",
              "      <td>Habitación en Madrid! &lt;&lt;Wifi&gt;&gt;Perfecto para 2!!!</td>\n",
              "    </tr>\n",
              "  </tbody>\n",
              "</table>\n",
              "</div>"
            ],
            "text/plain": [
              "                                               name\n",
              "0                Piso reformado excelente ubicacion\n",
              "1                          Nice Room in a Penthouse\n",
              "5  Habitación en Madrid! <<Wifi>>Perfecto para 2!!!"
            ]
          },
          "execution_count": 66,
          "metadata": {},
          "output_type": "execute_result"
        }
      ],
      "source": [
        "df_White_Hosting_unicos.head(3)"
      ]
    },
    {
      "cell_type": "markdown",
      "metadata": {
        "id": "cZlBJnlfZJV7"
      },
      "source": [
        "Para llevar a cabo esto, utilizamos un bucle con el cuál podemos comprobar a lo largo de toda la tabla si algún registro coincide con la otra tabla"
      ]
    },
    {
      "cell_type": "code",
      "execution_count": null,
      "metadata": {
        "id": "O4Slhjceofq2"
      },
      "outputs": [],
      "source": [
        "nombres_repetidos_df = []\n",
        "nombres_repetidos_White_Hosting = []"
      ]
    },
    {
      "cell_type": "code",
      "execution_count": null,
      "metadata": {
        "id": "c8MO0hIaongh"
      },
      "outputs": [],
      "source": [
        "for name in df_unicos['name']:\n",
        "  for indice in range(len(df_White_Hosting_unicos['name'])):\n",
        "    if name in df_White_Hosting_unicos['name']:\n",
        "\n",
        "      nombres_repetidos_White_Hosting.append(name)"
      ]
    },
    {
      "cell_type": "code",
      "execution_count": null,
      "metadata": {
        "colab": {
          "base_uri": "https://localhost:8080/"
        },
        "id": "kn7txMpbonjr",
        "outputId": "8456edd8-aa6d-4423-b463-b04a71b93869"
      },
      "outputs": [
        {
          "data": {
            "text/plain": [
              "[]"
            ]
          },
          "execution_count": 69,
          "metadata": {},
          "output_type": "execute_result"
        }
      ],
      "source": [
        "nombres_repetidos_White_Hosting"
      ]
    },
    {
      "cell_type": "code",
      "execution_count": null,
      "metadata": {
        "id": "Mo-eBtD3osOQ"
      },
      "outputs": [],
      "source": [
        "for name in df_White_Hosting_unicos['name']:\n",
        "  for indice in range(len(df_unicos['name'])):\n",
        "    if name in df_unicos['name']:\n",
        "      nombres_repetidos_df.append(name)"
      ]
    },
    {
      "cell_type": "code",
      "execution_count": null,
      "metadata": {
        "colab": {
          "base_uri": "https://localhost:8080/"
        },
        "id": "dZOa-nTYosQ4",
        "outputId": "0cc763b1-24c9-4432-efb7-10219365f753"
      },
      "outputs": [
        {
          "data": {
            "text/plain": [
              "[]"
            ]
          },
          "execution_count": 71,
          "metadata": {},
          "output_type": "execute_result"
        }
      ],
      "source": [
        "nombres_repetidos_df"
      ]
    },
    {
      "cell_type": "markdown",
      "metadata": {
        "id": "xawIgGv7Yw9L"
      },
      "source": [
        "A través de esta medida, parece que no existe ninguna coincidencia entre las tablas."
      ]
    },
    {
      "cell_type": "markdown",
      "metadata": {
        "id": "MkEirsEToxo8"
      },
      "source": [
        "## 6.¿En qué fuentes de datos hay más volatilidad en cuanto al precio? ¿Hay algún tipo de estacionalidad?"
      ]
    },
    {
      "cell_type": "markdown",
      "metadata": {
        "id": "uUfUO6fZZhj-"
      },
      "source": [
        "Para calcular la volatilidad del precio podemos llevar a cabo dos procedimientos igualmente válidos."
      ]
    },
    {
      "cell_type": "code",
      "execution_count": null,
      "metadata": {
        "colab": {
          "base_uri": "https://localhost:8080/"
        },
        "id": "JPWoe2SCosUM",
        "outputId": "587f4817-4936-4fb6-f454-0975fa7d646f"
      },
      "outputs": [
        {
          "data": {
            "text/plain": [
              "76.63"
            ]
          },
          "execution_count": 72,
          "metadata": {},
          "output_type": "execute_result"
        }
      ],
      "source": [
        "# Para el primero calcularemos previamente la media del precio de ambas fuentes de datos\n",
        "media_precio_df_White_Hosting = round(df_White_Hosting[\"precio\"].sum()/ len(df_White_Hosting[\"precio\"]),2)\n",
        "media_precio_df_White_Hosting"
      ]
    },
    {
      "cell_type": "code",
      "execution_count": null,
      "metadata": {
        "colab": {
          "base_uri": "https://localhost:8080/"
        },
        "id": "kY1FIqbqosXu",
        "outputId": "ea3aeb5a-7eb3-40e2-c04f-fffafc163288"
      },
      "outputs": [
        {
          "data": {
            "text/plain": [
              "108.69"
            ]
          },
          "execution_count": 73,
          "metadata": {},
          "output_type": "execute_result"
        }
      ],
      "source": [
        "media_precio_df = round(df[\"precio_por_noche\"].sum()/ len(df[\"precio_por_noche\"]),2)\n",
        "media_precio_df"
      ]
    },
    {
      "cell_type": "code",
      "execution_count": null,
      "metadata": {
        "id": "u2A1WZQppEKq"
      },
      "outputs": [],
      "source": [
        "# El siguiente paso, es el calculo de varianza\n",
        "sumatorio_cuadrados = 0\n",
        "for precios in df_White_Hosting[\"precio\"]:\n",
        "  sumatorio_cuadrados += (precios - media_precio_df_White_Hosting) ** 2\n",
        "\n",
        "varianza_White_Hosting = sumatorio_cuadrados/len(df_White_Hosting[\"precio\"] -1)"
      ]
    },
    {
      "cell_type": "code",
      "execution_count": null,
      "metadata": {
        "colab": {
          "base_uri": "https://localhost:8080/"
        },
        "id": "JSrUnbwbpEOP",
        "outputId": "0c3ebdba-0a19-47d9-9c08-eb5fa84ab317"
      },
      "outputs": [
        {
          "data": {
            "text/plain": [
              "4237.5710826214645"
            ]
          },
          "execution_count": 75,
          "metadata": {},
          "output_type": "execute_result"
        }
      ],
      "source": [
        "varianza_White_Hosting"
      ]
    },
    {
      "cell_type": "code",
      "execution_count": null,
      "metadata": {
        "id": "yZDhcyYRsI8z"
      },
      "outputs": [],
      "source": [
        "sumatorio_cuadrados = 0\n",
        "for precios in df[\"precio_por_noche\"]:\n",
        "  sumatorio_cuadrados += (precios - media_precio_df) ** 2\n",
        "\n",
        "varianza_df = sumatorio_cuadrados/len(df[\"precio_por_noche\"] -1)"
      ]
    },
    {
      "cell_type": "code",
      "execution_count": null,
      "metadata": {
        "colab": {
          "base_uri": "https://localhost:8080/"
        },
        "id": "qTXp_HejsI_c",
        "outputId": "e76b1200-60c0-46f9-d184-538615a91c93"
      },
      "outputs": [
        {
          "data": {
            "text/plain": [
              "3522.9885324324296"
            ]
          },
          "execution_count": 77,
          "metadata": {},
          "output_type": "execute_result"
        }
      ],
      "source": [
        "varianza_df"
      ]
    },
    {
      "cell_type": "code",
      "execution_count": null,
      "metadata": {
        "id": "bh9sLG1WsJB5"
      },
      "outputs": [],
      "source": [
        "# Y por último, conociendo el valor de la varianza calculamos cuánto vale la desviación estándar\n",
        "desv_White_Hosting = np.sqrt(varianza_White_Hosting)"
      ]
    },
    {
      "cell_type": "code",
      "execution_count": null,
      "metadata": {
        "colab": {
          "base_uri": "https://localhost:8080/"
        },
        "id": "KL_FMkaHsJEW",
        "outputId": "bf582751-12dc-47b7-cd08-58c8f8a96153"
      },
      "outputs": [
        {
          "data": {
            "text/plain": [
              "65.09662881149426"
            ]
          },
          "execution_count": 79,
          "metadata": {},
          "output_type": "execute_result"
        }
      ],
      "source": [
        "desv_White_Hosting"
      ]
    },
    {
      "cell_type": "code",
      "execution_count": null,
      "metadata": {
        "colab": {
          "base_uri": "https://localhost:8080/"
        },
        "id": "sVc3t-bBsUUe",
        "outputId": "6d7481ec-3917-429d-8320-0c71938ef970"
      },
      "outputs": [
        {
          "data": {
            "text/plain": [
              "59.35476840517895"
            ]
          },
          "execution_count": 80,
          "metadata": {},
          "output_type": "execute_result"
        }
      ],
      "source": [
        "desv_df = np.sqrt(varianza_df)\n",
        "desv_df"
      ]
    },
    {
      "cell_type": "code",
      "execution_count": null,
      "metadata": {
        "colab": {
          "base_uri": "https://localhost:8080/",
          "height": 112
        },
        "id": "AsVGyVw7sUXT",
        "outputId": "87047cce-5669-4043-94a7-4e24f3eaa3e2"
      },
      "outputs": [
        {
          "data": {
            "text/html": [
              "<div>\n",
              "<style scoped>\n",
              "    .dataframe tbody tr th:only-of-type {\n",
              "        vertical-align: middle;\n",
              "    }\n",
              "\n",
              "    .dataframe tbody tr th {\n",
              "        vertical-align: top;\n",
              "    }\n",
              "\n",
              "    .dataframe thead th {\n",
              "        text-align: right;\n",
              "    }\n",
              "</style>\n",
              "<table border=\"1\" class=\"dataframe\">\n",
              "  <thead>\n",
              "    <tr style=\"text-align: right;\">\n",
              "      <th></th>\n",
              "      <th>Varianza</th>\n",
              "      <th>Desviacion Estandar</th>\n",
              "    </tr>\n",
              "  </thead>\n",
              "  <tbody>\n",
              "    <tr>\n",
              "      <th>precio</th>\n",
              "      <td>4237.57</td>\n",
              "      <td>65.10</td>\n",
              "    </tr>\n",
              "    <tr>\n",
              "      <th>precio_por_noche</th>\n",
              "      <td>3522.99</td>\n",
              "      <td>59.35</td>\n",
              "    </tr>\n",
              "  </tbody>\n",
              "</table>\n",
              "</div>"
            ],
            "text/plain": [
              "                  Varianza  Desviacion Estandar\n",
              "precio             4237.57                65.10\n",
              "precio_por_noche   3522.99                59.35"
            ]
          },
          "execution_count": 81,
          "metadata": {},
          "output_type": "execute_result"
        }
      ],
      "source": [
        "# Elaboramos un dataframe en cuál ordenamos los datos de la desviación y la varianza de una manera más organizada\n",
        "pd.DataFrame([[varianza_White_Hosting, desv_White_Hosting],\n",
        "              [varianza_df,desv_df]],\n",
        "             index = [[\"precio\",\"precio_por_noche\"]],\n",
        "             columns = [\"Varianza\",\"Desviacion Estandar\"]).round(2)"
      ]
    },
    {
      "cell_type": "code",
      "execution_count": null,
      "metadata": {
        "colab": {
          "base_uri": "https://localhost:8080/",
          "height": 320
        },
        "id": "tOK7Rdl3sUbP",
        "outputId": "4a01121f-2f12-446e-fbea-92f641d0a85c"
      },
      "outputs": [
        {
          "data": {
            "text/html": [
              "<div>\n",
              "<style scoped>\n",
              "    .dataframe tbody tr th:only-of-type {\n",
              "        vertical-align: middle;\n",
              "    }\n",
              "\n",
              "    .dataframe tbody tr th {\n",
              "        vertical-align: top;\n",
              "    }\n",
              "\n",
              "    .dataframe thead th {\n",
              "        text-align: right;\n",
              "    }\n",
              "</style>\n",
              "<table border=\"1\" class=\"dataframe\">\n",
              "  <thead>\n",
              "    <tr style=\"text-align: right;\">\n",
              "      <th></th>\n",
              "      <th>apartment_id</th>\n",
              "      <th>alojamientos</th>\n",
              "      <th>baños</th>\n",
              "      <th>dormitorios</th>\n",
              "      <th>camas</th>\n",
              "      <th>precio</th>\n",
              "      <th>minimum_nights</th>\n",
              "      <th>maximum_nights</th>\n",
              "      <th>availability_30</th>\n",
              "      <th>availability_60</th>\n",
              "      <th>availability_90</th>\n",
              "      <th>availability_365</th>\n",
              "      <th>number_of_reviews</th>\n",
              "      <th>review_scores_rating</th>\n",
              "      <th>review_scores_accuracy</th>\n",
              "      <th>review_scores_cleanliness</th>\n",
              "      <th>review_scores_checkin</th>\n",
              "      <th>review_scores_communication</th>\n",
              "      <th>review_scores_location</th>\n",
              "      <th>review_scores_value</th>\n",
              "      <th>reviews_per_month</th>\n",
              "      <th>bookable_False</th>\n",
              "      <th>bookable_True</th>\n",
              "    </tr>\n",
              "  </thead>\n",
              "  <tbody>\n",
              "    <tr>\n",
              "      <th>count</th>\n",
              "      <td>4.074000e+03</td>\n",
              "      <td>4074.000000</td>\n",
              "      <td>4074.000000</td>\n",
              "      <td>4074.000000</td>\n",
              "      <td>4074.000000</td>\n",
              "      <td>4074.000000</td>\n",
              "      <td>4074.000000</td>\n",
              "      <td>4074.000000</td>\n",
              "      <td>4074.000000</td>\n",
              "      <td>4074.000000</td>\n",
              "      <td>4074.000000</td>\n",
              "      <td>4074.000000</td>\n",
              "      <td>4074.000000</td>\n",
              "      <td>4074.000000</td>\n",
              "      <td>4074.000000</td>\n",
              "      <td>4074.000000</td>\n",
              "      <td>4074.000000</td>\n",
              "      <td>4074.000000</td>\n",
              "      <td>4074.000000</td>\n",
              "      <td>4074.000000</td>\n",
              "      <td>4074.000000</td>\n",
              "      <td>4074.000000</td>\n",
              "      <td>4074.000000</td>\n",
              "    </tr>\n",
              "    <tr>\n",
              "      <th>mean</th>\n",
              "      <td>1.873618e+07</td>\n",
              "      <td>3.441581</td>\n",
              "      <td>1.343888</td>\n",
              "      <td>1.506873</td>\n",
              "      <td>2.196613</td>\n",
              "      <td>76.629111</td>\n",
              "      <td>4.652430</td>\n",
              "      <td>719.900344</td>\n",
              "      <td>11.594011</td>\n",
              "      <td>26.496073</td>\n",
              "      <td>43.575356</td>\n",
              "      <td>174.574865</td>\n",
              "      <td>41.985763</td>\n",
              "      <td>91.665194</td>\n",
              "      <td>9.440353</td>\n",
              "      <td>9.284978</td>\n",
              "      <td>9.616102</td>\n",
              "      <td>9.613893</td>\n",
              "      <td>9.580020</td>\n",
              "      <td>9.139421</td>\n",
              "      <td>1.717879</td>\n",
              "      <td>0.458027</td>\n",
              "      <td>0.541973</td>\n",
              "    </tr>\n",
              "    <tr>\n",
              "      <th>std</th>\n",
              "      <td>1.124400e+07</td>\n",
              "      <td>2.103777</td>\n",
              "      <td>0.646662</td>\n",
              "      <td>0.924117</td>\n",
              "      <td>1.706382</td>\n",
              "      <td>65.104620</td>\n",
              "      <td>21.591638</td>\n",
              "      <td>509.137191</td>\n",
              "      <td>11.065576</td>\n",
              "      <td>22.013346</td>\n",
              "      <td>32.919007</td>\n",
              "      <td>132.257317</td>\n",
              "      <td>64.148909</td>\n",
              "      <td>8.817312</td>\n",
              "      <td>0.890522</td>\n",
              "      <td>0.996697</td>\n",
              "      <td>0.799519</td>\n",
              "      <td>0.797992</td>\n",
              "      <td>0.746613</td>\n",
              "      <td>0.965500</td>\n",
              "      <td>1.662957</td>\n",
              "      <td>0.498296</td>\n",
              "      <td>0.498296</td>\n",
              "    </tr>\n",
              "    <tr>\n",
              "      <th>min</th>\n",
              "      <td>2.185300e+04</td>\n",
              "      <td>1.000000</td>\n",
              "      <td>0.000000</td>\n",
              "      <td>0.000000</td>\n",
              "      <td>0.000000</td>\n",
              "      <td>8.000000</td>\n",
              "      <td>1.000000</td>\n",
              "      <td>1.000000</td>\n",
              "      <td>0.000000</td>\n",
              "      <td>0.000000</td>\n",
              "      <td>0.000000</td>\n",
              "      <td>0.000000</td>\n",
              "      <td>1.000000</td>\n",
              "      <td>20.000000</td>\n",
              "      <td>2.000000</td>\n",
              "      <td>2.000000</td>\n",
              "      <td>2.000000</td>\n",
              "      <td>2.000000</td>\n",
              "      <td>2.000000</td>\n",
              "      <td>2.000000</td>\n",
              "      <td>0.010000</td>\n",
              "      <td>0.000000</td>\n",
              "      <td>0.000000</td>\n",
              "    </tr>\n",
              "    <tr>\n",
              "      <th>25%</th>\n",
              "      <td>9.697159e+06</td>\n",
              "      <td>2.000000</td>\n",
              "      <td>1.000000</td>\n",
              "      <td>1.000000</td>\n",
              "      <td>1.000000</td>\n",
              "      <td>36.000000</td>\n",
              "      <td>1.000000</td>\n",
              "      <td>60.000000</td>\n",
              "      <td>0.000000</td>\n",
              "      <td>2.000000</td>\n",
              "      <td>8.000000</td>\n",
              "      <td>47.000000</td>\n",
              "      <td>5.000000</td>\n",
              "      <td>88.000000</td>\n",
              "      <td>9.000000</td>\n",
              "      <td>9.000000</td>\n",
              "      <td>9.000000</td>\n",
              "      <td>9.000000</td>\n",
              "      <td>9.000000</td>\n",
              "      <td>9.000000</td>\n",
              "      <td>0.430000</td>\n",
              "      <td>0.000000</td>\n",
              "      <td>0.000000</td>\n",
              "    </tr>\n",
              "    <tr>\n",
              "      <th>50%</th>\n",
              "      <td>1.873259e+07</td>\n",
              "      <td>3.000000</td>\n",
              "      <td>1.000000</td>\n",
              "      <td>1.000000</td>\n",
              "      <td>2.000000</td>\n",
              "      <td>60.000000</td>\n",
              "      <td>2.000000</td>\n",
              "      <td>1125.000000</td>\n",
              "      <td>9.000000</td>\n",
              "      <td>25.000000</td>\n",
              "      <td>46.000000</td>\n",
              "      <td>168.000000</td>\n",
              "      <td>16.000000</td>\n",
              "      <td>94.000000</td>\n",
              "      <td>10.000000</td>\n",
              "      <td>10.000000</td>\n",
              "      <td>10.000000</td>\n",
              "      <td>10.000000</td>\n",
              "      <td>10.000000</td>\n",
              "      <td>9.000000</td>\n",
              "      <td>1.150000</td>\n",
              "      <td>0.000000</td>\n",
              "      <td>1.000000</td>\n",
              "    </tr>\n",
              "    <tr>\n",
              "      <th>75%</th>\n",
              "      <td>2.655584e+07</td>\n",
              "      <td>4.000000</td>\n",
              "      <td>2.000000</td>\n",
              "      <td>2.000000</td>\n",
              "      <td>3.000000</td>\n",
              "      <td>91.750000</td>\n",
              "      <td>3.000000</td>\n",
              "      <td>1125.000000</td>\n",
              "      <td>22.000000</td>\n",
              "      <td>47.000000</td>\n",
              "      <td>75.000000</td>\n",
              "      <td>310.000000</td>\n",
              "      <td>52.000000</td>\n",
              "      <td>98.000000</td>\n",
              "      <td>10.000000</td>\n",
              "      <td>10.000000</td>\n",
              "      <td>10.000000</td>\n",
              "      <td>10.000000</td>\n",
              "      <td>10.000000</td>\n",
              "      <td>10.000000</td>\n",
              "      <td>2.590000</td>\n",
              "      <td>1.000000</td>\n",
              "      <td>1.000000</td>\n",
              "    </tr>\n",
              "    <tr>\n",
              "      <th>max</th>\n",
              "      <td>4.661573e+07</td>\n",
              "      <td>16.000000</td>\n",
              "      <td>8.000000</td>\n",
              "      <td>8.000000</td>\n",
              "      <td>20.000000</td>\n",
              "      <td>500.000000</td>\n",
              "      <td>1125.000000</td>\n",
              "      <td>1125.000000</td>\n",
              "      <td>30.000000</td>\n",
              "      <td>60.000000</td>\n",
              "      <td>90.000000</td>\n",
              "      <td>365.000000</td>\n",
              "      <td>578.000000</td>\n",
              "      <td>100.000000</td>\n",
              "      <td>10.000000</td>\n",
              "      <td>10.000000</td>\n",
              "      <td>10.000000</td>\n",
              "      <td>10.000000</td>\n",
              "      <td>10.000000</td>\n",
              "      <td>10.000000</td>\n",
              "      <td>12.910000</td>\n",
              "      <td>1.000000</td>\n",
              "      <td>1.000000</td>\n",
              "    </tr>\n",
              "  </tbody>\n",
              "</table>\n",
              "</div>"
            ],
            "text/plain": [
              "       apartment_id  alojamientos        baños  dormitorios        camas  \\\n",
              "count  4.074000e+03   4074.000000  4074.000000  4074.000000  4074.000000   \n",
              "mean   1.873618e+07      3.441581     1.343888     1.506873     2.196613   \n",
              "std    1.124400e+07      2.103777     0.646662     0.924117     1.706382   \n",
              "min    2.185300e+04      1.000000     0.000000     0.000000     0.000000   \n",
              "25%    9.697159e+06      2.000000     1.000000     1.000000     1.000000   \n",
              "50%    1.873259e+07      3.000000     1.000000     1.000000     2.000000   \n",
              "75%    2.655584e+07      4.000000     2.000000     2.000000     3.000000   \n",
              "max    4.661573e+07     16.000000     8.000000     8.000000    20.000000   \n",
              "\n",
              "            precio  minimum_nights  maximum_nights  availability_30  \\\n",
              "count  4074.000000     4074.000000     4074.000000      4074.000000   \n",
              "mean     76.629111        4.652430      719.900344        11.594011   \n",
              "std      65.104620       21.591638      509.137191        11.065576   \n",
              "min       8.000000        1.000000        1.000000         0.000000   \n",
              "25%      36.000000        1.000000       60.000000         0.000000   \n",
              "50%      60.000000        2.000000     1125.000000         9.000000   \n",
              "75%      91.750000        3.000000     1125.000000        22.000000   \n",
              "max     500.000000     1125.000000     1125.000000        30.000000   \n",
              "\n",
              "       availability_60  availability_90  availability_365  number_of_reviews  \\\n",
              "count      4074.000000      4074.000000       4074.000000        4074.000000   \n",
              "mean         26.496073        43.575356        174.574865          41.985763   \n",
              "std          22.013346        32.919007        132.257317          64.148909   \n",
              "min           0.000000         0.000000          0.000000           1.000000   \n",
              "25%           2.000000         8.000000         47.000000           5.000000   \n",
              "50%          25.000000        46.000000        168.000000          16.000000   \n",
              "75%          47.000000        75.000000        310.000000          52.000000   \n",
              "max          60.000000        90.000000        365.000000         578.000000   \n",
              "\n",
              "       review_scores_rating  review_scores_accuracy  \\\n",
              "count           4074.000000             4074.000000   \n",
              "mean              91.665194                9.440353   \n",
              "std                8.817312                0.890522   \n",
              "min               20.000000                2.000000   \n",
              "25%               88.000000                9.000000   \n",
              "50%               94.000000               10.000000   \n",
              "75%               98.000000               10.000000   \n",
              "max              100.000000               10.000000   \n",
              "\n",
              "       review_scores_cleanliness  review_scores_checkin  \\\n",
              "count                4074.000000            4074.000000   \n",
              "mean                    9.284978               9.616102   \n",
              "std                     0.996697               0.799519   \n",
              "min                     2.000000               2.000000   \n",
              "25%                     9.000000               9.000000   \n",
              "50%                    10.000000              10.000000   \n",
              "75%                    10.000000              10.000000   \n",
              "max                    10.000000              10.000000   \n",
              "\n",
              "       review_scores_communication  review_scores_location  \\\n",
              "count                  4074.000000             4074.000000   \n",
              "mean                      9.613893                9.580020   \n",
              "std                       0.797992                0.746613   \n",
              "min                       2.000000                2.000000   \n",
              "25%                       9.000000                9.000000   \n",
              "50%                      10.000000               10.000000   \n",
              "75%                      10.000000               10.000000   \n",
              "max                      10.000000               10.000000   \n",
              "\n",
              "       review_scores_value  reviews_per_month  bookable_False  bookable_True  \n",
              "count          4074.000000        4074.000000     4074.000000    4074.000000  \n",
              "mean              9.139421           1.717879        0.458027       0.541973  \n",
              "std               0.965500           1.662957        0.498296       0.498296  \n",
              "min               2.000000           0.010000        0.000000       0.000000  \n",
              "25%               9.000000           0.430000        0.000000       0.000000  \n",
              "50%               9.000000           1.150000        0.000000       1.000000  \n",
              "75%              10.000000           2.590000        1.000000       1.000000  \n",
              "max              10.000000          12.910000        1.000000       1.000000  "
            ]
          },
          "execution_count": 82,
          "metadata": {},
          "output_type": "execute_result"
        }
      ],
      "source": [
        "# Podemos observar que son los mismos valores\n",
        "df_White_Hosting.describe()"
      ]
    },
    {
      "cell_type": "code",
      "execution_count": null,
      "metadata": {
        "colab": {
          "base_uri": "https://localhost:8080/"
        },
        "id": "VTqn6cwCse9g",
        "outputId": "f7af505c-22a8-4bcc-deee-514400ca7133"
      },
      "outputs": [
        {
          "data": {
            "text/plain": [
              "65.1046195534877"
            ]
          },
          "execution_count": 83,
          "metadata": {},
          "output_type": "execute_result"
        }
      ],
      "source": [
        "# Vamos a calcular lo mismo de otra forma mas directa usando las funciones ya implementadas por pandas, empezando por las desviaciones tipicas.\n",
        "df_White_Hosting[\"precio\"].std()"
      ]
    },
    {
      "cell_type": "code",
      "execution_count": null,
      "metadata": {
        "colab": {
          "base_uri": "https://localhost:8080/"
        },
        "id": "2_Fs4130sfAJ",
        "outputId": "a77f0e9a-9d96-4829-a1f0-b65cbe2909cc"
      },
      "outputs": [
        {
          "data": {
            "text/plain": [
              "59.40200650447907"
            ]
          },
          "execution_count": 84,
          "metadata": {},
          "output_type": "execute_result"
        }
      ],
      "source": [
        "df[\"precio_por_noche\"].std()"
      ]
    },
    {
      "cell_type": "code",
      "execution_count": null,
      "metadata": {
        "colab": {
          "base_uri": "https://localhost:8080/"
        },
        "id": "PVRQz3insfC0",
        "outputId": "1d9677ba-a443-4d23-a733-06b0a689febc"
      },
      "outputs": [
        {
          "data": {
            "text/plain": [
              "4237.57"
            ]
          },
          "execution_count": 85,
          "metadata": {},
          "output_type": "execute_result"
        }
      ],
      "source": [
        "# Y ahora las varianzas.\n",
        "round(df_White_Hosting[\"precio\"].var(ddof=0),2)"
      ]
    },
    {
      "cell_type": "code",
      "execution_count": null,
      "metadata": {
        "colab": {
          "base_uri": "https://localhost:8080/"
        },
        "id": "u-G8f0UQu31O",
        "outputId": "061c5bcb-5318-4549-d150-1ce8dfdf227c"
      },
      "outputs": [
        {
          "data": {
            "text/plain": [
              "3522.99"
            ]
          },
          "execution_count": 86,
          "metadata": {},
          "output_type": "execute_result"
        }
      ],
      "source": [
        "round(df[\"precio_por_noche\"].var(ddof=0),2)"
      ]
    },
    {
      "cell_type": "markdown",
      "metadata": {
        "id": "I6QxMzUeqt01"
      },
      "source": [
        "La media del precio es mayor en los alojamientos de df de airbnb pero tiene una mayor desviación el df de White_Hosting"
      ]
    },
    {
      "cell_type": "markdown",
      "metadata": {
        "id": "jJMuOZT8b7Zm"
      },
      "source": [
        "En la segunda parte de la pregunta queremos saber si existe algún tipo de estacionalidad.\n",
        "Para esta pregunta solo podemos realizarla para uno de lo dataframe debido a que tenemos una variable de tiempo para poder responder a la pregunta"
      ]
    },
    {
      "cell_type": "code",
      "execution_count": null,
      "metadata": {
        "id": "Bdw_icFbu330"
      },
      "outputs": [],
      "source": [
        "# Para ello seleccionamos la columna de la fecha y nos quedamos solamente con el mes\n",
        "df_White_Hosting[\"mes\"] = df_White_Hosting['insert_date'].str.split('-', expand=True)[1]\n",
        "df_White_Hosting[\"mes\"] = df_White_Hosting[\"mes\"].astype(int)"
      ]
    },
    {
      "cell_type": "code",
      "execution_count": null,
      "metadata": {
        "id": "b6sSogmcu36Y"
      },
      "outputs": [],
      "source": [
        "# A continuación, utilizamos el método apply para crear una columna que represente las estaciones del año y asignarle sus respectivos meses\n",
        "df_White_Hosting[\"Estacion\"] = df_White_Hosting[\"mes\"].apply(lambda x: \"invierno\" if x <= 3 else (\"primavera\" if (x >= 4 and x<=6 ) else (\"verano\" if (x >=7 and x<=9) else \"otoño\")))"
      ]
    },
    {
      "cell_type": "code",
      "execution_count": null,
      "metadata": {
        "colab": {
          "base_uri": "https://localhost:8080/",
          "height": 1000
        },
        "id": "l0MUYwUWvEM4",
        "outputId": "87477375-dd14-4bf1-89bf-a475406e03e1"
      },
      "outputs": [
        {
          "data": {
            "text/html": [
              "<div>\n",
              "<style scoped>\n",
              "    .dataframe tbody tr th:only-of-type {\n",
              "        vertical-align: middle;\n",
              "    }\n",
              "\n",
              "    .dataframe tbody tr th {\n",
              "        vertical-align: top;\n",
              "    }\n",
              "\n",
              "    .dataframe thead th {\n",
              "        text-align: right;\n",
              "    }\n",
              "</style>\n",
              "<table border=\"1\" class=\"dataframe\">\n",
              "  <thead>\n",
              "    <tr style=\"text-align: right;\">\n",
              "      <th></th>\n",
              "      <th>Estacion</th>\n",
              "      <th>mes</th>\n",
              "    </tr>\n",
              "  </thead>\n",
              "  <tbody>\n",
              "    <tr>\n",
              "      <th>0</th>\n",
              "      <td>otoño</td>\n",
              "      <td>12</td>\n",
              "    </tr>\n",
              "    <tr>\n",
              "      <th>1</th>\n",
              "      <td>invierno</td>\n",
              "      <td>1</td>\n",
              "    </tr>\n",
              "    <tr>\n",
              "      <th>5</th>\n",
              "      <td>otoño</td>\n",
              "      <td>10</td>\n",
              "    </tr>\n",
              "    <tr>\n",
              "      <th>6</th>\n",
              "      <td>primavera</td>\n",
              "      <td>5</td>\n",
              "    </tr>\n",
              "    <tr>\n",
              "      <th>7</th>\n",
              "      <td>verano</td>\n",
              "      <td>9</td>\n",
              "    </tr>\n",
              "  </tbody>\n",
              "</table>\n",
              "</div>"
            ],
            "text/plain": [
              "    Estacion  mes\n",
              "0      otoño   12\n",
              "1   invierno    1\n",
              "5      otoño   10\n",
              "6  primavera    5\n",
              "7     verano    9"
            ]
          },
          "execution_count": 89,
          "metadata": {},
          "output_type": "execute_result"
        }
      ],
      "source": [
        "df_White_Hosting[[\"Estacion\",\"mes\"]].head(5)"
      ]
    },
    {
      "cell_type": "code",
      "execution_count": null,
      "metadata": {
        "id": "wfFKDjk5vEP0"
      },
      "outputs": [],
      "source": [
        "# Ahora calculamos la media de precio de cada una de las estaciones y creamos una nueva tabla\n",
        "df_White_Hosting_estaciones = df_White_Hosting[[\"precio\",\"Estacion\"]].groupby(\"Estacion\").agg(\"mean\")"
      ]
    },
    {
      "cell_type": "code",
      "execution_count": null,
      "metadata": {
        "colab": {
          "base_uri": "https://localhost:8080/",
          "height": 206
        },
        "id": "j0BcRHrmvESW",
        "outputId": "25a46316-5467-416f-c6d9-167003efafcc"
      },
      "outputs": [
        {
          "data": {
            "text/html": [
              "<div>\n",
              "<style scoped>\n",
              "    .dataframe tbody tr th:only-of-type {\n",
              "        vertical-align: middle;\n",
              "    }\n",
              "\n",
              "    .dataframe tbody tr th {\n",
              "        vertical-align: top;\n",
              "    }\n",
              "\n",
              "    .dataframe thead th {\n",
              "        text-align: right;\n",
              "    }\n",
              "</style>\n",
              "<table border=\"1\" class=\"dataframe\">\n",
              "  <thead>\n",
              "    <tr style=\"text-align: right;\">\n",
              "      <th></th>\n",
              "      <th>precio</th>\n",
              "    </tr>\n",
              "    <tr>\n",
              "      <th>Estacion</th>\n",
              "      <th></th>\n",
              "    </tr>\n",
              "  </thead>\n",
              "  <tbody>\n",
              "    <tr>\n",
              "      <th>invierno</th>\n",
              "      <td>76.342779</td>\n",
              "    </tr>\n",
              "    <tr>\n",
              "      <th>otoño</th>\n",
              "      <td>72.413759</td>\n",
              "    </tr>\n",
              "    <tr>\n",
              "      <th>primavera</th>\n",
              "      <td>79.799419</td>\n",
              "    </tr>\n",
              "    <tr>\n",
              "      <th>verano</th>\n",
              "      <td>77.972487</td>\n",
              "    </tr>\n",
              "  </tbody>\n",
              "</table>\n",
              "</div>"
            ],
            "text/plain": [
              "              precio\n",
              "Estacion            \n",
              "invierno   76.342779\n",
              "otoño      72.413759\n",
              "primavera  79.799419\n",
              "verano     77.972487"
            ]
          },
          "execution_count": 91,
          "metadata": {},
          "output_type": "execute_result"
        }
      ],
      "source": [
        "df_White_Hosting_estaciones"
      ]
    },
    {
      "cell_type": "code",
      "execution_count": null,
      "metadata": {
        "colab": {
          "base_uri": "https://localhost:8080/",
          "height": 495
        },
        "id": "de60B65lvJAT",
        "outputId": "f2957751-2d23-46a5-b298-348e77e793b3"
      },
      "outputs": [
        {
          "data": {
            "text/plain": [
              "<Axes: title={'center': 'precio'}, xlabel='Estacion'>"
            ]
          },
          "execution_count": 92,
          "metadata": {},
          "output_type": "execute_result"
        },
        {
          "data": {
            "image/png": "[encoded data removed]",
            "text/plain": [
              "<Figure size 640x480 with 1 Axes>"
            ]
          },
          "metadata": {},
          "output_type": "display_data"
        }
      ],
      "source": [
        "# Y lo representamos mediante un boxplot\n",
        "df_White_Hosting.boxplot(column = \"precio\", by= \"Estacion\")"
      ]
    },
    {
      "cell_type": "code",
      "execution_count": null,
      "metadata": {
        "colab": {
          "base_uri": "https://localhost:8080/",
          "height": 723
        },
        "id": "lwQW-nIfvJF7",
        "outputId": "1c812342-9144-4cab-92f3-dbd88b2c4aa0"
      },
      "outputs": [
        {
          "data": {
            "text/plain": [
              "Text(0.5, 0, 'precio')"
            ]
          },
          "execution_count": 93,
          "metadata": {},
          "output_type": "execute_result"
        },
        {
          "data": {
            "image/png": "[encoded data removed]",
            "text/plain": [
              "<Figure size 800x600 with 1 Axes>"
            ]
          },
          "metadata": {},
          "output_type": "display_data"
        }
      ],
      "source": [
        "plt.figure(figsize=(8, 6))\n",
        "sns.boxplot(data=df_White_Hosting[[\"Estacion\",\"precio\"]], x=\"precio\", y=\"Estacion\",fliersize=0.9, palette= {\"otoño\":\"goldenrod\",\"invierno\":\"skyblue\",\"primavera\":\"limegreen\",\"verano\":\"yellow\"})\n",
        "font_dict = {'fontsize': 15, 'fontweight': 'bold', 'fontfamily': 'serif'}\n",
        "plt.title('Estacionalidad sobre el precio DS WhiteHosting',fontsize=20, fontdict=font_dict)\n",
        "plt.xticks(fontsize=20)\n",
        "plt.yticks(fontsize=20)\n",
        "plt.ylabel(\"Estacion\", fontsize=20)\n",
        "plt.xlabel(\"precio\", fontsize=20)"
      ]
    },
    {
      "cell_type": "markdown",
      "metadata": {
        "id": "YJBLVZCyeEyt"
      },
      "source": [
        "Podemos concluir que los meses de la primera mitad del año (primavera y verano) tienen una media algo superior. Pero respondiendo a la pregunta de la estacionalidad es muy baja, en las cuatro estaciones el precio se mantiene en la misma medida."
      ]
    },
    {
      "cell_type": "markdown",
      "metadata": {
        "id": "MuwWNi2JvdyQ"
      },
      "source": [
        "## 7. Crea un dataset único de verdad."
      ]
    },
    {
      "cell_type": "markdown",
      "metadata": {
        "id": "c6a_FIzeriFf"
      },
      "source": [
        "En este apartado vamos a crear una dataset único entre las tablas anteriores"
      ]
    },
    {
      "cell_type": "code",
      "execution_count": null,
      "metadata": {
        "colab": {
          "base_uri": "https://localhost:8080/",
          "height": 153
        },
        "id": "DAtu2SoMvJI4",
        "outputId": "fb15d873-a201-4f93-94ff-b7fe131d6c83"
      },
      "outputs": [
        {
          "data": {
            "text/html": [
              "<div>\n",
              "<style scoped>\n",
              "    .dataframe tbody tr th:only-of-type {\n",
              "        vertical-align: middle;\n",
              "    }\n",
              "\n",
              "    .dataframe tbody tr th {\n",
              "        vertical-align: top;\n",
              "    }\n",
              "\n",
              "    .dataframe thead th {\n",
              "        text-align: right;\n",
              "    }\n",
              "</style>\n",
              "<table border=\"1\" class=\"dataframe\">\n",
              "  <thead>\n",
              "    <tr style=\"text-align: right;\">\n",
              "      <th></th>\n",
              "      <th>apartment_id</th>\n",
              "      <th>name</th>\n",
              "      <th>alojamientos</th>\n",
              "      <th>baños</th>\n",
              "      <th>dormitorios</th>\n",
              "      <th>camas</th>\n",
              "      <th>precio</th>\n",
              "      <th>minimum_nights</th>\n",
              "      <th>maximum_nights</th>\n",
              "      <th>availability_30</th>\n",
              "      <th>availability_60</th>\n",
              "      <th>availability_90</th>\n",
              "      <th>availability_365</th>\n",
              "      <th>number_of_reviews</th>\n",
              "      <th>review_scores_rating</th>\n",
              "      <th>review_scores_accuracy</th>\n",
              "      <th>review_scores_cleanliness</th>\n",
              "      <th>review_scores_checkin</th>\n",
              "      <th>review_scores_communication</th>\n",
              "      <th>review_scores_location</th>\n",
              "      <th>review_scores_value</th>\n",
              "      <th>reviews_per_month</th>\n",
              "      <th>city</th>\n",
              "      <th>insert_date</th>\n",
              "      <th>bookable_False</th>\n",
              "      <th>bookable_True</th>\n",
              "      <th>mes</th>\n",
              "      <th>Estacion</th>\n",
              "    </tr>\n",
              "  </thead>\n",
              "  <tbody>\n",
              "    <tr>\n",
              "      <th>0</th>\n",
              "      <td>36187629</td>\n",
              "      <td>Piso reformado excelente ubicacion</td>\n",
              "      <td>4</td>\n",
              "      <td>2</td>\n",
              "      <td>3</td>\n",
              "      <td>3</td>\n",
              "      <td>90</td>\n",
              "      <td>5</td>\n",
              "      <td>20</td>\n",
              "      <td>0</td>\n",
              "      <td>4</td>\n",
              "      <td>34</td>\n",
              "      <td>34</td>\n",
              "      <td>1</td>\n",
              "      <td>100</td>\n",
              "      <td>10</td>\n",
              "      <td>10</td>\n",
              "      <td>10</td>\n",
              "      <td>10</td>\n",
              "      <td>10</td>\n",
              "      <td>10</td>\n",
              "      <td>0.22</td>\n",
              "      <td>valencia</td>\n",
              "      <td>2019-12-31</td>\n",
              "      <td>0</td>\n",
              "      <td>1</td>\n",
              "      <td>12</td>\n",
              "      <td>otoño</td>\n",
              "    </tr>\n",
              "  </tbody>\n",
              "</table>\n",
              "</div>"
            ],
            "text/plain": [
              "   apartment_id                                name  alojamientos  baños  \\\n",
              "0      36187629  Piso reformado excelente ubicacion             4      2   \n",
              "\n",
              "   dormitorios  camas  precio  minimum_nights  maximum_nights  \\\n",
              "0            3      3      90               5              20   \n",
              "\n",
              "   availability_30  availability_60  availability_90  availability_365  \\\n",
              "0                0                4               34                34   \n",
              "\n",
              "   number_of_reviews  review_scores_rating  review_scores_accuracy  \\\n",
              "0                  1                   100                      10   \n",
              "\n",
              "   review_scores_cleanliness  review_scores_checkin  \\\n",
              "0                         10                     10   \n",
              "\n",
              "   review_scores_communication  review_scores_location  review_scores_value  \\\n",
              "0                           10                      10                   10   \n",
              "\n",
              "   reviews_per_month      city insert_date  bookable_False  bookable_True  \\\n",
              "0               0.22  valencia  2019-12-31               0              1   \n",
              "\n",
              "   mes Estacion  \n",
              "0   12    otoño  "
            ]
          },
          "execution_count": 94,
          "metadata": {},
          "output_type": "execute_result"
        }
      ],
      "source": [
        "df_White_Hosting.head(1)"
      ]
    },
    {
      "cell_type": "code",
      "execution_count": null,
      "metadata": {
        "colab": {
          "base_uri": "https://localhost:8080/"
        },
        "id": "Uf3xJShtIZhr",
        "outputId": "d4aa4907-b07f-49d0-8bc1-70bb4145733c"
      },
      "outputs": [
        {
          "data": {
            "text/plain": [
              "apartment_id                     int64\n",
              "name                            object\n",
              "alojamientos                     int64\n",
              "baños                            int32\n",
              "dormitorios                      int32\n",
              "camas                            int32\n",
              "precio                           int32\n",
              "minimum_nights                   int64\n",
              "maximum_nights                   int32\n",
              "availability_30                  int32\n",
              "availability_60                  int64\n",
              "availability_90                  int32\n",
              "availability_365                 int64\n",
              "number_of_reviews                int64\n",
              "review_scores_rating             int32\n",
              "review_scores_accuracy           int32\n",
              "review_scores_cleanliness        int32\n",
              "review_scores_checkin            int32\n",
              "review_scores_communication      int32\n",
              "review_scores_location           int32\n",
              "review_scores_value              int32\n",
              "reviews_per_month              float64\n",
              "city                            object\n",
              "insert_date                     object\n",
              "bookable_False                   uint8\n",
              "bookable_True                    uint8\n",
              "mes                              int32\n",
              "Estacion                        object\n",
              "dtype: object"
            ]
          },
          "execution_count": 95,
          "metadata": {},
          "output_type": "execute_result"
        }
      ],
      "source": [
        "df_White_Hosting.dtypes"
      ]
    },
    {
      "cell_type": "code",
      "execution_count": null,
      "metadata": {
        "id": "r_zzMF5EvUtO"
      },
      "outputs": [],
      "source": [
        "# Para ello vamos seleccionar las columnas de ambas tablas que coinciden para poder concatenar las tablas\n",
        "df_White_Hosting_conjunto = df_White_Hosting[[\"name\",\"precio\",\"number_of_reviews\",\"review_scores_rating\",\"city\"]]"
      ]
    },
    {
      "cell_type": "code",
      "execution_count": null,
      "metadata": {
        "colab": {
          "base_uri": "https://localhost:8080/",
          "height": 1000
        },
        "id": "oa9lXnkfvUwG",
        "outputId": "59f50506-3a3b-45aa-a3d2-530bac835b74"
      },
      "outputs": [
        {
          "data": {
            "text/html": [
              "<div>\n",
              "<style scoped>\n",
              "    .dataframe tbody tr th:only-of-type {\n",
              "        vertical-align: middle;\n",
              "    }\n",
              "\n",
              "    .dataframe tbody tr th {\n",
              "        vertical-align: top;\n",
              "    }\n",
              "\n",
              "    .dataframe thead th {\n",
              "        text-align: right;\n",
              "    }\n",
              "</style>\n",
              "<table border=\"1\" class=\"dataframe\">\n",
              "  <thead>\n",
              "    <tr style=\"text-align: right;\">\n",
              "      <th></th>\n",
              "      <th>name</th>\n",
              "      <th>precio</th>\n",
              "      <th>number_of_reviews</th>\n",
              "      <th>review_scores_rating</th>\n",
              "      <th>city</th>\n",
              "    </tr>\n",
              "  </thead>\n",
              "  <tbody>\n",
              "    <tr>\n",
              "      <th>0</th>\n",
              "      <td>Piso reformado excelente ubicacion</td>\n",
              "      <td>90</td>\n",
              "      <td>1</td>\n",
              "      <td>100</td>\n",
              "      <td>valencia</td>\n",
              "    </tr>\n",
              "    <tr>\n",
              "      <th>1</th>\n",
              "      <td>Nice Room in a Penthouse</td>\n",
              "      <td>100</td>\n",
              "      <td>1</td>\n",
              "      <td>80</td>\n",
              "      <td>barcelona</td>\n",
              "    </tr>\n",
              "    <tr>\n",
              "      <th>5</th>\n",
              "      <td>Habitación en Madrid! &lt;&lt;Wifi&gt;&gt;Perfecto para 2!!!</td>\n",
              "      <td>31</td>\n",
              "      <td>33</td>\n",
              "      <td>95</td>\n",
              "      <td>madrid</td>\n",
              "    </tr>\n",
              "    <tr>\n",
              "      <th>6</th>\n",
              "      <td>HABITACIÓN EN BARRIO DE SALAMANCA</td>\n",
              "      <td>40</td>\n",
              "      <td>11</td>\n",
              "      <td>80</td>\n",
              "      <td>madrid</td>\n",
              "    </tr>\n",
              "    <tr>\n",
              "      <th>7</th>\n",
              "      <td>Madrid Central flat - Reina Sofía</td>\n",
              "      <td>65</td>\n",
              "      <td>46</td>\n",
              "      <td>91</td>\n",
              "      <td>madrid</td>\n",
              "    </tr>\n",
              "  </tbody>\n",
              "</table>\n",
              "</div>"
            ],
            "text/plain": [
              "                                               name  precio  \\\n",
              "0                Piso reformado excelente ubicacion      90   \n",
              "1                          Nice Room in a Penthouse     100   \n",
              "5  Habitación en Madrid! <<Wifi>>Perfecto para 2!!!      31   \n",
              "6                 HABITACIÓN EN BARRIO DE SALAMANCA      40   \n",
              "7                 Madrid Central flat - Reina Sofía      65   \n",
              "\n",
              "   number_of_reviews  review_scores_rating       city  \n",
              "0                  1                   100   valencia  \n",
              "1                  1                    80  barcelona  \n",
              "5                 33                    95     madrid  \n",
              "6                 11                    80     madrid  \n",
              "7                 46                    91     madrid  "
            ]
          },
          "execution_count": 97,
          "metadata": {},
          "output_type": "execute_result"
        }
      ],
      "source": [
        "df_White_Hosting_conjunto.head(5)"
      ]
    },
    {
      "cell_type": "code",
      "execution_count": null,
      "metadata": {
        "colab": {
          "base_uri": "https://localhost:8080/",
          "height": 81
        },
        "id": "DTnE02JzvUzA",
        "outputId": "78dab5a7-c194-4587-a379-582b264a99b6"
      },
      "outputs": [
        {
          "data": {
            "text/html": [
              "<div>\n",
              "<style scoped>\n",
              "    .dataframe tbody tr th:only-of-type {\n",
              "        vertical-align: middle;\n",
              "    }\n",
              "\n",
              "    .dataframe tbody tr th {\n",
              "        vertical-align: top;\n",
              "    }\n",
              "\n",
              "    .dataframe thead th {\n",
              "        text-align: right;\n",
              "    }\n",
              "</style>\n",
              "<table border=\"1\" class=\"dataframe\">\n",
              "  <thead>\n",
              "    <tr style=\"text-align: right;\">\n",
              "      <th></th>\n",
              "      <th>url</th>\n",
              "      <th>name</th>\n",
              "      <th>ciudad</th>\n",
              "      <th>precio_por_noche</th>\n",
              "      <th>rating</th>\n",
              "      <th>review</th>\n",
              "      <th>valor_ciudad</th>\n",
              "      <th>A. particular</th>\n",
              "      <th>A. profesional</th>\n",
              "    </tr>\n",
              "  </thead>\n",
              "  <tbody>\n",
              "    <tr>\n",
              "      <th>0</th>\n",
              "      <td>/rooms/47505891?adults=1&amp;children=0&amp;enable_m3_...</td>\n",
              "      <td>Loft en Valencia</td>\n",
              "      <td>valencia</td>\n",
              "      <td>101</td>\n",
              "      <td>4.98</td>\n",
              "      <td>249</td>\n",
              "      <td>3</td>\n",
              "      <td>1</td>\n",
              "      <td>0</td>\n",
              "    </tr>\n",
              "  </tbody>\n",
              "</table>\n",
              "</div>"
            ],
            "text/plain": [
              "                                                 url              name  \\\n",
              "0  /rooms/47505891?adults=1&children=0&enable_m3_...  Loft en Valencia   \n",
              "\n",
              "     ciudad  precio_por_noche  rating  review  valor_ciudad  A. particular  \\\n",
              "0  valencia               101    4.98     249             3              1   \n",
              "\n",
              "   A. profesional  \n",
              "0               0  "
            ]
          },
          "execution_count": 98,
          "metadata": {},
          "output_type": "execute_result"
        }
      ],
      "source": [
        "df.head(1)"
      ]
    },
    {
      "cell_type": "code",
      "execution_count": null,
      "metadata": {
        "id": "mG4J5DKsvU1f"
      },
      "outputs": [],
      "source": [
        "df_conjunto = df[[\"name\",\"precio_por_noche\",\"review\",\"rating\",\"ciudad\"]]"
      ]
    },
    {
      "cell_type": "code",
      "execution_count": null,
      "metadata": {
        "colab": {
          "base_uri": "https://localhost:8080/",
          "height": 1000
        },
        "id": "dQHV_Q_pvU4c",
        "outputId": "22bde300-839d-4f58-fe8a-328afbaf85f5"
      },
      "outputs": [
        {
          "data": {
            "text/html": [
              "<div>\n",
              "<style scoped>\n",
              "    .dataframe tbody tr th:only-of-type {\n",
              "        vertical-align: middle;\n",
              "    }\n",
              "\n",
              "    .dataframe tbody tr th {\n",
              "        vertical-align: top;\n",
              "    }\n",
              "\n",
              "    .dataframe thead th {\n",
              "        text-align: right;\n",
              "    }\n",
              "</style>\n",
              "<table border=\"1\" class=\"dataframe\">\n",
              "  <thead>\n",
              "    <tr style=\"text-align: right;\">\n",
              "      <th></th>\n",
              "      <th>name</th>\n",
              "      <th>precio_por_noche</th>\n",
              "      <th>review</th>\n",
              "      <th>rating</th>\n",
              "      <th>ciudad</th>\n",
              "    </tr>\n",
              "  </thead>\n",
              "  <tbody>\n",
              "    <tr>\n",
              "      <th>0</th>\n",
              "      <td>Loft en Valencia</td>\n",
              "      <td>101</td>\n",
              "      <td>249</td>\n",
              "      <td>4.98</td>\n",
              "      <td>valencia</td>\n",
              "    </tr>\n",
              "    <tr>\n",
              "      <th>1</th>\n",
              "      <td>Apartamento en Valencia</td>\n",
              "      <td>143</td>\n",
              "      <td>19</td>\n",
              "      <td>5.00</td>\n",
              "      <td>valencia</td>\n",
              "    </tr>\n",
              "    <tr>\n",
              "      <th>2</th>\n",
              "      <td>Apartamento en Valencia</td>\n",
              "      <td>108</td>\n",
              "      <td>19</td>\n",
              "      <td>4.79</td>\n",
              "      <td>valencia</td>\n",
              "    </tr>\n",
              "    <tr>\n",
              "      <th>4</th>\n",
              "      <td>Apartamento en Valencia</td>\n",
              "      <td>61</td>\n",
              "      <td>474</td>\n",
              "      <td>4.77</td>\n",
              "      <td>valencia</td>\n",
              "    </tr>\n",
              "    <tr>\n",
              "      <th>5</th>\n",
              "      <td>Loft en Valencia</td>\n",
              "      <td>114</td>\n",
              "      <td>247</td>\n",
              "      <td>4.97</td>\n",
              "      <td>valencia</td>\n",
              "    </tr>\n",
              "  </tbody>\n",
              "</table>\n",
              "</div>"
            ],
            "text/plain": [
              "                      name  precio_por_noche  review  rating    ciudad\n",
              "0         Loft en Valencia               101     249    4.98  valencia\n",
              "1  Apartamento en Valencia               143      19    5.00  valencia\n",
              "2  Apartamento en Valencia               108      19    4.79  valencia\n",
              "4  Apartamento en Valencia                61     474    4.77  valencia\n",
              "5         Loft en Valencia               114     247    4.97  valencia"
            ]
          },
          "execution_count": 100,
          "metadata": {},
          "output_type": "execute_result"
        }
      ],
      "source": [
        "df_conjunto.head(5)"
      ]
    },
    {
      "cell_type": "code",
      "execution_count": null,
      "metadata": {
        "id": "eOehbi7z4td8"
      },
      "outputs": [],
      "source": [
        "# Vamos a realizar un modelo en el cuál transformaremos los valores de la columna rating del df de airbnb en los del otro df\n",
        "rango_minimo = 0\n",
        "rango_maximo = 100"
      ]
    },
    {
      "cell_type": "code",
      "execution_count": null,
      "metadata": {
        "id": "bWV90U5G4tg9"
      },
      "outputs": [],
      "source": [
        "max_original = df_conjunto[\"rating\"].max()\n",
        "min_original = df_conjunto[\"rating\"].min()\n",
        "factor_escala = (rango_maximo - rango_minimo) / (max_original - min_original)"
      ]
    },
    {
      "cell_type": "code",
      "execution_count": null,
      "metadata": {
        "colab": {
          "base_uri": "https://localhost:8080/"
        },
        "id": "Ls6rcBn24tjW",
        "outputId": "d2dc68e3-a15b-4f4b-832f-917aa6b83709"
      },
      "outputs": [
        {
          "name": "stderr",
          "output_type": "stream",
          "text": [
            "C:\\Users\\Tony\\AppData\\Local\\Temp\\ipykernel_16196\\4181067371.py:1: SettingWithCopyWarning: \n",
            "A value is trying to be set on a copy of a slice from a DataFrame.\n",
            "Try using .loc[row_indexer,col_indexer] = value instead\n",
            "\n",
            "See the caveats in the documentation: https://pandas.pydata.org/pandas-docs/stable/user_guide/indexing.html#returning-a-view-versus-a-copy\n",
            "  df_conjunto[\"rating\"] = [rango_minimo + (valor - min_original) * factor_escala for valor in df_conjunto[\"rating\"]]\n"
          ]
        }
      ],
      "source": [
        "df_conjunto[\"rating\"] = [rango_minimo + (valor - min_original) * factor_escala for valor in df_conjunto[\"rating\"]]"
      ]
    },
    {
      "cell_type": "code",
      "execution_count": null,
      "metadata": {
        "colab": {
          "base_uri": "https://localhost:8080/"
        },
        "id": "7qjgJnIX430O",
        "outputId": "ee62e8c1-05d5-43bd-b144-ae8a80052388"
      },
      "outputs": [
        {
          "data": {
            "text/plain": [
              "array([100,  80,  95,  91,  81,  90,  88,  84,  97,  96,  86,  93,  60,\n",
              "        94,  70,  83,  92,  99,  87,  85,  73,  89,  79,  75,  98,  82,\n",
              "        77,  53,  71,  20,  72,  78,  40,  67,  64,  76,  65,  50,  68,\n",
              "        74,  55,  47,  69,  30])"
            ]
          },
          "execution_count": 107,
          "metadata": {},
          "output_type": "execute_result"
        }
      ],
      "source": [
        "# De esta manera podemos comprobar cómo hemos logrado nuestro objetivo y los valores se han cambiado\n",
        "df_White_Hosting_conjunto[\"review_scores_rating\"].unique().round(2)"
      ]
    },
    {
      "cell_type": "code",
      "execution_count": null,
      "metadata": {
        "colab": {
          "base_uri": "https://localhost:8080/"
        },
        "id": "ADz4rPtI433m",
        "outputId": "3000b632-b06c-420b-adf2-4f9a1a5d79e8"
      },
      "outputs": [
        {
          "data": {
            "text/plain": [
              "array([ 98.57, 100.  ,  85.  ,  83.57,  97.86,  60.  ,  90.71,  91.43,\n",
              "        69.29,  99.29,  92.86,  93.57,  90.  ,  79.29,  92.14,  84.29,\n",
              "        88.57,  73.57,  82.86,  77.86,  74.29,  85.71,  94.29,  82.14,\n",
              "        87.14,  96.43,  62.14,  86.43,  28.57,  75.71,  95.  ,  70.71,\n",
              "        76.43,  78.57,  70.  ,  67.14,  89.29,  80.71,  80.  ,  50.71,\n",
              "        81.43,  62.86,  66.43,  87.86,  52.86,  72.14,  95.71,  68.57,\n",
              "        58.57,  77.14,  61.43,  54.29,  48.57,  65.71,  56.43,  72.86,\n",
              "        75.  ,  97.14,  64.29,  16.43,  71.43,  60.71,  37.86,  65.  ,\n",
              "        59.29,  52.14,   0.  ,  55.71,  18.57,  45.71,  63.57,  57.14,\n",
              "        49.29,  57.86,  67.86])"
            ]
          },
          "execution_count": 108,
          "metadata": {},
          "output_type": "execute_result"
        }
      ],
      "source": [
        "df_conjunto[\"rating\"].unique().round(2)"
      ]
    },
    {
      "cell_type": "code",
      "execution_count": null,
      "metadata": {
        "colab": {
          "base_uri": "https://localhost:8080/"
        },
        "id": "HLSoT0iTh0yc",
        "outputId": "6298e195-f3f3-40e6-e7c6-320c63624a5a"
      },
      "outputs": [
        {
          "name": "stderr",
          "output_type": "stream",
          "text": [
            "C:\\Users\\Tony\\AppData\\Local\\Temp\\ipykernel_16196\\591753294.py:2: SettingWithCopyWarning: \n",
            "A value is trying to be set on a copy of a slice from a DataFrame.\n",
            "Try using .loc[row_indexer,col_indexer] = value instead\n",
            "\n",
            "See the caveats in the documentation: https://pandas.pydata.org/pandas-docs/stable/user_guide/indexing.html#returning-a-view-versus-a-copy\n",
            "  df_conjunto[\"rating\"] = df_conjunto[\"rating\"].astype(int)\n"
          ]
        }
      ],
      "source": [
        "# Transformamos el tipo de dato\n",
        "df_conjunto[\"rating\"] = df_conjunto[\"rating\"].astype(int)"
      ]
    },
    {
      "cell_type": "code",
      "execution_count": null,
      "metadata": {
        "colab": {
          "base_uri": "https://localhost:8080/"
        },
        "id": "hjX5hPKxkqSD",
        "outputId": "e530704d-86be-4d26-813c-74cd6bfd4712"
      },
      "outputs": [
        {
          "data": {
            "text/plain": [
              "array([ 98, 100,  85,  83,  97,  60,  90,  91,  69,  99,  92,  93,  79,\n",
              "        84,  88,  73,  82,  77,  74,  94,  87,  96,  62,  86,  28,  75,\n",
              "        70,  76,  78,  67,  89,  80,  50,  81,  66,  52,  72,  95,  68,\n",
              "        58,  61,  54,  48,  65,  56,  64,  16,  71,  37,  59,   0,  55,\n",
              "        18,  45,  63,  57,  49])"
            ]
          },
          "execution_count": 110,
          "metadata": {},
          "output_type": "execute_result"
        }
      ],
      "source": [
        "df_conjunto[\"rating\"].unique().round(2)"
      ]
    },
    {
      "cell_type": "code",
      "execution_count": null,
      "metadata": {
        "colab": {
          "base_uri": "https://localhost:8080/"
        },
        "id": "vaIdBie-44Bc",
        "outputId": "7ce3c1d0-8334-4892-afc1-45710f3524b0"
      },
      "outputs": [
        {
          "name": "stderr",
          "output_type": "stream",
          "text": [
            "C:\\Users\\Tony\\AppData\\Local\\Temp\\ipykernel_16196\\2681476992.py:2: SettingWithCopyWarning: \n",
            "A value is trying to be set on a copy of a slice from a DataFrame\n",
            "\n",
            "See the caveats in the documentation: https://pandas.pydata.org/pandas-docs/stable/user_guide/indexing.html#returning-a-view-versus-a-copy\n",
            "  df_White_Hosting_conjunto.rename(columns={\"name\":\"nombre\",\"precio\":\"precio_por_noche\",\"number_of_reviews\":\"review\",\"review_scores_rating\":\"rating\",\"city\":\"ciudad\"}, inplace=True)\n"
          ]
        }
      ],
      "source": [
        "# Renombramos las columnas\n",
        "df_White_Hosting_conjunto.rename(columns={\"name\":\"nombre\",\"precio\":\"precio_por_noche\",\"number_of_reviews\":\"review\",\"review_scores_rating\":\"rating\",\"city\":\"ciudad\"}, inplace=True)"
      ]
    },
    {
      "cell_type": "code",
      "execution_count": null,
      "metadata": {
        "colab": {
          "base_uri": "https://localhost:8080/"
        },
        "id": "coiCQj7G5GO2",
        "outputId": "a8a424d4-53b2-449f-88a7-5e0bca1cf58d"
      },
      "outputs": [
        {
          "name": "stderr",
          "output_type": "stream",
          "text": [
            "C:\\Users\\Tony\\AppData\\Local\\Temp\\ipykernel_16196\\1916016969.py:1: SettingWithCopyWarning: \n",
            "A value is trying to be set on a copy of a slice from a DataFrame\n",
            "\n",
            "See the caveats in the documentation: https://pandas.pydata.org/pandas-docs/stable/user_guide/indexing.html#returning-a-view-versus-a-copy\n",
            "  df_conjunto.rename(columns={\"name\":\"nombre\"}, inplace=True)\n"
          ]
        }
      ],
      "source": [
        "df_conjunto.rename(columns={\"name\":\"nombre\"}, inplace=True)"
      ]
    },
    {
      "cell_type": "code",
      "execution_count": null,
      "metadata": {
        "id": "HIeeRyE35GW9"
      },
      "outputs": [],
      "source": [
        "# Por ultima, unimos las dos tablas\n",
        "df_unico = pd.concat([df_White_Hosting_conjunto,df_conjunto], ignore_index=True)"
      ]
    },
    {
      "cell_type": "code",
      "execution_count": null,
      "metadata": {
        "colab": {
          "base_uri": "https://localhost:8080/",
          "height": 1000
        },
        "id": "lFhV9O205Q7B",
        "outputId": "32b27180-e63b-42aa-861b-ddb7a4f31d38"
      },
      "outputs": [
        {
          "data": {
            "text/html": [
              "<div>\n",
              "<style scoped>\n",
              "    .dataframe tbody tr th:only-of-type {\n",
              "        vertical-align: middle;\n",
              "    }\n",
              "\n",
              "    .dataframe tbody tr th {\n",
              "        vertical-align: top;\n",
              "    }\n",
              "\n",
              "    .dataframe thead th {\n",
              "        text-align: right;\n",
              "    }\n",
              "</style>\n",
              "<table border=\"1\" class=\"dataframe\">\n",
              "  <thead>\n",
              "    <tr style=\"text-align: right;\">\n",
              "      <th></th>\n",
              "      <th>nombre</th>\n",
              "      <th>precio_por_noche</th>\n",
              "      <th>review</th>\n",
              "      <th>rating</th>\n",
              "      <th>ciudad</th>\n",
              "    </tr>\n",
              "  </thead>\n",
              "  <tbody>\n",
              "    <tr>\n",
              "      <th>0</th>\n",
              "      <td>Piso reformado excelente ubicacion</td>\n",
              "      <td>90</td>\n",
              "      <td>1</td>\n",
              "      <td>100</td>\n",
              "      <td>valencia</td>\n",
              "    </tr>\n",
              "    <tr>\n",
              "      <th>1</th>\n",
              "      <td>Nice Room in a Penthouse</td>\n",
              "      <td>100</td>\n",
              "      <td>1</td>\n",
              "      <td>80</td>\n",
              "      <td>barcelona</td>\n",
              "    </tr>\n",
              "    <tr>\n",
              "      <th>2</th>\n",
              "      <td>Habitación en Madrid! &lt;&lt;Wifi&gt;&gt;Perfecto para 2!!!</td>\n",
              "      <td>31</td>\n",
              "      <td>33</td>\n",
              "      <td>95</td>\n",
              "      <td>madrid</td>\n",
              "    </tr>\n",
              "    <tr>\n",
              "      <th>3</th>\n",
              "      <td>HABITACIÓN EN BARRIO DE SALAMANCA</td>\n",
              "      <td>40</td>\n",
              "      <td>11</td>\n",
              "      <td>80</td>\n",
              "      <td>madrid</td>\n",
              "    </tr>\n",
              "    <tr>\n",
              "      <th>4</th>\n",
              "      <td>Madrid Central flat - Reina Sofía</td>\n",
              "      <td>65</td>\n",
              "      <td>46</td>\n",
              "      <td>91</td>\n",
              "      <td>madrid</td>\n",
              "    </tr>\n",
              "  </tbody>\n",
              "</table>\n",
              "</div>"
            ],
            "text/plain": [
              "                                             nombre  precio_por_noche  review  \\\n",
              "0                Piso reformado excelente ubicacion                90       1   \n",
              "1                          Nice Room in a Penthouse               100       1   \n",
              "2  Habitación en Madrid! <<Wifi>>Perfecto para 2!!!                31      33   \n",
              "3                 HABITACIÓN EN BARRIO DE SALAMANCA                40      11   \n",
              "4                 Madrid Central flat - Reina Sofía                65      46   \n",
              "\n",
              "   rating     ciudad  \n",
              "0     100   valencia  \n",
              "1      80  barcelona  \n",
              "2      95     madrid  \n",
              "3      80     madrid  \n",
              "4      91     madrid  "
            ]
          },
          "execution_count": 123,
          "metadata": {},
          "output_type": "execute_result"
        }
      ],
      "source": [
        "df_unico.head(5)"
      ]
    },
    {
      "cell_type": "markdown",
      "metadata": {
        "id": "QRiX4uSC5YPf"
      },
      "source": [
        "## 8.¿Hay alguna variable que podríamos añadir para mejorar el análisis?"
      ]
    },
    {
      "cell_type": "markdown",
      "metadata": {
        "id": "kdU3sRut5bdH"
      },
      "source": [
        "Se podria añadir el numero de noches por año que se alquila cada apartamento. Este dato, en conjunto con el precio por noche, ayudaría a saber cual es el inmueble más rentable.\n",
        "\n",
        "También convendría saber el precio total del inmueble, ya que si vamos a invertir una cierta cantidad de dinero, es un dato relevante para calcular la rentabilidad que inmueble de una forma más precisa.\n",
        "\n",
        "Utilizariamos las variables de cantidad de habitaciones, camas, baños, si hay o no terrazas... ya que son factores que influyen en el precio por noche."
      ]
    },
    {
      "cell_type": "markdown",
      "metadata": {
        "id": "npSB3o0r5d5W"
      },
      "source": [
        "## 9.¿Puedes hacer un ranking de los inmuebles más caros?"
      ]
    },
    {
      "cell_type": "markdown",
      "metadata": {
        "id": "lCAfhMuvwE7R"
      },
      "source": [
        "Para poder responder a esta pregunta realizaremos una agrupación y lo ordenaremos mediante el precio"
      ]
    },
    {
      "cell_type": "code",
      "execution_count": null,
      "metadata": {
        "colab": {
          "base_uri": "https://localhost:8080/",
          "height": 363
        },
        "id": "3GR8bES8f5kJ",
        "outputId": "c970aba9-2255-4af8-da08-4cda2ce13bae"
      },
      "outputs": [
        {
          "data": {
            "text/html": [
              "<div>\n",
              "<style scoped>\n",
              "    .dataframe tbody tr th:only-of-type {\n",
              "        vertical-align: middle;\n",
              "    }\n",
              "\n",
              "    .dataframe tbody tr th {\n",
              "        vertical-align: top;\n",
              "    }\n",
              "\n",
              "    .dataframe thead th {\n",
              "        text-align: right;\n",
              "    }\n",
              "</style>\n",
              "<table border=\"1\" class=\"dataframe\">\n",
              "  <thead>\n",
              "    <tr style=\"text-align: right;\">\n",
              "      <th></th>\n",
              "      <th>nombre</th>\n",
              "      <th>ciudad</th>\n",
              "      <th>precio_por_noche</th>\n",
              "    </tr>\n",
              "  </thead>\n",
              "  <tbody>\n",
              "    <tr>\n",
              "      <th>4571</th>\n",
              "      <td>Apartamento en Barcelona</td>\n",
              "      <td>barcelona</td>\n",
              "      <td>582</td>\n",
              "    </tr>\n",
              "    <tr>\n",
              "      <th>4602</th>\n",
              "      <td>Apartamento en Barcelona</td>\n",
              "      <td>barcelona</td>\n",
              "      <td>512</td>\n",
              "    </tr>\n",
              "    <tr>\n",
              "      <th>116</th>\n",
              "      <td>One-Bedroom Apartment - Roisa Suites</td>\n",
              "      <td>madrid</td>\n",
              "      <td>500</td>\n",
              "    </tr>\n",
              "    <tr>\n",
              "      <th>2720</th>\n",
              "      <td>Furnished studio</td>\n",
              "      <td>barcelona</td>\n",
              "      <td>500</td>\n",
              "    </tr>\n",
              "    <tr>\n",
              "      <th>2863</th>\n",
              "      <td>Duplex 1 bd Chueca/ Gran via WIFI</td>\n",
              "      <td>madrid</td>\n",
              "      <td>500</td>\n",
              "    </tr>\n",
              "    <tr>\n",
              "      <th>3117</th>\n",
              "      <td>House with pool in Heart Gracia!</td>\n",
              "      <td>barcelona</td>\n",
              "      <td>500</td>\n",
              "    </tr>\n",
              "    <tr>\n",
              "      <th>3348</th>\n",
              "      <td>Comodidad y terrazón en el centro</td>\n",
              "      <td>madrid</td>\n",
              "      <td>500</td>\n",
              "    </tr>\n",
              "    <tr>\n",
              "      <th>3665</th>\n",
              "      <td>Estudio de diseño en pleno centro de Madrid.</td>\n",
              "      <td>madrid</td>\n",
              "      <td>500</td>\n",
              "    </tr>\n",
              "    <tr>\n",
              "      <th>3695</th>\n",
              "      <td>AB Park Güell Apartment 3-3 - Ref. GI2455</td>\n",
              "      <td>barcelona</td>\n",
              "      <td>500</td>\n",
              "    </tr>\n",
              "    <tr>\n",
              "      <th>1635</th>\n",
              "      <td>2584 - AB Sagrada Família 1-1 - Traditional 3-...</td>\n",
              "      <td>barcelona</td>\n",
              "      <td>500</td>\n",
              "    </tr>\n",
              "  </tbody>\n",
              "</table>\n",
              "</div>"
            ],
            "text/plain": [
              "                                                 nombre     ciudad  \\\n",
              "4571                           Apartamento en Barcelona  barcelona   \n",
              "4602                           Apartamento en Barcelona  barcelona   \n",
              "116                One-Bedroom Apartment - Roisa Suites     madrid   \n",
              "2720                                   Furnished studio  barcelona   \n",
              "2863                  Duplex 1 bd Chueca/ Gran via WIFI     madrid   \n",
              "3117                   House with pool in Heart Gracia!  barcelona   \n",
              "3348                  Comodidad y terrazón en el centro     madrid   \n",
              "3665       Estudio de diseño en pleno centro de Madrid.     madrid   \n",
              "3695          AB Park Güell Apartment 3-3 - Ref. GI2455  barcelona   \n",
              "1635  2584 - AB Sagrada Família 1-1 - Traditional 3-...  barcelona   \n",
              "\n",
              "      precio_por_noche  \n",
              "4571               582  \n",
              "4602               512  \n",
              "116                500  \n",
              "2720               500  \n",
              "2863               500  \n",
              "3117               500  \n",
              "3348               500  \n",
              "3665               500  \n",
              "3695               500  \n",
              "1635               500  "
            ]
          },
          "execution_count": 116,
          "metadata": {},
          "output_type": "execute_result"
        }
      ],
      "source": [
        "# Agrupamos las variables de nombre, ciudad y precio_por_noche y buscamos el precio más alto\n",
        "df_unico[[\"nombre\",\"ciudad\",\"precio_por_noche\"]].sort_values(by= \"precio_por_noche\", ascending=False).head(10)"
      ]
    },
    {
      "cell_type": "markdown",
      "metadata": {
        "id": "KtWvTKiK2b4X"
      },
      "source": [
        "Mostramos un ranking con los 10 alojamientos más caros. Predomina las viviendas en Barcelona y Madrid."
      ]
    },
    {
      "cell_type": "markdown",
      "metadata": {
        "id": "TdrEfsEF5muw"
      },
      "source": [
        "## 10.¿Cuáles son los inmuebles más rentables?"
      ]
    },
    {
      "cell_type": "markdown",
      "metadata": {
        "id": "92fpl4pl0ksq"
      },
      "source": [
        "En este caso responderemos a la pregunta de varias formas. Y lo haremos mostrando un ranking con los 10 inmuebles más rentables variando los factores decisivos."
      ]
    },
    {
      "cell_type": "code",
      "execution_count": null,
      "metadata": {
        "colab": {
          "base_uri": "https://localhost:8080/",
          "height": 363
        },
        "id": "7L0oVQREmiFz",
        "outputId": "78f19493-5cbe-47f7-b871-1b86a9bebf18"
      },
      "outputs": [
        {
          "data": {
            "text/html": [
              "<div>\n",
              "<style scoped>\n",
              "    .dataframe tbody tr th:only-of-type {\n",
              "        vertical-align: middle;\n",
              "    }\n",
              "\n",
              "    .dataframe tbody tr th {\n",
              "        vertical-align: top;\n",
              "    }\n",
              "\n",
              "    .dataframe thead th {\n",
              "        text-align: right;\n",
              "    }\n",
              "</style>\n",
              "<table border=\"1\" class=\"dataframe\">\n",
              "  <thead>\n",
              "    <tr style=\"text-align: right;\">\n",
              "      <th></th>\n",
              "      <th>nombre</th>\n",
              "      <th>review</th>\n",
              "      <th>rating</th>\n",
              "      <th>precio_por_noche</th>\n",
              "    </tr>\n",
              "  </thead>\n",
              "  <tbody>\n",
              "    <tr>\n",
              "      <th>4644</th>\n",
              "      <td>Apartamento en Barcelona</td>\n",
              "      <td>917</td>\n",
              "      <td>77</td>\n",
              "      <td>132</td>\n",
              "    </tr>\n",
              "    <tr>\n",
              "      <th>4174</th>\n",
              "      <td>Loft en Valencia</td>\n",
              "      <td>825</td>\n",
              "      <td>91</td>\n",
              "      <td>166</td>\n",
              "    </tr>\n",
              "    <tr>\n",
              "      <th>4526</th>\n",
              "      <td>Apartamento en Barcelona</td>\n",
              "      <td>806</td>\n",
              "      <td>67</td>\n",
              "      <td>125</td>\n",
              "    </tr>\n",
              "    <tr>\n",
              "      <th>4539</th>\n",
              "      <td>Apartamento en Barcelona</td>\n",
              "      <td>806</td>\n",
              "      <td>67</td>\n",
              "      <td>125</td>\n",
              "    </tr>\n",
              "    <tr>\n",
              "      <th>4561</th>\n",
              "      <td>Apartamento en Barcelona</td>\n",
              "      <td>773</td>\n",
              "      <td>89</td>\n",
              "      <td>115</td>\n",
              "    </tr>\n",
              "    <tr>\n",
              "      <th>4422</th>\n",
              "      <td>Alojamiento en Madrid</td>\n",
              "      <td>689</td>\n",
              "      <td>64</td>\n",
              "      <td>51</td>\n",
              "    </tr>\n",
              "    <tr>\n",
              "      <th>4425</th>\n",
              "      <td>Apartamento en Madrid</td>\n",
              "      <td>636</td>\n",
              "      <td>81</td>\n",
              "      <td>88</td>\n",
              "    </tr>\n",
              "    <tr>\n",
              "      <th>4479</th>\n",
              "      <td>Apartamento en Madrid</td>\n",
              "      <td>600</td>\n",
              "      <td>87</td>\n",
              "      <td>85</td>\n",
              "    </tr>\n",
              "    <tr>\n",
              "      <th>4192</th>\n",
              "      <td>Apartamento en Valencia</td>\n",
              "      <td>579</td>\n",
              "      <td>88</td>\n",
              "      <td>83</td>\n",
              "    </tr>\n",
              "    <tr>\n",
              "      <th>1335</th>\n",
              "      <td>PL REAL (Sq) PENTHOUSE Rooftop</td>\n",
              "      <td>578</td>\n",
              "      <td>92</td>\n",
              "      <td>65</td>\n",
              "    </tr>\n",
              "  </tbody>\n",
              "</table>\n",
              "</div>"
            ],
            "text/plain": [
              "                              nombre  review  rating  precio_por_noche\n",
              "4644        Apartamento en Barcelona     917      77               132\n",
              "4174                Loft en Valencia     825      91               166\n",
              "4526        Apartamento en Barcelona     806      67               125\n",
              "4539        Apartamento en Barcelona     806      67               125\n",
              "4561        Apartamento en Barcelona     773      89               115\n",
              "4422           Alojamiento en Madrid     689      64                51\n",
              "4425           Apartamento en Madrid     636      81                88\n",
              "4479           Apartamento en Madrid     600      87                85\n",
              "4192         Apartamento en Valencia     579      88                83\n",
              "1335  PL REAL (Sq) PENTHOUSE Rooftop     578      92                65"
            ]
          },
          "execution_count": 118,
          "metadata": {},
          "output_type": "execute_result"
        }
      ],
      "source": [
        "# La primera es seleccionando diferentes columnas y ordenarlas por un orden de preferencia\n",
        "# que será primero review, luego precio_por_noche y, por ultimo, rating; buscando siempre las review y rating más altos y un precio más bajo\n",
        "df_unico[[\"nombre\",\"review\",\"rating\",\"precio_por_noche\"]].sort_values(by=[\"review\",\"precio_por_noche\",\"rating\"],ascending=[False,True,False]).head(10)"
      ]
    },
    {
      "cell_type": "code",
      "execution_count": null,
      "metadata": {
        "colab": {
          "base_uri": "https://localhost:8080/",
          "height": 363
        },
        "id": "zm3rxSPloKk0",
        "outputId": "6d886079-8075-4a54-8cfc-bf8213142d9a"
      },
      "outputs": [
        {
          "data": {
            "text/html": [
              "<div>\n",
              "<style scoped>\n",
              "    .dataframe tbody tr th:only-of-type {\n",
              "        vertical-align: middle;\n",
              "    }\n",
              "\n",
              "    .dataframe tbody tr th {\n",
              "        vertical-align: top;\n",
              "    }\n",
              "\n",
              "    .dataframe thead th {\n",
              "        text-align: right;\n",
              "    }\n",
              "</style>\n",
              "<table border=\"1\" class=\"dataframe\">\n",
              "  <thead>\n",
              "    <tr style=\"text-align: right;\">\n",
              "      <th></th>\n",
              "      <th>nombre</th>\n",
              "      <th>review</th>\n",
              "      <th>rating</th>\n",
              "      <th>precio_por_noche</th>\n",
              "    </tr>\n",
              "  </thead>\n",
              "  <tbody>\n",
              "    <tr>\n",
              "      <th>4644</th>\n",
              "      <td>Apartamento en Barcelona</td>\n",
              "      <td>917</td>\n",
              "      <td>77</td>\n",
              "      <td>132</td>\n",
              "    </tr>\n",
              "    <tr>\n",
              "      <th>4174</th>\n",
              "      <td>Loft en Valencia</td>\n",
              "      <td>825</td>\n",
              "      <td>91</td>\n",
              "      <td>166</td>\n",
              "    </tr>\n",
              "    <tr>\n",
              "      <th>4526</th>\n",
              "      <td>Apartamento en Barcelona</td>\n",
              "      <td>806</td>\n",
              "      <td>67</td>\n",
              "      <td>125</td>\n",
              "    </tr>\n",
              "    <tr>\n",
              "      <th>4539</th>\n",
              "      <td>Apartamento en Barcelona</td>\n",
              "      <td>806</td>\n",
              "      <td>67</td>\n",
              "      <td>125</td>\n",
              "    </tr>\n",
              "    <tr>\n",
              "      <th>4561</th>\n",
              "      <td>Apartamento en Barcelona</td>\n",
              "      <td>773</td>\n",
              "      <td>89</td>\n",
              "      <td>115</td>\n",
              "    </tr>\n",
              "    <tr>\n",
              "      <th>4422</th>\n",
              "      <td>Alojamiento en Madrid</td>\n",
              "      <td>689</td>\n",
              "      <td>64</td>\n",
              "      <td>51</td>\n",
              "    </tr>\n",
              "    <tr>\n",
              "      <th>4425</th>\n",
              "      <td>Apartamento en Madrid</td>\n",
              "      <td>636</td>\n",
              "      <td>81</td>\n",
              "      <td>88</td>\n",
              "    </tr>\n",
              "    <tr>\n",
              "      <th>4479</th>\n",
              "      <td>Apartamento en Madrid</td>\n",
              "      <td>600</td>\n",
              "      <td>87</td>\n",
              "      <td>85</td>\n",
              "    </tr>\n",
              "    <tr>\n",
              "      <th>4192</th>\n",
              "      <td>Apartamento en Valencia</td>\n",
              "      <td>579</td>\n",
              "      <td>88</td>\n",
              "      <td>83</td>\n",
              "    </tr>\n",
              "    <tr>\n",
              "      <th>1335</th>\n",
              "      <td>PL REAL (Sq) PENTHOUSE Rooftop</td>\n",
              "      <td>578</td>\n",
              "      <td>92</td>\n",
              "      <td>65</td>\n",
              "    </tr>\n",
              "  </tbody>\n",
              "</table>\n",
              "</div>"
            ],
            "text/plain": [
              "                              nombre  review  rating  precio_por_noche\n",
              "4644        Apartamento en Barcelona     917      77               132\n",
              "4174                Loft en Valencia     825      91               166\n",
              "4526        Apartamento en Barcelona     806      67               125\n",
              "4539        Apartamento en Barcelona     806      67               125\n",
              "4561        Apartamento en Barcelona     773      89               115\n",
              "4422           Alojamiento en Madrid     689      64                51\n",
              "4425           Apartamento en Madrid     636      81                88\n",
              "4479           Apartamento en Madrid     600      87                85\n",
              "4192         Apartamento en Valencia     579      88                83\n",
              "1335  PL REAL (Sq) PENTHOUSE Rooftop     578      92                65"
            ]
          },
          "execution_count": 120,
          "metadata": {},
          "output_type": "execute_result"
        }
      ],
      "source": [
        "# En esta segunda haremos lo mismos pero buscando los alojamientos con precio altos\n",
        "df_unico[[\"nombre\",\"review\",\"rating\",\"precio_por_noche\"]].sort_values(by=[\"review\",\"precio_por_noche\",\"rating\"],ascending=[False,False,False]).head(10)"
      ]
    },
    {
      "cell_type": "code",
      "execution_count": null,
      "metadata": {
        "colab": {
          "base_uri": "https://localhost:8080/",
          "height": 363
        },
        "id": "dJT-FUZ6GVSV",
        "outputId": "9d9bc0f6-69d2-4217-94f1-a5c5b2a3ed5c"
      },
      "outputs": [
        {
          "data": {
            "text/html": [
              "<div>\n",
              "<style scoped>\n",
              "    .dataframe tbody tr th:only-of-type {\n",
              "        vertical-align: middle;\n",
              "    }\n",
              "\n",
              "    .dataframe tbody tr th {\n",
              "        vertical-align: top;\n",
              "    }\n",
              "\n",
              "    .dataframe thead th {\n",
              "        text-align: right;\n",
              "    }\n",
              "</style>\n",
              "<table border=\"1\" class=\"dataframe\">\n",
              "  <thead>\n",
              "    <tr style=\"text-align: right;\">\n",
              "      <th></th>\n",
              "      <th>nombre</th>\n",
              "      <th>review</th>\n",
              "      <th>rating</th>\n",
              "    </tr>\n",
              "  </thead>\n",
              "  <tbody>\n",
              "    <tr>\n",
              "      <th>4644</th>\n",
              "      <td>Apartamento en Barcelona</td>\n",
              "      <td>917</td>\n",
              "      <td>77</td>\n",
              "    </tr>\n",
              "    <tr>\n",
              "      <th>4174</th>\n",
              "      <td>Loft en Valencia</td>\n",
              "      <td>825</td>\n",
              "      <td>91</td>\n",
              "    </tr>\n",
              "    <tr>\n",
              "      <th>4526</th>\n",
              "      <td>Apartamento en Barcelona</td>\n",
              "      <td>806</td>\n",
              "      <td>67</td>\n",
              "    </tr>\n",
              "    <tr>\n",
              "      <th>4539</th>\n",
              "      <td>Apartamento en Barcelona</td>\n",
              "      <td>806</td>\n",
              "      <td>67</td>\n",
              "    </tr>\n",
              "    <tr>\n",
              "      <th>4561</th>\n",
              "      <td>Apartamento en Barcelona</td>\n",
              "      <td>773</td>\n",
              "      <td>89</td>\n",
              "    </tr>\n",
              "    <tr>\n",
              "      <th>4422</th>\n",
              "      <td>Alojamiento en Madrid</td>\n",
              "      <td>689</td>\n",
              "      <td>64</td>\n",
              "    </tr>\n",
              "    <tr>\n",
              "      <th>4425</th>\n",
              "      <td>Apartamento en Madrid</td>\n",
              "      <td>636</td>\n",
              "      <td>81</td>\n",
              "    </tr>\n",
              "    <tr>\n",
              "      <th>4479</th>\n",
              "      <td>Apartamento en Madrid</td>\n",
              "      <td>600</td>\n",
              "      <td>87</td>\n",
              "    </tr>\n",
              "    <tr>\n",
              "      <th>4192</th>\n",
              "      <td>Apartamento en Valencia</td>\n",
              "      <td>579</td>\n",
              "      <td>88</td>\n",
              "    </tr>\n",
              "    <tr>\n",
              "      <th>1335</th>\n",
              "      <td>PL REAL (Sq) PENTHOUSE Rooftop</td>\n",
              "      <td>578</td>\n",
              "      <td>92</td>\n",
              "    </tr>\n",
              "  </tbody>\n",
              "</table>\n",
              "</div>"
            ],
            "text/plain": [
              "                              nombre  review  rating\n",
              "4644        Apartamento en Barcelona     917      77\n",
              "4174                Loft en Valencia     825      91\n",
              "4526        Apartamento en Barcelona     806      67\n",
              "4539        Apartamento en Barcelona     806      67\n",
              "4561        Apartamento en Barcelona     773      89\n",
              "4422           Alojamiento en Madrid     689      64\n",
              "4425           Apartamento en Madrid     636      81\n",
              "4479           Apartamento en Madrid     600      87\n",
              "4192         Apartamento en Valencia     579      88\n",
              "1335  PL REAL (Sq) PENTHOUSE Rooftop     578      92"
            ]
          },
          "execution_count": 121,
          "metadata": {},
          "output_type": "execute_result"
        }
      ],
      "source": [
        "# Y por último, comprobaremos cuales son los mejores alojamientos sin tener en cuenta el precio\n",
        "df_unico[[\"nombre\",\"review\",\"rating\"]].sort_values(by=[\"review\",\"rating\"], ascending=[False,False]).head(10)"
      ]
    },
    {
      "cell_type": "markdown",
      "metadata": {
        "id": "epDFJFJD1qSM"
      },
      "source": [
        "Podemos concluir que los alojamientos más rentables se encuentran repartidos entre Barcelona y Madrid"
      ]
    },
    {
      "cell_type": "markdown",
      "metadata": {
        "id": "zOLzwLDH58HI"
      },
      "source": [
        "## 11.Teniendo en cuenta todo el conocimiento adquirido , cuales son tus sugerencias a la hora de invertir 300 millones de euros."
      ]
    },
    {
      "cell_type": "markdown",
      "metadata": {
        "id": "sSlg5TeiroEJ"
      },
      "source": [
        " Para dar una respuesta a esta pregunta tuvimos que buscar una tabla que nos proporcionara el precio por metro cuadrado de una vivienda\n",
        " en Valencia, Madrid y Barcelona. Luego buscaríamos cuantos metros cuadrados tiene aproximadamente un inmueble en estas ciudades y de esa\n",
        " manera saber el precio de las viviendas."
      ]
    },
    {
      "cell_type": "code",
      "execution_count": null,
      "metadata": {
        "id": "nCt0--D86iKN",
        "outputId": "72d1b7e8-42fb-42f6-9c8b-fc0c9cbe80f9"
      },
      "outputs": [
        {
          "data": {
            "text/html": [
              "<div>\n",
              "<style scoped>\n",
              "    .dataframe tbody tr th:only-of-type {\n",
              "        vertical-align: middle;\n",
              "    }\n",
              "\n",
              "    .dataframe tbody tr th {\n",
              "        vertical-align: top;\n",
              "    }\n",
              "\n",
              "    .dataframe thead th {\n",
              "        text-align: right;\n",
              "    }\n",
              "</style>\n",
              "<table border=\"1\" class=\"dataframe\">\n",
              "  <thead>\n",
              "    <tr style=\"text-align: right;\">\n",
              "      <th></th>\n",
              "      <th>Provincia</th>\n",
              "      <th>Barrio</th>\n",
              "      <th>Precio m2</th>\n",
              "    </tr>\n",
              "  </thead>\n",
              "  <tbody>\n",
              "    <tr>\n",
              "      <th>0</th>\n",
              "      <td>Valencia</td>\n",
              "      <td>Valencia</td>\n",
              "      <td>2317</td>\n",
              "    </tr>\n",
              "    <tr>\n",
              "      <th>1</th>\n",
              "      <td>Valencia</td>\n",
              "      <td>Agullent</td>\n",
              "      <td>625</td>\n",
              "    </tr>\n",
              "    <tr>\n",
              "      <th>2</th>\n",
              "      <td>Valencia</td>\n",
              "      <td>Alaquás</td>\n",
              "      <td>1142</td>\n",
              "    </tr>\n",
              "    <tr>\n",
              "      <th>3</th>\n",
              "      <td>Valencia</td>\n",
              "      <td>Albaida</td>\n",
              "      <td>598</td>\n",
              "    </tr>\n",
              "    <tr>\n",
              "      <th>4</th>\n",
              "      <td>Valencia</td>\n",
              "      <td>Albalat Dels Tarongers</td>\n",
              "      <td>886</td>\n",
              "    </tr>\n",
              "  </tbody>\n",
              "</table>\n",
              "</div>"
            ],
            "text/plain": [
              "  Provincia                  Barrio  Precio m2\n",
              "0  Valencia                Valencia       2317\n",
              "1  Valencia                Agullent        625\n",
              "2  Valencia                 Alaquás       1142\n",
              "3  Valencia                 Albaida        598\n",
              "4  Valencia  Albalat Dels Tarongers        886"
            ]
          },
          "execution_count": 139,
          "metadata": {},
          "output_type": "execute_result"
        }
      ],
      "source": [
        "precio_medio = pd.read_csv(\"Precio_piso-m2.csv\", encoding='latin-1')\n",
        "precio_medio.rename(columns = {\"Precio m2 ene 2024\":\"Precio m2\"}, inplace = True)\n",
        "precio_medio.head(5)"
      ]
    },
    {
      "cell_type": "code",
      "execution_count": null,
      "metadata": {
        "id": "elLy6Z8Kx_co"
      },
      "outputs": [],
      "source": [
        "# Filtramos por ciudad\n",
        "valencia_df = precio_medio[precio_medio[\"Provincia\"] == \"Valencia\"]\n",
        "madrid_df = precio_medio[precio_medio[\"Provincia\"] == \"Madrid\"]\n",
        "barcelona_df = precio_medio[precio_medio[\"Provincia\"] == \"Barcelona\"]"
      ]
    },
    {
      "cell_type": "code",
      "execution_count": null,
      "metadata": {
        "id": "lrU6nKCdyoYP"
      },
      "outputs": [],
      "source": [
        "# Y calculamos la media de precio por metro cuadrado de cada ciudad y lo multiplicamos por los metros cuadrados de una vivienda\n",
        "promedio_valencia = (valencia_df[\"Precio m2\"].mean()* 170).round()\n",
        "promedio_madrid = (madrid_df[\"Precio m2\"].mean() * 82.9).round()\n",
        "promedio_barcelona = (barcelona_df[\"Precio m2\"].mean() * 109.8).round()"
      ]
    },
    {
      "cell_type": "code",
      "execution_count": null,
      "metadata": {
        "colab": {
          "base_uri": "https://localhost:8080/"
        },
        "id": "qXXRGCPm8mKW",
        "outputId": "d903ed44-4460-471b-b08f-0814096466bc"
      },
      "outputs": [
        {
          "data": {
            "text/plain": [
              "152465.0"
            ]
          },
          "execution_count": 131,
          "metadata": {},
          "output_type": "execute_result"
        }
      ],
      "source": [
        "promedio_madrid"
      ]
    },
    {
      "cell_type": "code",
      "execution_count": null,
      "metadata": {
        "colab": {
          "base_uri": "https://localhost:8080/"
        },
        "id": "cKzuFK4zjFNt",
        "outputId": "385f539a-631d-45e1-b6fe-9adc096cad30"
      },
      "outputs": [
        {
          "data": {
            "text/plain": [
              "196697.0"
            ]
          },
          "execution_count": 132,
          "metadata": {},
          "output_type": "execute_result"
        }
      ],
      "source": [
        "promedio_valencia"
      ]
    },
    {
      "cell_type": "code",
      "execution_count": null,
      "metadata": {
        "colab": {
          "base_uri": "https://localhost:8080/"
        },
        "id": "LK0rZdEjjJ1p",
        "outputId": "add20683-df72-432c-c6f7-f9c04d5f8d37"
      },
      "outputs": [
        {
          "data": {
            "text/plain": [
              "197152.0"
            ]
          },
          "execution_count": 133,
          "metadata": {},
          "output_type": "execute_result"
        }
      ],
      "source": [
        "promedio_barcelona"
      ]
    },
    {
      "cell_type": "code",
      "execution_count": null,
      "metadata": {
        "id": "8RfHiGl55UA6"
      },
      "outputs": [],
      "source": [
        "# A continuación, incorporamos esos valores a nuestra tabla\n",
        "df_unico['Precio_casa'] = df_unico.apply(lambda x: promedio_valencia if x['ciudad'] == 'valencia' else (promedio_madrid if x[\"ciudad\"] == \"madrid\" else promedio_barcelona), axis=1)"
      ]
    },
    {
      "cell_type": "code",
      "execution_count": null,
      "metadata": {
        "id": "OSvJcxz6owgI"
      },
      "outputs": [],
      "source": [
        "# Y modificamos el tipo de dato\n",
        "df_unico['Precio_casa'] = df_unico['Precio_casa'].astype(int)"
      ]
    },
    {
      "cell_type": "code",
      "execution_count": null,
      "metadata": {
        "colab": {
          "base_uri": "https://localhost:8080/",
          "height": 206
        },
        "id": "xB_Apyk-gb5L",
        "outputId": "3c608c7b-4e46-45f6-8f15-d19b0c4c8de3"
      },
      "outputs": [
        {
          "data": {
            "text/html": [
              "<div>\n",
              "<style scoped>\n",
              "    .dataframe tbody tr th:only-of-type {\n",
              "        vertical-align: middle;\n",
              "    }\n",
              "\n",
              "    .dataframe tbody tr th {\n",
              "        vertical-align: top;\n",
              "    }\n",
              "\n",
              "    .dataframe thead th {\n",
              "        text-align: right;\n",
              "    }\n",
              "</style>\n",
              "<table border=\"1\" class=\"dataframe\">\n",
              "  <thead>\n",
              "    <tr style=\"text-align: right;\">\n",
              "      <th></th>\n",
              "      <th>nombre</th>\n",
              "      <th>precio_por_noche</th>\n",
              "      <th>review</th>\n",
              "      <th>rating</th>\n",
              "      <th>ciudad</th>\n",
              "      <th>Precio_casa</th>\n",
              "    </tr>\n",
              "  </thead>\n",
              "  <tbody>\n",
              "    <tr>\n",
              "      <th>0</th>\n",
              "      <td>Piso reformado excelente ubicacion</td>\n",
              "      <td>90</td>\n",
              "      <td>1</td>\n",
              "      <td>100</td>\n",
              "      <td>valencia</td>\n",
              "      <td>196697</td>\n",
              "    </tr>\n",
              "    <tr>\n",
              "      <th>1</th>\n",
              "      <td>Nice Room in a Penthouse</td>\n",
              "      <td>100</td>\n",
              "      <td>1</td>\n",
              "      <td>80</td>\n",
              "      <td>barcelona</td>\n",
              "      <td>197152</td>\n",
              "    </tr>\n",
              "    <tr>\n",
              "      <th>2</th>\n",
              "      <td>Habitación en Madrid! &lt;&lt;Wifi&gt;&gt;Perfecto para 2!!!</td>\n",
              "      <td>31</td>\n",
              "      <td>33</td>\n",
              "      <td>95</td>\n",
              "      <td>madrid</td>\n",
              "      <td>152465</td>\n",
              "    </tr>\n",
              "    <tr>\n",
              "      <th>3</th>\n",
              "      <td>HABITACIÓN EN BARRIO DE SALAMANCA</td>\n",
              "      <td>40</td>\n",
              "      <td>11</td>\n",
              "      <td>80</td>\n",
              "      <td>madrid</td>\n",
              "      <td>152465</td>\n",
              "    </tr>\n",
              "    <tr>\n",
              "      <th>4</th>\n",
              "      <td>Madrid Central flat - Reina Sofía</td>\n",
              "      <td>65</td>\n",
              "      <td>46</td>\n",
              "      <td>91</td>\n",
              "      <td>madrid</td>\n",
              "      <td>152465</td>\n",
              "    </tr>\n",
              "  </tbody>\n",
              "</table>\n",
              "</div>"
            ],
            "text/plain": [
              "                                             nombre  precio_por_noche  review  \\\n",
              "0                Piso reformado excelente ubicacion                90       1   \n",
              "1                          Nice Room in a Penthouse               100       1   \n",
              "2  Habitación en Madrid! <<Wifi>>Perfecto para 2!!!                31      33   \n",
              "3                 HABITACIÓN EN BARRIO DE SALAMANCA                40      11   \n",
              "4                 Madrid Central flat - Reina Sofía                65      46   \n",
              "\n",
              "   rating     ciudad  Precio_casa  \n",
              "0     100   valencia       196697  \n",
              "1      80  barcelona       197152  \n",
              "2      95     madrid       152465  \n",
              "3      80     madrid       152465  \n",
              "4      91     madrid       152465  "
            ]
          },
          "execution_count": 140,
          "metadata": {},
          "output_type": "execute_result"
        }
      ],
      "source": [
        "df_unico.head(5)"
      ]
    },
    {
      "cell_type": "code",
      "execution_count": null,
      "metadata": {
        "id": "BHuV85o5LfkH"
      },
      "outputs": [],
      "source": [
        "df_valor_inmueble = df_unico[[\"nombre\",\"ciudad\",\"review\",\"rating\",\"precio_por_noche\",\"Precio_casa\"]].sort_values(by=[\"review\",\"precio_por_noche\",\"rating\"], ascending=[False,False,False]).reset_index()\n",
        "df_valor_inmueble.head(5)"
      ]
    },
    {
      "cell_type": "code",
      "execution_count": null,
      "metadata": {
        "colab": {
          "base_uri": "https://localhost:8080/"
        },
        "id": "JbVEibR66hiK",
        "outputId": "9a1ffbb5-8109-4f5d-c0e7-5e415468c4c5"
      },
      "outputs": [
        {
          "data": {
            "text/plain": [
              "846504998"
            ]
          },
          "execution_count": 143,
          "metadata": {},
          "output_type": "execute_result"
        }
      ],
      "source": [
        "df_valor_inmueble[\"Precio_casa\"].sum()"
      ]
    },
    {
      "cell_type": "code",
      "execution_count": null,
      "metadata": {
        "id": "fUjOP_XupSr8"
      },
      "outputs": [],
      "source": [
        "# Para responder a la pregunta vamos a agrupar la tabla y a filtrar por ciudades y de ese modo decidir donde sería mejor invertir.\n",
        "df_valor_inmueble = df_unico[[\"nombre\",\"ciudad\",\"review\",\"rating\",\"precio_por_noche\",\"Precio_casa\"]].sort_values(by=[\"review\",\"precio_por_noche\",\"rating\"], ascending=[False,False,False]).reset_index()"
      ]
    },
    {
      "cell_type": "code",
      "execution_count": null,
      "metadata": {
        "id": "9BAyN9RnmNoE"
      },
      "outputs": [],
      "source": [
        "valencia = df_valor_inmueble[df_valor_inmueble[\"ciudad\"] == \"valencia\"]"
      ]
    },
    {
      "cell_type": "code",
      "execution_count": null,
      "metadata": {
        "colab": {
          "base_uri": "https://localhost:8080/"
        },
        "id": "XpYBI7wsc-_4",
        "outputId": "21fd7b02-628e-4dc1-ab44-d7a0a6a19c34"
      },
      "outputs": [
        {
          "data": {
            "text/plain": [
              "679"
            ]
          },
          "execution_count": 147,
          "metadata": {},
          "output_type": "execute_result"
        }
      ],
      "source": [
        "valencia[\"Precio_casa\"].count()"
      ]
    },
    {
      "cell_type": "code",
      "execution_count": null,
      "metadata": {
        "id": "VM3qQf26Ms3t"
      },
      "outputs": [],
      "source": [
        "barcelona = df_valor_inmueble[df_valor_inmueble[\"ciudad\"] == \"barcelona\"]"
      ]
    },
    {
      "cell_type": "code",
      "execution_count": null,
      "metadata": {
        "colab": {
          "base_uri": "https://localhost:8080/"
        },
        "id": "AJ6xcMqbdF-X",
        "outputId": "1975b205-68f0-4f5b-be85-209b37f606de"
      },
      "outputs": [
        {
          "data": {
            "text/plain": [
              "2225"
            ]
          },
          "execution_count": 150,
          "metadata": {},
          "output_type": "execute_result"
        }
      ],
      "source": [
        "barcelona[\"Precio_casa\"].count()"
      ]
    },
    {
      "cell_type": "code",
      "execution_count": null,
      "metadata": {
        "id": "OUZY-BqLMtDx"
      },
      "outputs": [],
      "source": [
        "madrid = df_valor_inmueble[df_valor_inmueble[\"ciudad\"] == \"madrid\"]"
      ]
    },
    {
      "cell_type": "code",
      "execution_count": null,
      "metadata": {
        "colab": {
          "base_uri": "https://localhost:8080/"
        },
        "id": "e5BQH-_mdJpw",
        "outputId": "5bf2cfb7-aaf9-40b1-fb78-24b883d5376d"
      },
      "outputs": [
        {
          "data": {
            "text/plain": [
              "1799"
            ]
          },
          "execution_count": 153,
          "metadata": {},
          "output_type": "execute_result"
        }
      ],
      "source": [
        "madrid[\"Precio_casa\"].count()"
      ]
    },
    {
      "cell_type": "markdown",
      "metadata": {
        "id": "CgqFDHvRroEP"
      },
      "source": [
        "La respuesta final a esta pregunta se ve en la presentacion."
      ]
    },
    {
      "cell_type": "markdown",
      "metadata": {
        "id": "laCU__gnjTDo"
      },
      "source": [
        "# Guardar los df en csv"
      ]
    },
    {
      "cell_type": "markdown",
      "metadata": {
        "id": "5xYKJfKO7nCE"
      },
      "source": [
        "Vamos a guardar en csv los dataframe de airbnb, el de White_Hosting y el dataframe que hemos creado."
      ]
    },
    {
      "cell_type": "code",
      "execution_count": null,
      "metadata": {
        "id": "XQnYDvizkHLK"
      },
      "outputs": [],
      "source": [
        "# Reseteamos el índice de las tres tablas y guardamos\n",
        "df.reset_index(drop=True,inplace=True)"
      ]
    },
    {
      "cell_type": "code",
      "execution_count": null,
      "metadata": {
        "id": "ib0oDOhsjntb"
      },
      "outputs": [],
      "source": [
        "df.to_csv(\"Airbnb.csv\", index=False)"
      ]
    },
    {
      "cell_type": "code",
      "execution_count": null,
      "metadata": {
        "id": "EG_bIlqvjnw1"
      },
      "outputs": [],
      "source": [
        "df_White_Hosting.reset_index(drop=True,inplace=True)"
      ]
    },
    {
      "cell_type": "code",
      "execution_count": null,
      "metadata": {
        "id": "lEG94C2Gkz0y"
      },
      "outputs": [],
      "source": [
        "df_White_Hosting.to_csv(\"White_Hosting.csv\", index=False)"
      ]
    },
    {
      "cell_type": "code",
      "execution_count": null,
      "metadata": {
        "id": "0sxoHSXdnt-j"
      },
      "outputs": [],
      "source": [
        "df_unico.reset_index(drop=True,inplace=True)"
      ]
    },
    {
      "cell_type": "code",
      "execution_count": null,
      "metadata": {
        "id": "ySMc0YQ4n6dc"
      },
      "outputs": [],
      "source": [
        "df_unico.to_csv(\"unico.csv\",index=False)"
      ]
    }
  ],
  "metadata": {
    "colab": {
      "provenance": []
    },
    "kernelspec": {
      "display_name": "Python 3",
      "name": "python3"
    },
    "language_info": {
      "codemirror_mode": {
        "name": "ipython",
        "version": 3
      },
      "file_extension": ".py",
      "mimetype": "text/x-python",
      "name": "python",
      "nbconvert_exporter": "python",
      "pygments_lexer": "ipython3",
      "version": "3.9.7"
    }
  },
  "nbformat": 4,
  "nbformat_minor": 0
}